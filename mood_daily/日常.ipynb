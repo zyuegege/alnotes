{
 "cells": [
  {
   "cell_type": "markdown",
   "metadata": {},
   "source": [
    "# 日常\n",
    "\n",
    "\n",
    "月有阴晴圆缺，生活从来都不容易，需要发泄与表达。\n",
    "\n",
    "----"
   ]
  },
  {
   "cell_type": "markdown",
   "metadata": {},
   "source": [
    "## 目录\n",
    "\n",
    "- [夜](#夜)"
   ]
  },
  {
   "cell_type": "markdown",
   "metadata": {},
   "source": [
    "## 夜\n",
    "\n",
    "<p style=\"text-align:right\">\n",
    "2019-4-16 晚 于电子科技大学立人楼\n",
    "</p>\n",
    "\n",
    "---\n",
    "\n",
    "<div>\n",
    "\n",
    "<p style=\"text-align:center\">\n",
    "夜晚总是非常宁静，即使是灯火通明，也觉得静。\n",
    "</p>\n",
    "\n",
    "<p style=\"text-align:center\">\n",
    "以前，我喜欢这种静，可以静静的思考，也可以不思考，只是向远方的夜空瞭望。\n",
    "</p>\n",
    "\n",
    "<p style=\"text-align:center\">\n",
    "现在，我有些害怕这夜，只是因为少了些什么，有些不安与焦虑。\n",
    "</p>\n",
    "\n",
    "<p style=\"text-align:center\">\n",
    "我知道少了什么，少了你，这夜晚就像是一条阻隔这我们的长长的河海，一望而无际。\n",
    "</p>\n",
    "\n",
    "<p style=\"text-align:center\">\n",
    "期待与你每一次的相遇，害怕每一次的分离。\n",
    "</p>\n",
    "\n",
    "<p style=\"text-align:center\">\n",
    "即使是每天都能相见，每天都能牵手，在没有你的时候，脑海里面全是你的身影，耳旁回响着的全是你的话语。\n",
    "</p>\n",
    "\n",
    "<p style=\"text-align:center\">\n",
    "我想你，真的想你，我想打破这寂静的黑夜，让我来到你的身边，永远陪在你的身边。\n",
    "</p>\n",
    "\n",
    "</div>"
   ]
  },
  {
   "cell_type": "markdown",
   "metadata": {},
   "source": []
  },
  {
   "cell_type": "code",
   "execution_count": null,
   "metadata": {},
   "outputs": [],
   "source": []
  }
 ],
 "metadata": {
  "kernelspec": {
   "display_name": "Python 3",
   "language": "python",
   "name": "python3"
  },
  "language_info": {
   "codemirror_mode": {
    "name": "ipython",
    "version": 3
   },
   "file_extension": ".py",
   "mimetype": "text/x-python",
   "name": "python",
   "nbconvert_exporter": "python",
   "pygments_lexer": "ipython3",
   "version": "3.6.8"
  }
 },
 "nbformat": 4,
 "nbformat_minor": 2
}
