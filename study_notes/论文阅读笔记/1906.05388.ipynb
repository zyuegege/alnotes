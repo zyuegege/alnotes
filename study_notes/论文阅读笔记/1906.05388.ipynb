{
 "cells": [
  {
   "cell_type": "markdown",
   "metadata": {},
   "source": [
    "# Assisted Excitation of Activations: A Learning Technique to Improve Object Detectors"
   ]
  },
  {
   "cell_type": "markdown",
   "metadata": {},
   "source": [
    "-----"
   ]
  },
  {
   "cell_type": "markdown",
   "metadata": {},
   "source": [
    "论文地址:[https://arxiv.org/pdf/1906.05388.pdf](https://arxiv.org/pdf/1906.05388.pdf)"
   ]
  },
  {
   "cell_type": "markdown",
   "metadata": {},
   "source": [
    "超越YOLOv3！改进目标检测器的学习技术"
   ]
  },
  {
   "cell_type": "markdown",
   "metadata": {},
   "source": [
    "论文讲述了利用GroundTruth在训练阶段来加强训练，在测试阶段则不使用GroundTruth。以获得更好的结果。"
   ]
  }
 ],
 "metadata": {
  "kernelspec": {
   "display_name": "Python 3",
   "language": "python",
   "name": "python3"
  },
  "language_info": {
   "codemirror_mode": {
    "name": "ipython",
    "version": 3
   },
   "file_extension": ".py",
   "mimetype": "text/x-python",
   "name": "python",
   "nbconvert_exporter": "python",
   "pygments_lexer": "ipython3",
   "version": "3.6.8"
  }
 },
 "nbformat": 4,
 "nbformat_minor": 2
}
