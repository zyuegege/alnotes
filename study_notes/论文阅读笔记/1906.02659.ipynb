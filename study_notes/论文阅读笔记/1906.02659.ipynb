{
 "cells": [
  {
   "cell_type": "markdown",
   "metadata": {},
   "source": [
    "# Does Object Recognition Work for Everyone?"
   ]
  },
  {
   "cell_type": "markdown",
   "metadata": {},
   "source": [
    "论文链接: [https://arxiv.org/pdf/1906.02659.pdf](https://arxiv.org/pdf/1906.02659.pdf)"
   ]
  },
  {
   "cell_type": "markdown",
   "metadata": {},
   "source": [
    "论文讲述了，当前的关于计算机视觉领域的目标识别系统在不同地域和不同的收入家庭两个不同的变量条件下的Top5准确率。在低收入的家庭的识别准确率明显低于在高收入家庭的准确率。并从这些目标识别系统的训练数据的地理分布和收集方式两方面分析了产生差异性的原因。"
   ]
  }
 ],
 "metadata": {
  "kernelspec": {
   "display_name": "Python 3",
   "language": "python",
   "name": "python3"
  },
  "language_info": {
   "codemirror_mode": {
    "name": "ipython",
    "version": 3
   },
   "file_extension": ".py",
   "mimetype": "text/x-python",
   "name": "python",
   "nbconvert_exporter": "python",
   "pygments_lexer": "ipython3",
   "version": "3.6.8"
  }
 },
 "nbformat": 4,
 "nbformat_minor": 2
}
