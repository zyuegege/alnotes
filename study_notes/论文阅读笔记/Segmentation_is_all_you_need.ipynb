{
 "cells": [
  {
   "cell_type": "markdown",
   "metadata": {},
   "source": [
    "<h1 style=\"text-align:center\" id=\"笔记\">Segmentations is All You Need<a class=\"anchor-link\" href=\"#Segmentations is All You Need\">¶</a></h1>"
   ]
  },
  {
   "cell_type": "markdown",
   "metadata": {},
   "source": [
    "<p style=\"text-align:center\">\n",
    "    <strong>论文地址：</strong>\n",
    "    <a href=\"https://arxiv.org/abs/1904.13300\">https://arxiv.org/abs/1904.13300</a>\n",
    "</p>"
   ]
  },
  {
   "cell_type": "markdown",
   "metadata": {},
   "source": [
    "---"
   ]
  },
  {
   "cell_type": "markdown",
   "metadata": {},
   "source": [
    "## 目录\n",
    "\n",
    "- [摘要](#摘要)\n",
    "- [介绍](#介绍)\n",
    "- [相关工作](#相关工作)"
   ]
  },
  {
   "cell_type": "markdown",
   "metadata": {},
   "source": [
    "## 摘要"
   ]
  },
  {
   "cell_type": "markdown",
   "metadata": {},
   "source": [
    "提出了一种新的检测任务范例，即anchor-box free和NMS free。 虽然基于region proposed的方法是当前已经被公认多年最先进的模型，但是作为RPN的基础，NMS无法解决复杂的闭塞情况下的低召回率问题。 当面对复杂的遮挡时，这种情况尤其重要。 提出使用弱监督分段多模态方法来实现高度鲁棒的物体检测性能，而无需NMS。 在这种情况下，利用差的标注边界框注释来在困难的环境中执行强大的对象检测性能。 我们已经避免了与anchor-box和NMS相关的所有超参数。 提出的模型优于以前基于anchor的一级和多级探测器，具有更简单的优点。"
   ]
  },
  {
   "cell_type": "markdown",
   "metadata": {},
   "source": [
    "## 介绍"
   ]
  },
  {
   "cell_type": "markdown",
   "metadata": {},
   "source": [
    "**目标检测的困难:**\n",
    "- complex occlusion\n",
    "- poor illumination condition\n",
    "- large-scale small objects scene\n",
    "\n",
    "在遇到这些情况的时候，当前流行模型的**召回率**都非常低。"
   ]
  },
  {
   "cell_type": "markdown",
   "metadata": {},
   "source": [
    "**常用解决策略:**\n",
    "- 将在具有大量极端情况的数据集上训练模型，因此模型可以直接学习从数据中回答极端情况\n",
    "- 设计可以解决极端情况的模型。"
   ]
  },
  {
   "cell_type": "markdown",
   "metadata": {},
   "source": [
    "**问题:**\n",
    "- 设计复杂模型会引入重型工程和高度超参数调整\n",
    "- 当多样性增长时，导致糟糕的泛化\n",
    "\n",
    "\n",
    "对于信赖第一个策略的人，已经引入了具有良好注释的更具挑战性的数据集，并引入了分类良好的困难案例。这些数据集使得对极端情况的评估更有价值。"
   ]
  },
  {
   "cell_type": "markdown",
   "metadata": {},
   "source": [
    "**region proposed methods:**\n",
    "\n",
    "- 在图像中生成潜在的边界框，\n",
    "- 然后在这些提议的边界框上运行分类器。 \n",
    "\n",
    "通常，所Region Proposed Methods可以通过优化边界框，消除重复检测和基于场景中的其他对象恢复框等后处理方法实现高精度。\n",
    "\n",
    "**问题：**\n",
    "\n",
    "    边界框会引入感兴趣区域（ROI）的噪声，因此对于极端情况，RPN表现的并不那么好。"
   ]
  },
  {
   "cell_type": "markdown",
   "metadata": {},
   "source": [
    "该区region proposed methods由于NMS操作而遇到无法解决的瓶颈。\n",
    "\n",
    "**NMS过程:**\n",
    "\n",
    "- 首先对所有框的分数进行排序, 并选择最高分和相应的框\n",
    "- 然后遍历其余框，删除IoU大于特定阈值的框\n",
    "- 然后继续从剩余框中选择得分最高的框\n",
    "\n",
    "由于所有区域提名方法都需要使用非最大抑制（NMS）或其变体来生成边界框。\n",
    "\n",
    "**问题：**\n",
    "\n",
    "- 对于复杂的闭塞情况，没有合适的阈值来获得良好的结果\n",
    "- 无关紧要的信息或照明和遮挡可被视为一种非常强烈的噪声，肯定会降低置信度，增加了NMS操作阈值选择的难度\n",
    "- 区域提出的方法高度依赖于完全监督的注释，这意味着性能与Bounding Box的纯度有关，并非所有人都遵循现有的注释标准\n",
    "- 因为噪声是由场景信息引入的，所以边界框不能代表一些具有挑战性的任务，如遮挡，小物体和照明\n",
    "\n",
    "为了避免引入噪声，有一种理想的解决方案，可以直接在图像上引入分割。分割的目标是用相应的所代表的类标记图像的每个像素。这将允许模型对图像执行像素级分类。通过引入分段意味着模型可以利用注释的再训练特定拓扑结构，这可以通过应用CNN来学习输入图像的拓扑来减轻闭塞问题。像素级注释可以很好地描述场景中的小物体，并显着降低引入噪声的可能性。"
   ]
  },
  {
   "cell_type": "markdown",
   "metadata": {},
   "source": [
    "**问题：**\n",
    "\n",
    "- 获得像素级分割掩模的成本比在对象检测任务上注释边界框的成本高出15倍。\n",
    "- 注释每个对象类的像素级注释是费力的，并且妨碍对象类的扩展，这阻碍了CNN的性能，CNN通常需要用于训练的大规模数据。\n",
    "- 大多数细分方法都不是实例感知的，在没有实例感知结果的情况下将分割结果转换为检测很困难。\n",
    "\n",
    "为了克服上述限制，我们建议使用边界框信息生成类似分段的信息，并使用分割模型来执行精确检测，其中输入是弱监视的任务边界框。我们提出了一种多模态注释来解决极端情况。利用多模态注释，可以利用背景，遮挡信息，因此单个分割模型可以解决复杂情况。"
   ]
  },
  {
   "cell_type": "markdown",
   "metadata": {},
   "source": [
    "**多模态注释方法**\n",
    "\n",
    "    是特别可扩展的，任何新功能都可以轻松应用其优于注释的优势。 一些极端小的情况，例如为15×15像素以下的大小。引入了一种使用图像中的矢量场的新方法。 通过矢量场辅助，极端小的情况是可以征服的。"
   ]
  },
  {
   "cell_type": "markdown",
   "metadata": {},
   "source": [
    "**多模态注释**\n",
    "\n",
    "    假设每个边界框都是我们感兴趣的几何形状的外接四边形。尽管在我们的实验中，我们观察到它不是一个严格的假设，这意味着给定的边界框没有严格地覆盖对象，性能仍然是最先进的方法。 这也表明，即使使用轮廓跟踪算法生成的弱监督分割标注，我们提出的方法也可以在包括复杂遮挡和极小物体在内的极端情况下获得强大的鲁棒性。"
   ]
  },
  {
   "cell_type": "markdown",
   "metadata": {},
   "source": [
    "**贡献：**\n",
    "1. 建议使用弱增强不精确监督方法使用边界框信息生成分割图。\n",
    "2. 建议使用多模式注释来实现实例感知解决方案。\n",
    "3. 提出了一种非NMS方法，以在极端情况下实现强大的稳健性。"
   ]
  },
  {
   "cell_type": "markdown",
   "metadata": {},
   "source": [
    "## 相关工作"
   ]
  },
  {
   "cell_type": "markdown",
   "metadata": {},
   "source": [
    "### 基于anchor的检测"
   ]
  },
  {
   "cell_type": "markdown",
   "metadata": {},
   "source": [
    "### 分割的边界框标注"
   ]
  },
  {
   "cell_type": "markdown",
   "metadata": {},
   "source": [
    "### 实例分割"
   ]
  },
  {
   "cell_type": "markdown",
   "metadata": {},
   "source": [
    "## 方法"
   ]
  },
  {
   "cell_type": "markdown",
   "metadata": {},
   "source": [
    "### 模型结构"
   ]
  },
  {
   "cell_type": "markdown",
   "metadata": {},
   "source": [
    "- 首先在像素级注释掩码中重新构造对象检测\n",
    "- 内部和外部信息还将为像素级注释带来更好的表示\n",
    "\n",
    "由于引入的附加信息突出了内部，外部和边界信息。这将有助于像UNet这样基于FCN的模型提取超出拓扑形式的更多细节。这也将消除高原始分辨率的副作用，其不可避免地牺牲了感兴趣区域（RoI）的纯度。因此，将内部，外部和边界信息与像素级注释结合到多模态注释中。\n",
    "\n",
    "**系统结构：**\n",
    "\n",
    "![The process of using our multimodal annotation in segmentation task.](imgs/fig3.png)\n",
    "\n",
    "1. 训练阶段，目标CNN多峰注释热图是通过给定的边界推理阶段中产生，\n",
    "2. 推理阶段，轮廓算法解析多峰结果，以输出所有对象的定位。\n",
    "\n"
   ]
  },
  {
   "cell_type": "markdown",
   "metadata": {},
   "source": [
    "### 多模式标注"
   ]
  },
  {
   "cell_type": "markdown",
   "metadata": {},
   "source": [
    "多模态注释策略的动机来自一个简单的事实，即分割通常具有更好的表示，并且具有很强的能力来解决检测无法解决的一些棘手案例。然而，模型没有充分利用像素级分割掩码。生成的掩码不是真正的像素级别，因为具有强大细节的模型具有过度拟合的潜力，这绝对不是成功的模型。我们已经认真考虑了本段开头所声称的事实。因此，我们得出结论，精心设计的像素级分割掩模可能不是必需的。分割掩码的其余元素是_像素级注释_和_几何形状_。我们认为像素级是利用几何形状的基本表示方法。在这种情况下，我们将**强表示注释**的基本元素简化为简单的**几何像素级注释**。利用现有的检测任务信息，我们将注意力转换为边界框（BBox），生成具有像素级简单几何形状的弱监督分割图。"
   ]
  },
  {
   "cell_type": "markdown",
   "metadata": {},
   "source": [
    "由于通常在遮挡和小物体条件下造成灾难的不精确监督,我们必须通过在注释中引入附加信息来解决不满意的表现。这种方法有助于该方法具有更强的表示能力，并且在检测时也能获得更好的性我们假设每个Bounding Box是相应对象的几何形状的外接四边形。边界被定义为完整的轮廓线，其被定义为宽度和长度上的一个或多个像素的片段，并且用于描述对象的形状及其与其他对象的关系。检测到的轮廓在严格的监督下得到加强。在图5中，我们提供了将盒级注释转换为像素级注释的示例。生成的像素级注释允许完全监督分割，以实现学习对象边界及其组件之间关系的可靠性。在边界框的给定信息中，包括边界框形状的宽度和高度以及对象的几何中心。通过转换对象，我们可以获得对象的简单几何形状。在这种情况下，注释将变为宽度= w的中空形状。在算法1中详细描述了该过程。然而，粗略地应用轮廓信息来生成分割图将丢失语义信息，因为边界框具有清晰的边界，而合并像素级注释将破坏边界。信息。因此，我们提出了一种新的策略来生成双边闭塞关系的信息。对于给定对象A和对象B，我们有三个条件：\n",
    "\n",
    "- A blocked B\n",
    "- B blocked A\n",
    "- Non-occlusion relationship between A and B (no intersection)"
   ]
  },
  {
   "cell_type": "markdown",
   "metadata": {},
   "source": [
    "我们开发了一种轮廓跟踪算法来检测边界框中给定区域的边缘，以生成简单的几何形状。 利用生成的轮廓信息，我们可以在边界框内生成分割图。"
   ]
  },
  {
   "cell_type": "markdown",
   "metadata": {},
   "source": [
    "我们将注释表示如下：\n",
    "- 背景\n",
    "- 普通内部部分\n",
    "- 普通边界"
   ]
  },
  {
   "cell_type": "markdown",
   "metadata": {},
   "source": [
    "![Multimodal Label](imgs/algorithm1.png)"
   ]
  },
  {
   "cell_type": "markdown",
   "metadata": {},
   "source": [
    "### 物体位置算法"
   ]
  },
  {
   "cell_type": "markdown",
   "metadata": {},
   "source": [
    "主要问题是如何本地化所有对象。 我们利用Find Contour算法获取多模态热图（内部热图$I$，边界热图$B$，内部$O$上的边界）并生成所有对象边界的笛卡尔坐标。 \n",
    "- 第一步是修剪_I_并生成二进制图像。 \n",
    "- 第二步是从二进制图像中分析边界坐标。"
   ]
  },
  {
   "cell_type": "markdown",
   "metadata": {},
   "source": [
    "**生成二进制图像**受网络训练程度的限制，当物体更接近其他物体时，物体的内部变得与其他物体粘稠，而其他物体的区域变大，因此物体边界的检测具有不可逆转的影响。 因此，我们设计了一种利用多模式热图修剪粘性像素的方法。\n",
    "\n",
    "$$\n",
    "I\\oplus (B\\&O)\n",
    "$$"
   ]
  },
  {
   "cell_type": "markdown",
   "metadata": {},
   "source": [
    "在跟踪轮廓之前，8位热图需要转换为二进制图像。 因此，我们对修剪后的图像进行阈值处理，得到前景为1，背景为0的二值图像。"
   ]
  },
  {
   "cell_type": "markdown",
   "metadata": {},
   "source": [
    "**Run-data-based Following Algorithm**\n",
    "\n",
    "一种跟踪轮廓的传统方法是在图像二值化之后使用基于扫描的跟随算法，逐像素连接到轮廓中。 然而，在具有许多物体的大图像的情况下，我们大多数情况下，时间消耗将相当高。 原因是该算法将光栅扫描整个图像以首先找到起始点并逐个跟踪边缘点，并从下一个像素重新开始扫描以找到下一个起始点。"
   ]
  },
  {
   "cell_type": "markdown",
   "metadata": {},
   "source": [
    "为了减少时间和内存消耗，我们提出了一种改进的基于运行数据（RDB）的跟踪算法，该算法仅使用一个或两个行缓冲区并仅加载所有像素一次。 因此，我们使用RDB跟踪算法来跟踪我们的钢筋数据集，该数据集在图像中具有一系列钢筋头并输出一系列对象边界像素的坐标。 我们将最小和最大x和y值视为Bounding Box的左上角和右下角坐标。"
   ]
  },
  {
   "cell_type": "markdown",
   "metadata": {},
   "source": [
    "![Run-data-based Following Algorithm](imgs/algorithm2.png)"
   ]
  },
  {
   "cell_type": "markdown",
   "metadata": {},
   "source": [
    "### 训练过程\n"
   ]
  },
  {
   "cell_type": "markdown",
   "metadata": {},
   "source": [
    "该过程如图3所示。我们将在本节讨论我们训练过程的详细信息。 在这些情况下，我们采用了FoxNet。 FoxNet允许我们有效地提取图像的细节并实现像素级预测。 然而，我们不使用均值移位算法来分离结果，因为我们的数据集包含许多不同的类，并且平均移位模型在我们的情况下似乎无能为力。"
   ]
  },
  {
   "cell_type": "markdown",
   "metadata": {},
   "source": [
    "我们将边界框级别注释和原始图像作为输入。 第一个过程是将边界框转换为多模式注释。 我们仅使用生成的多模式注释作为我们的训练目标。 然后我们对网络训练结果执行修剪操作，得到二进制结果，前景为1，背景为0。"
   ]
  },
  {
   "cell_type": "markdown",
   "metadata": {},
   "source": [
    "### Vector Field in Training Extreme Small Cases"
   ]
  },
  {
   "cell_type": "markdown",
   "metadata": {},
   "source": [
    "![The process of introducing vector field in extreme small cases in the scene.](imgs/fig7.png)"
   ]
  },
  {
   "cell_type": "markdown",
   "metadata": {},
   "source": [
    "在我们的训练过程中，我们发现即使采用我们的策略，模型仍然难以学习极小情况的特征（如对象仅放置在几个像素中），模型可以学习场景中的先前信息。为了防止这些情况，我们在多模式注释中引入了一个矢量场。该方法的细节显示在图7中。通过将检测到的边界内的每个图像像素分配给指向几何质心的矢量来提取矢量场。在图7中，整个区域（背景和边界）是图4中生成的多模式注释。我们在注释中省略了遮挡信息，并描述了图7中的典型场景。区域内的每个图像像素是一个起点，它在图7中作为一个小方块存在，并将其方向指定为几何中心。图7中的矢量场是从正方形（图像像素）指向几何中心的箭头。"
   ]
  },
  {
   "cell_type": "code",
   "execution_count": null,
   "metadata": {},
   "outputs": [],
   "source": []
  }
 ],
 "metadata": {
  "kernelspec": {
   "display_name": "Python 3",
   "language": "python",
   "name": "python3"
  },
  "language_info": {
   "codemirror_mode": {
    "name": "ipython",
    "version": 3
   },
   "file_extension": ".py",
   "mimetype": "text/x-python",
   "name": "python",
   "nbconvert_exporter": "python",
   "pygments_lexer": "ipython3",
   "version": "3.6.8"
  }
 },
 "nbformat": 4,
 "nbformat_minor": 2
}
