{
 "cells": [
  {
   "cell_type": "markdown",
   "metadata": {},
   "source": [
    "# EfficientNet: Rethinking Model Scaling for Convolutional Neural Networks"
   ]
  },
  {
   "cell_type": "markdown",
   "metadata": {},
   "source": [
    "- 论文地址: [https://arxiv.org/pdf/1905.11946v1.pdf](https://arxiv.org/pdf/1905.11946v1.pdf)\n",
    "- 官方开源地址链接:[https://github.com/tensorflow/tpu/tree/master/models/official/efficientnet](https://github.com/tensorflow/tpu/tree/master/models/official/efficientnet)\n",
    "- Pytorch 开原地址:[Pytorch 开原地址](https://github.com/lukemelas/EfficientNet-PyTorch)"
   ]
  },
  {
   "cell_type": "markdown",
   "metadata": {},
   "source": [
    "**Questions**:\n",
    "\n",
    "- Is there a principled method to scale up ConvNets that can achieve better accuracy and efficiency?"
   ]
  },
  {
   "cell_type": "markdown",
   "metadata": {},
   "source": [
    "- [论文解读](https://mp.weixin.qq.com/s/on1YdDexq5ICZL70mvikyw)\n",
    "- [论文解读](https://mp.weixin.qq.com/s/5-mB8Adq0K5-SzN9DdT68w)"
   ]
  }
 ],
 "metadata": {
  "kernelspec": {
   "display_name": "Python 3",
   "language": "python",
   "name": "python3"
  },
  "language_info": {
   "codemirror_mode": {
    "name": "ipython",
    "version": 3
   },
   "file_extension": ".py",
   "mimetype": "text/x-python",
   "name": "python",
   "nbconvert_exporter": "python",
   "pygments_lexer": "ipython3",
   "version": "3.6.8"
  }
 },
 "nbformat": 4,
 "nbformat_minor": 2
}
