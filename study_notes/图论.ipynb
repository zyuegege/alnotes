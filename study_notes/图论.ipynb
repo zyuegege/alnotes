{
 "cells": [
  {
   "cell_type": "markdown",
   "metadata": {},
   "source": [
    "# 图论重点"
   ]
  },
  {
   "cell_type": "markdown",
   "metadata": {},
   "source": [
    "---"
   ]
  },
  {
   "cell_type": "markdown",
   "metadata": {},
   "source": [
    "**考试重点**"
   ]
  },
  {
   "cell_type": "markdown",
   "metadata": {},
   "source": [
    "## 第一章：图的基本概念"
   ]
  },
  {
   "cell_type": "markdown",
   "metadata": {},
   "source": [
    "1. 补图与自补图结论（概念）；\n",
    "2. 度序列与图序列概念及其相关结论；\n",
    "3. 图运算及运算之后的结果；\n",
    "4. 托兰定理的应用（简单应用，不证明）；\n",
    "5. $\\star$ 最短路的算法（填空）；\n",
    "6. $\\star$ 握手定理及其推论（计算）；\n",
    "\n",
    "\n",
    "- $\\star$ **度数**：度序列、图序列、频序列\n",
    "- $\\star$ **极图**：$l$-部图、Turon定理\n",
    "- 补图、最短路径算法\n",
    "- 1.7 不考\n"
   ]
  },
  {
   "cell_type": "markdown",
   "metadata": {},
   "source": [
    "## 第二章：树"
   ]
  },
  {
   "cell_type": "markdown",
   "metadata": {},
   "source": [
    "1. 根树问题及相关结论的证明；\n",
    "2. 最小生成树的求法（算法）；\n",
    "3. "
   ]
  },
  {
   "cell_type": "markdown",
   "metadata": {},
   "source": [
    "## 第三章：图的连通度"
   ]
  },
  {
   "cell_type": "markdown",
   "metadata": {},
   "source": [
    "1. 割边、割点、块及其相关命题的辨析（选择）与证明；\n",
    "2. 点连通性、边连通性相关概念性质；\n",
    "\n",
    "着重看PPT上第三章的证明；"
   ]
  },
  {
   "cell_type": "markdown",
   "metadata": {},
   "source": [
    "## 第四章：Euler图与Halmilton图"
   ]
  },
  {
   "cell_type": "markdown",
   "metadata": {},
   "source": [
    "1. Euler图的判定及主要结论、命题辨析；\n",
    "2. Halmilton图概念及判定定理会用、辨析；\n",
    "3. 非Halmilton图的概念、证明：Semin图（不知道什么图）；\n",
    "4. 超Halmilton图概念及相关结论：Petersom图；"
   ]
  },
  {
   "cell_type": "markdown",
   "metadata": {},
   "source": [
    "## 第五章 匹配与因子分解"
   ]
  },
  {
   "cell_type": "markdown",
   "metadata": {},
   "source": [
    "1. 偶图的判定，正则偶图（因子分解、一致分解、完美匹配）、正则偶图性质；\n",
    "2. 最有匹配算法--匈牙利算法--体现主要步骤\n",
    "3. 因子分解的相关证明（课件和书上的证明题）"
   ]
  },
  {
   "cell_type": "markdown",
   "metadata": {},
   "source": [
    "## 第六章：平面图"
   ]
  },
  {
   "cell_type": "markdown",
   "metadata": {},
   "source": [
    "1. 平面图的判定；\n",
    "2. $\\star$ 欧拉公式、握手定理、次数公式在平面图的应用（求次数、边树）；\n",
    "3. 平面性算法；"
   ]
  },
  {
   "cell_type": "markdown",
   "metadata": {},
   "source": [
    "## 第七章：图的着色"
   ]
  },
  {
   "cell_type": "markdown",
   "metadata": {},
   "source": [
    "1. 求点色数、边色数（概括）；\n",
    "2. 边着色、点着色的应用、结构分析\n"
   ]
  },
  {
   "cell_type": "markdown",
   "metadata": {},
   "source": [
    "## 第八章：Ramsey定理"
   ]
  },
  {
   "cell_type": "markdown",
   "metadata": {},
   "source": [
    "点独立集、团、团数"
   ]
  },
  {
   "cell_type": "markdown",
   "metadata": {},
   "source": [
    "## 第九章：有向图"
   ]
  },
  {
   "cell_type": "markdown",
   "metadata": {
    "hidePrompt": true
   },
   "source": [
    "1. 根树问题（PPT 定理32）\n",
    "2. 有向树、强向分支、单向分支"
   ]
  }
 ],
 "metadata": {
  "kernelspec": {
   "display_name": "Python 3",
   "language": "python",
   "name": "python3"
  },
  "language_info": {
   "codemirror_mode": {
    "name": "ipython",
    "version": 3
   },
   "file_extension": ".py",
   "mimetype": "text/x-python",
   "name": "python",
   "nbconvert_exporter": "python",
   "pygments_lexer": "ipython3",
   "version": "3.6.8"
  }
 },
 "nbformat": 4,
 "nbformat_minor": 2
}
