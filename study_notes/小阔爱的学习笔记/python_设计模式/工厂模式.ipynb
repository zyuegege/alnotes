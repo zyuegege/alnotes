{
 "cells": [
  {
   "cell_type": "markdown",
   "metadata": {},
   "source": [
    "# 工厂模式 "
   ]
  },
  {
   "cell_type": "markdown",
   "metadata": {},
   "source": [
    "---"
   ]
  },
  {
   "cell_type": "markdown",
   "metadata": {},
   "source": [
    "## 目录\n",
    "\n",
    "- [模式介绍](#介绍)\n",
    "- [模式实现](#模式实现)\n",
    "- [使用示例](#使用示例)"
   ]
  },
  {
   "cell_type": "markdown",
   "metadata": {},
   "source": [
    "## 模式介绍"
   ]
  },
  {
   "cell_type": "markdown",
   "metadata": {},
   "source": [
    "**工厂模式（Factory Pattern）**是最常用的设计模式之一。这种类型的设计模式属于创建型模式，它提供了一种创建对象的最佳方式。\n",
    "\n",
    "在工厂模式中，我们在创建对象时不会对客户端暴露创建逻辑，并且是通过使用一个共同的接口来指向新创建的对象。"
   ]
  },
  {
   "cell_type": "markdown",
   "metadata": {},
   "source": [
    "**意图**：定义一个创建对象的接口，让其子类自己决定实例化哪一个工厂类，工厂模式使其创建过程延迟到子类进行。\n",
    "\n",
    "**主要解决**：主要解决接口选择的问题。\n",
    "\n",
    "**何时使用**：我们明确地计划不同条件下创建不同实例时。\n",
    "\n",
    "**如何解决**：让其子类实现工厂接口，返回的也是一个抽象的产品。\n",
    "\n",
    "**关键代码**：创建过程在其子类执行。\n",
    "\n",
    "**应用实例**： \n",
    "1. 您需要一辆汽车，可以直接从工厂里面提货，而不用去管这辆汽车是怎么做出来的，以及这个汽车里面的具体实现。 \n",
    "2. Hibernate 换数据库只需换方言和驱动就可以。\n",
    "\n",
    "**优点**： \n",
    "1. 一个调用者想创建一个对象，只要知道其名称就可以了。 \n",
    "2. 扩展性高，如果想增加一个产品，只要扩展一个工厂类就可以。 \n",
    "3. 屏蔽产品的具体实现，调用者只关心产品的接口。\n",
    "\n",
    "**缺点**：每次增加一个产品时，都需要增加一个具体类和对象实现工厂，使得系统中类的个数成倍增加，在一定程度上增加了系统的复杂度，同时也增加了系统具体类的依赖。这并不是什么好事。\n",
    "\n",
    "**使用场景**： \n",
    "1. 志记录器：记录可能记录到本地硬盘、系统事件、远程服务器等，用户可以选择记录日志到什么地方。 \n",
    "2. 数据库访问，当用户不知道最后系统采用哪一类数据库，以及数据库可能有变化时。 \n",
    "3. 设计一个连接服务器的框架，需要三个协议，\"POP3\"、\"IMAP\"、\"HTTP\"，可以把这三个作为产品类，共同实现一个接口。\n",
    "\n",
    "**注意事项**：作为一种创建类模式，在任何需要生成复杂对象的地方，都可以使用工厂方法模式。有一点需要注意的地方就是复杂对象适合使用工厂模式，而简单对象，特别是只需要通过 new 就可以完成创建的对象，无需使用工厂模式。如果使用工厂模式，就需要引入一个工厂类，会增加系统的复杂度。"
   ]
  },
  {
   "cell_type": "markdown",
   "metadata": {},
   "source": [
    "## 模式实现"
   ]
  },
  {
   "cell_type": "code",
   "execution_count": 11,
   "metadata": {},
   "outputs": [],
   "source": [
    "import abc\n",
    "\n",
    "class AbstractFactory(object, metaclass=abc.ABCMeta):\n",
    "    @abc.abstractmethod\n",
    "    def make_object(self):\n",
    "        return"
   ]
  },
  {
   "cell_type": "code",
   "execution_count": 12,
   "metadata": {},
   "outputs": [],
   "source": [
    "class ConcreteClass(object):\n",
    "    pass\n",
    "\n",
    "class ConcreteFactory(AbstractFactory):\n",
    "    def make_object(self):\n",
    "        return ConcreteClass()"
   ]
  },
  {
   "cell_type": "markdown",
   "metadata": {},
   "source": [
    "## 使用示例"
   ]
  },
  {
   "cell_type": "code",
   "execution_count": 23,
   "metadata": {},
   "outputs": [],
   "source": [
    "import abc\n",
    "\n",
    "class AbstractFactory(object, metaclass=abc.ABCMeta):\n",
    "    @abc.abstractmethod\n",
    "    def get_object(self):\n",
    "        return"
   ]
  },
  {
   "cell_type": "code",
   "execution_count": 28,
   "metadata": {},
   "outputs": [],
   "source": [
    "class BaseClass(object):\n",
    "    def __str__(self):\n",
    "        return \"This is class \"+ self.__class__.__name__\n",
    "    \n",
    "    def dosomething(self):\n",
    "        print(self)\n",
    "    \n",
    "class ClassOne(BaseClass):\n",
    "    pass\n",
    "\n",
    "class ClassTwo(BaseClass):\n",
    "    pass\n",
    "\n",
    "class ClassThree(BaseClass):\n",
    "    pass\n",
    "\n",
    "class ClassFactory(AbstractFactory):\n",
    "    def get_object(self, name):\n",
    "        if name == \"one\": return ClassOne()\n",
    "        if name == \"two\": return ClassTwo()\n",
    "        if name == \"three\": return ClassThree()\n",
    "        return None\n",
    "    \n",
    "def dosomething(factory, name):\n",
    "    obj = factory.get_object(name)\n",
    "    obj.dosomething()\n",
    "    "
   ]
  },
  {
   "cell_type": "code",
   "execution_count": 34,
   "metadata": {},
   "outputs": [
    {
     "name": "stdout",
     "output_type": "stream",
     "text": [
      "This is class ClassOne\n",
      "This is class ClassTwo\n",
      "This is class ClassThree\n",
      "******************************************\n",
      "This is class ClassOne\n",
      "This is class ClassTwo\n",
      "This is class ClassThree\n"
     ]
    }
   ],
   "source": [
    "factory = ClassFactory()\n",
    "\n",
    "obj1 = factory.get_object(\"one\")\n",
    "obj2 = factory.get_object(\"two\")\n",
    "obj3 = factory.get_object(\"three\")\n",
    "\n",
    "print(obj1)\n",
    "print(obj2)\n",
    "print(obj3)\n",
    "\n",
    "print(\"******************************************\")\n",
    "\n",
    "dosomething(factory, \"one\")\n",
    "dosomething(factory, \"two\")\n",
    "dosomething(factory, \"three\")"
   ]
  },
  {
   "cell_type": "markdown",
   "metadata": {},
   "source": [
    "## 参考"
   ]
  },
  {
   "cell_type": "markdown",
   "metadata": {},
   "source": [
    "- 《python 设计模式》\n",
    "- [工厂模式|菜鸟教程](https://www.runoob.com/design-pattern/factory-pattern.html)"
   ]
  }
 ],
 "metadata": {
  "kernelspec": {
   "display_name": "Python 3",
   "language": "python",
   "name": "python3"
  },
  "language_info": {
   "codemirror_mode": {
    "name": "ipython",
    "version": 3
   },
   "file_extension": ".py",
   "mimetype": "text/x-python",
   "name": "python",
   "nbconvert_exporter": "python",
   "pygments_lexer": "ipython3",
   "version": "3.6.8"
  },
  "toc": {
   "base_numbering": 1,
   "nav_menu": {},
   "number_sections": true,
   "sideBar": true,
   "skip_h1_title": false,
   "title_cell": "Table of Contents",
   "title_sidebar": "Contents",
   "toc_cell": false,
   "toc_position": {},
   "toc_section_display": true,
   "toc_window_display": false
  }
 },
 "nbformat": 4,
 "nbformat_minor": 2
}
