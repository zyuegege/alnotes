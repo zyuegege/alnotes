{
 "cells": [
  {
   "cell_type": "markdown",
   "metadata": {},
   "source": [
    "# 单例模式 "
   ]
  },
  {
   "cell_type": "markdown",
   "metadata": {},
   "source": [
    "---"
   ]
  },
  {
   "cell_type": "markdown",
   "metadata": {},
   "source": [
    "## 目录\n",
    "\n",
    "- [模式介绍](#介绍)\n",
    "- [模式实现](#模式实现)\n",
    "- [测试模式](#测试模式)\n",
    "- [使用示例](#使用示例)\n",
    "- [利用装饰器实现单例模式](#利用装饰器实现单例模式)"
   ]
  },
  {
   "cell_type": "markdown",
   "metadata": {},
   "source": [
    "## 模式介绍"
   ]
  },
  {
   "cell_type": "markdown",
   "metadata": {},
   "source": [
    "**单例模式（Singleton Pattern）**是**设计模式**中最简单的设计模式之一。这种类型的**设计模式**属于创建型模式，它提供了一种创建对象的最佳方式。\n",
    "\n",
    "这种模式涉及到一个单一的类，该类负责创建自己的对象，同时确保只有单个对象被创建。这个类提供了一种访问其唯一的对象的方式，可以直接访问，不需要实例化该类的对象。\n",
    "\n",
    "注意：\n",
    "1. 单例类只能有一个实例。\n",
    "- 单例类必须自己创建自己的唯一实例。\n",
    "- 单例类必须给所有其他对象提供这一实例。\n",
    "\n",
    "\n",
    "**意图**：保证一个类仅有一个实例，并提供一个访问它的全局访问点。\n",
    "\n",
    "**主要解决**：一个全局使用的类频繁地创建与销毁。\n",
    "\n",
    "**何时使用**：当您想控制实例数目，节省系统资源的时候。\n",
    "\n",
    "**如何解决**：判断系统是否已经有这个单例，如果有则返回，如果没有则创建。"
   ]
  },
  {
   "cell_type": "markdown",
   "metadata": {},
   "source": [
    "## 模式实现"
   ]
  },
  {
   "cell_type": "code",
   "execution_count": 1,
   "metadata": {},
   "outputs": [],
   "source": [
    "class SingletonObject(object):\n",
    "    class __SingletonObject():\n",
    "        def __init__(self):\n",
    "            self.val = None\n",
    "        \n",
    "        def __str__(self):\n",
    "            return \"{0!r} {1}\".format(self, self.val)\n",
    "        \n",
    "        ## other singleton instance methods\n",
    "        # TODO\n",
    "        \n",
    "    instance = None\n",
    "\n",
    "    def __new__(cls):\n",
    "        if not cls.instance:\n",
    "            cls.instance = cls.__SingletonObject()\n",
    "        return cls.instance\n",
    "    \n",
    "    def __getattr__(self, name):\n",
    "        return getattr(self.instance, name)\n",
    "    \n",
    "    def __setattr(self, name, value):\n",
    "        return setattr(self.instance, name, value)"
   ]
  },
  {
   "cell_type": "markdown",
   "metadata": {},
   "source": [
    "## 测试模式"
   ]
  },
  {
   "cell_type": "code",
   "execution_count": 2,
   "metadata": {},
   "outputs": [
    {
     "name": "stdout",
     "output_type": "stream",
     "text": [
      "<__main__.SingletonObject.__SingletonObject object at 0x7f078c0dbbe0> None\n",
      "obj1: <__main__.SingletonObject.__SingletonObject object at 0x7f078c0dbbe0> object value 1\n",
      "------\n",
      "obj1: <__main__.SingletonObject.__SingletonObject object at 0x7f078c0dbbe0> object value 2\n",
      "obj2: <__main__.SingletonObject.__SingletonObject object at 0x7f078c0dbbe0> object value 2\n"
     ]
    }
   ],
   "source": [
    "obj1 = SingletonObject()\n",
    "print(SingletonObject.instance)\n",
    "\n",
    "obj1.val = \"object value 1\"\n",
    "\n",
    "print(\"obj1:\", obj1)\n",
    "\n",
    "print(\"------\")\n",
    "obj2 = SingletonObject()\n",
    "obj2.val = \"object value 2\"\n",
    "\n",
    "print(\"obj1:\", obj1)\n",
    "print(\"obj2:\", obj2)"
   ]
  },
  {
   "cell_type": "markdown",
   "metadata": {},
   "source": [
    "## 使用示例"
   ]
  },
  {
   "cell_type": "markdown",
   "metadata": {},
   "source": [
    "利用单例模式实现一个日志记录器。"
   ]
  },
  {
   "cell_type": "code",
   "execution_count": 3,
   "metadata": {},
   "outputs": [],
   "source": [
    "class Logger(object):\n",
    "    class __Logger():\n",
    "        def __init__(self, file_name=\"/tmp/logger.log\"):\n",
    "            self.file_name = file_name\n",
    "        \n",
    "        def __str__(self):\n",
    "            return \"{0!r} {1}\".format(self, self.val)\n",
    "        \n",
    "        ## other singleton instance methods\n",
    "        # TODO\n",
    "        \n",
    "        def _write_log(self, level, msg):\n",
    "            with open(self.file_name, \"a\") as log_file:\n",
    "                log_file.write(\"[{0}] {1}\\n\".format(level, msg))\n",
    "                \n",
    "        def critical(self, msg):\n",
    "            self._write_log(\"CRITICAL\", msg)\n",
    "            \n",
    "        def error(self, msg):\n",
    "            self._write_log(\"ERROR\", msg)\n",
    "            \n",
    "        def warn(self, msg):\n",
    "            self._write_log(\"WARN\", msg)\n",
    "            \n",
    "        def info(self, msg):\n",
    "            self._write_log(\"INFO\", msg)\n",
    "            \n",
    "        def debug(self, msg):\n",
    "            self._write_log(\"DEBUG\", msg)\n",
    "        \n",
    "    instance = None\n",
    "        \n",
    "    def __new__(cls, *args, **kargs):\n",
    "        if not cls.instance:\n",
    "            cls.instance = cls.__Logger(*args, **kargs)\n",
    "        return cls.instance\n",
    "    \n",
    "    def __getattr__(self, name):\n",
    "        return getattr(self.instance, name)\n",
    "    \n",
    "    def __setattr(self, name, value):\n",
    "        return setattr(self.instance, name, value)"
   ]
  },
  {
   "cell_type": "code",
   "execution_count": 4,
   "metadata": {},
   "outputs": [],
   "source": [
    "logger = Logger(\"/tmp/logger.log\")\n",
    "\n",
    "logger.error(\"This is a error Message.\")"
   ]
  },
  {
   "cell_type": "code",
   "execution_count": 5,
   "metadata": {},
   "outputs": [],
   "source": [
    "logger = Logger()\n",
    "\n",
    "logger.info(\"This is a info Message.\")"
   ]
  },
  {
   "cell_type": "markdown",
   "metadata": {},
   "source": [
    "## 利用装饰器实现单例模式"
   ]
  },
  {
   "cell_type": "code",
   "execution_count": 13,
   "metadata": {},
   "outputs": [],
   "source": [
    "class SingletonInstanceClass(object):\n",
    "    \n",
    "    def __init__(self, singleton_class):\n",
    "        \n",
    "        class SingletonClass(object):\n",
    "            \n",
    "            instance = None\n",
    "            \n",
    "            def __new__(cls, *args, **kargs):\n",
    "                if cls.instance is None:\n",
    "                    cls.instance = singleton_class(*args, **kargs)\n",
    "                return cls.instance\n",
    "            \n",
    "            def __getattr__(self, name):\n",
    "                return getattr(self.instance, name)\n",
    "    \n",
    "            def __setattr(self, name, value):\n",
    "                return setattr(self.instance, name, value)\n",
    "            \n",
    "        self.singleton_instance_class = SingletonClass\n",
    "    \n",
    "    def __call__(self, *args, **kargs):\n",
    "        return self.singleton_instance_class(*args, **kargs)"
   ]
  },
  {
   "cell_type": "code",
   "execution_count": 14,
   "metadata": {},
   "outputs": [],
   "source": [
    "@SingletonInstanceClass\n",
    "class Logger(object):\n",
    "    def __init__(self, file_name=\"/tmp/logger.log\"):\n",
    "        self.file_name = file_name\n",
    "\n",
    "    def __str__(self):\n",
    "        return \"{0!r} {1}\".format(self, self.val)\n",
    "\n",
    "    ## other singleton instance methods\n",
    "    # TODO\n",
    "\n",
    "    def _write_log(self, level, msg):\n",
    "        with open(self.file_name, \"a\") as log_file:\n",
    "            log_file.write(\"[{0}] {1}\\n\".format(level, msg))\n",
    "\n",
    "    def critical(self, msg):\n",
    "        self._write_log(\"CRITICAL\", msg)\n",
    "\n",
    "    def error(self, msg):\n",
    "        self._write_log(\"ERROR\", msg)\n",
    "\n",
    "    def warn(self, msg):\n",
    "        self._write_log(\"WARN\", msg)\n",
    "\n",
    "    def info(self, msg):\n",
    "        self._write_log(\"INFO\", msg)\n",
    "\n",
    "    def debug(self, msg):\n",
    "        self._write_log(\"DEBUG\", msg)"
   ]
  },
  {
   "cell_type": "code",
   "execution_count": 15,
   "metadata": {},
   "outputs": [],
   "source": [
    "@SingletonInstance\n",
    "class otherclass(object):\n",
    "    def __init__(self):\n",
    "        self.val = 1\n",
    "        \n",
    "    def __str__(self):\n",
    "        return str(self.val)"
   ]
  },
  {
   "cell_type": "code",
   "execution_count": 16,
   "metadata": {
    "scrolled": true
   },
   "outputs": [
    {
     "name": "stdout",
     "output_type": "stream",
     "text": [
      "139670391207416\n",
      "139670391207416\n",
      "139670391207416\n"
     ]
    }
   ],
   "source": [
    "a = otherclass()\n",
    "print(id(a))\n",
    "\n",
    "b  = otherclass()\n",
    "b.val = 2\n",
    "print(id(b))\n",
    "print(id(a))"
   ]
  },
  {
   "cell_type": "code",
   "execution_count": 17,
   "metadata": {},
   "outputs": [
    {
     "name": "stdout",
     "output_type": "stream",
     "text": [
      "139670391209096\n",
      "139670391209096\n"
     ]
    }
   ],
   "source": [
    "print(id(Logger()))\n",
    "print(id(Logger()))"
   ]
  },
  {
   "cell_type": "markdown",
   "metadata": {},
   "source": [
    "## 参考资料"
   ]
  },
  {
   "cell_type": "markdown",
   "metadata": {},
   "source": [
    "- 《python 设计模式》\n",
    "- [单例模式|菜鸟教程](https://www.runoob.com/design-pattern/singleton-pattern.html)"
   ]
  }
 ],
 "metadata": {
  "kernelspec": {
   "display_name": "Python 3",
   "language": "python",
   "name": "python3"
  },
  "language_info": {
   "codemirror_mode": {
    "name": "ipython",
    "version": 3
   },
   "file_extension": ".py",
   "mimetype": "text/x-python",
   "name": "python",
   "nbconvert_exporter": "python",
   "pygments_lexer": "ipython3",
   "version": "3.6.8"
  }
 },
 "nbformat": 4,
 "nbformat_minor": 2
}
