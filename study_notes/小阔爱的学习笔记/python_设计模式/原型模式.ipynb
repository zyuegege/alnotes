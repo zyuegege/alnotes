{
 "cells": [
  {
   "cell_type": "markdown",
   "metadata": {},
   "source": [
    "# 原型模式 "
   ]
  },
  {
   "cell_type": "markdown",
   "metadata": {},
   "source": [
    "--- "
   ]
  },
  {
   "cell_type": "markdown",
   "metadata": {},
   "source": [
    "## 目录"
   ]
  },
  {
   "cell_type": "markdown",
   "metadata": {},
   "source": [
    "- [模式介绍](#介绍)\n",
    "- [模式实现](#模式实现)\n",
    "- [使用示例](#使用示例)"
   ]
  },
  {
   "cell_type": "markdown",
   "metadata": {
    "hidePrompt": true
   },
   "source": [
    "## 模式介绍"
   ]
  },
  {
   "cell_type": "markdown",
   "metadata": {},
   "source": [
    "**原型模式（Prototype Pattern）**是用于创建重复的对象，同时又能保证性能。这种类型的设计模式属于创建型模式，它提供了一种创建对象的最佳方式。\n",
    "\n",
    "这种模式是实现了一个原型接口，该接口用于创建当前对象的克隆。当直接创建对象的代价比较大时，则采用这种模式。例如，一个对象需要在一个高代价的数据库操作之后被创建。我们可以缓存该对象，在下一个请求时返回它的克隆，在需要的时候更新数据库，以此来减少数据库调用。"
   ]
  },
  {
   "cell_type": "markdown",
   "metadata": {},
   "source": [
    "**意图**：用原型实例指定创建对象的种类，并且通过拷贝这些原型创建新的对象。\n",
    "\n",
    "**主要解决**：在运行期建立和删除原型。\n",
    "\n",
    "**何时使用**： \n",
    "1. 当一个系统应该独立于它的产品创建，构成和表示时。 \n",
    "2. 当要实例化的类是在运行时刻指定时，例如，通过动态装载。 \n",
    "3. 为了避免创建一个与产品类层次平行的工厂类层次时。 \n",
    "4. 当一个类的实例只能有几个不同状态组合中的一种时。建立相应数目的原型并克隆它们可能比每次用合适的状态手工实例化该类更方便一些。\n",
    "\n",
    "**如何解决**：利用已有的一个原型对象，快速地生成和原型对象一样的实例。"
   ]
  },
  {
   "cell_type": "markdown",
   "metadata": {},
   "source": [
    "## 模式实现"
   ]
  },
  {
   "cell_type": "code",
   "execution_count": 4,
   "metadata": {},
   "outputs": [],
   "source": [
    "from abc import ABCMeta, abstractmethod\n",
    "\n",
    "class Prototype(metaclass=ABCMeta):\n",
    "    @abstractmethod\n",
    "    def clone(self):\n",
    "        pass"
   ]
  },
  {
   "cell_type": "code",
   "execution_count": 6,
   "metadata": {},
   "outputs": [],
   "source": [
    "from copy import deepcopy\n",
    "\n",
    "class Concrete(Prototype):\n",
    "    def clone(self):\n",
    "        return deepcopy(self)"
   ]
  },
  {
   "cell_type": "markdown",
   "metadata": {},
   "source": [
    "## 使用示例"
   ]
  },
  {
   "cell_type": "code",
   "execution_count": 7,
   "metadata": {},
   "outputs": [],
   "source": [
    "from copy import deepcopy\n",
    "\n",
    "class Knight(Prototype):\n",
    "    def __init__(self, level):\n",
    "        self.unit_type = \"Knight\"\n",
    "        \n",
    "        file_name = \"{}_{}.dat\".format(self.unit_type, level)\n",
    "        \n",
    "        with open(file_name, \"r\") as parameter_file:\n",
    "            lines = parameter_file.read().split(\"\\n\")\n",
    "            self.life = lines[0]\n",
    "            self.speed = [lines][1]\n",
    "            self.attack_power = lines[2]\n",
    "            self.attack_range = lines[3]\n",
    "            self.weapon = lines[4]\n",
    "            \n",
    "        def __str__(self):\n",
    "            return \"Type: {0}\\n\" \\\n",
    "                \"Life: {1}\\n\" \\\n",
    "                \"Speed: {2}\\n\" \\\n",
    "                \"Attack Power: {3}\\n\" \\\n",
    "                \"Attack Range: {4}\\n\" \\\n",
    "                \"Weapon: {5}\".format(\n",
    "                self.life, self.speed, self.attack_power, \n",
    "                self.attack_range, self.weapon\n",
    "            )\n",
    "        \n",
    "        def clone(self):\n",
    "            return deepcopy(self)"
   ]
  },
  {
   "cell_type": "code",
   "execution_count": 8,
   "metadata": {},
   "outputs": [],
   "source": [
    "class Archer(Prototype):\n",
    "    def __init__(self, level):\n",
    "        self.unit_type = \"Archer\"\n",
    "        \n",
    "        file_name = \"{}_{}.dat\".format(self.unit_type, level)\n",
    "        \n",
    "        with open(file_name, \"r\") as parameter_file:\n",
    "            lines = parameter_file.read().split(\"\\n\")\n",
    "            self.life = lines[0]\n",
    "            self.speed = [lines][1]\n",
    "            self.attack_power = lines[2]\n",
    "            self.attack_range = lines[3]\n",
    "            self.weapon = lines[4]\n",
    "            \n",
    "        def __str__(self):\n",
    "            return \"Type: {0}\\n\" \\\n",
    "                \"Life: {1}\\n\" \\\n",
    "                \"Speed: {2}\\n\" \\\n",
    "                \"Attack Power: {3}\\n\" \\\n",
    "                \"Attack Range: {4}\\n\" \\\n",
    "                \"Weapon: {5}\".format(\n",
    "                self.life, self.speed, self.attack_power, \n",
    "                self.attack_range, self.weapon\n",
    "            )\n",
    "        \n",
    "        def clone(self):\n",
    "            return deepcopy(self)"
   ]
  },
  {
   "cell_type": "code",
   "execution_count": 13,
   "metadata": {},
   "outputs": [],
   "source": [
    "class Baracks(object):\n",
    "    def __init__(self):\n",
    "        self.units = {\n",
    "            \"Knight\": {\n",
    "                1: Knight(1),\n",
    "                2: Knight(2)\n",
    "            },\n",
    "            \"archer\": {\n",
    "                1: Archer(1),\n",
    "                2: Archer(2)\n",
    "            }\n",
    "        }\n",
    "        \n",
    "    def build_unit(self, unit_type, level):\n",
    "        return self.units[unit_type][levle].clone()"
   ]
  },
  {
   "cell_type": "markdown",
   "metadata": {},
   "source": [
    "## 参考资料"
   ]
  },
  {
   "cell_type": "markdown",
   "metadata": {},
   "source": [
    "- 《python 设计模式》\n",
    "- [原型模式|菜鸟教程](https://www.runoob.com/design-pattern/prototype-pattern.html)"
   ]
  }
 ],
 "metadata": {
  "kernelspec": {
   "display_name": "Python 3",
   "language": "python",
   "name": "python3"
  },
  "language_info": {
   "codemirror_mode": {
    "name": "ipython",
    "version": 3
   },
   "file_extension": ".py",
   "mimetype": "text/x-python",
   "name": "python",
   "nbconvert_exporter": "python",
   "pygments_lexer": "ipython3",
   "version": "3.6.8"
  }
 },
 "nbformat": 4,
 "nbformat_minor": 2
}
