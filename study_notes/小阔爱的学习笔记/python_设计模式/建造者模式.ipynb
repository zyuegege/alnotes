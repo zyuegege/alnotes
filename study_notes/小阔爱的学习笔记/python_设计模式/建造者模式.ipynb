{
 "cells": [
  {
   "cell_type": "markdown",
   "metadata": {},
   "source": [
    "# 建造者模式"
   ]
  },
  {
   "cell_type": "markdown",
   "metadata": {},
   "source": [
    "---"
   ]
  },
  {
   "cell_type": "markdown",
   "metadata": {},
   "source": [
    "## 目录\n",
    "\n",
    "- [模式介绍](#介绍)\n",
    "- [模式实现](#模式实现)\n",
    "- [使用示例](#使用示例)\n",
    "    - [未使用建造者模式](#未使用建造者模式)\n",
    "    - [使用建造者模式](#使用建造者模式)"
   ]
  },
  {
   "cell_type": "markdown",
   "metadata": {},
   "source": [
    "## 模式介绍"
   ]
  },
  {
   "cell_type": "markdown",
   "metadata": {},
   "source": [
    "**建造者模式（Builder Pattern）**使用多个简单的对象一步一步构建成一个复杂的对象。这种类型的设计模式属于创建型模式，它提供了一种创建对象的最佳方式。\n",
    "\n",
    "一个 Builder 类会一步一步构造最终的对象。该 Builder 类是独立于其他对象的。"
   ]
  },
  {
   "cell_type": "markdown",
   "metadata": {},
   "source": [
    "**意图**：将一个复杂的构建与其表示相分离，使得同样的构建过程可以创建不同的表示。\n",
    "\n",
    "**主要解决**：主要解决在软件系统中，有时候面临着\"一个复杂对象\"的创建工作，其通常由各个部分的子对象用一定的算法构成；由于需求的变化，这个复杂对象的各个部分经常面临着剧烈的变化，但是将它们组合在一起的算法却相对稳定。\n",
    "\n",
    "**何时使用**：一些基本部件不会变，而其组合经常变化的时候。\n",
    "\n",
    "**如何解决**：将变与不变分离开。\n",
    "\n",
    "**关键代码**：建造者：创建和提供实例，导演：管理建造出来的实例的依赖关系。\n",
    "\n",
    "**应用实例**：\n",
    "1. 去肯德基，汉堡、可乐、薯条、炸鸡翅等是不变的，而其组合是经常变化的，生成出所谓的\"套餐\"。 \n",
    "2. JAVA 中的 StringBuilder。\n",
    "\n",
    "**优点**：\n",
    "1. 建造者独立，易扩展。\n",
    "2. 便于控制细节风险。\n",
    "\n",
    "**缺点**：\n",
    "1. 产品必须有共同点，范围有限制。 \n",
    "2. 如内部变化复杂，会有很多的建造类。\n",
    "\n",
    "**使用场景**： \n",
    "1. 需要生成的对象具有复杂的内部结构。 \n",
    "2. 需要生成的对象内部属性本身相互依赖。\n",
    "\n",
    "**注意事项**：与工厂模式的区别是：建造者模式更加关注与零件装配的顺序。"
   ]
  },
  {
   "cell_type": "markdown",
   "metadata": {},
   "source": [
    "## 模式实现"
   ]
  },
  {
   "cell_type": "code",
   "execution_count": 63,
   "metadata": {},
   "outputs": [],
   "source": [
    "from abc import ABCMeta, abstractmethod\n",
    "\n",
    "class Director(object, metaclass=ABCMeta):\n",
    "    def __init__(self):\n",
    "        self._builder = None\n",
    "        \n",
    "    def set_builder(self, builder):\n",
    "        self._builder = builder\n",
    "        \n",
    "    @abstractmethod\n",
    "    def construct(self):\n",
    "        pass\n",
    "    \n",
    "    def get_constructed_object(self):\n",
    "        return self._builder.constructed_object"
   ]
  },
  {
   "cell_type": "code",
   "execution_count": 64,
   "metadata": {},
   "outputs": [],
   "source": [
    "class Builder(object, metaclass=ABCMeta):\n",
    "    def __init__(self, constructed_object):\n",
    "        self.constructed_object = constructed_object"
   ]
  },
  {
   "cell_type": "code",
   "execution_count": 65,
   "metadata": {},
   "outputs": [],
   "source": [
    "class Product(object):\n",
    "    def __init__(self):\n",
    "        pass\n",
    "    \n",
    "    def __repr__(self):\n",
    "        pass"
   ]
  },
  {
   "cell_type": "code",
   "execution_count": 66,
   "metadata": {},
   "outputs": [],
   "source": [
    "class ConcreteBuilder(Builder):\n",
    "    pass"
   ]
  },
  {
   "cell_type": "code",
   "execution_count": 67,
   "metadata": {},
   "outputs": [],
   "source": [
    "class ConcreteDirector(Director):\n",
    "    pass"
   ]
  },
  {
   "cell_type": "markdown",
   "metadata": {},
   "source": [
    "## 使用示例"
   ]
  },
  {
   "cell_type": "markdown",
   "metadata": {},
   "source": [
    "### 未使用建造者模式"
   ]
  },
  {
   "cell_type": "code",
   "execution_count": 12,
   "metadata": {},
   "outputs": [],
   "source": [
    "def generate_webform(field_list):\n",
    "    generated_fields = \"\\n\".join(map(lambda x:'{0}:<br/><input type=\"text\" name=\"{0}\"/><br/>'.format(x), field_list))\n",
    "    return \"<form>{fields}</form>\".format(fields=generated_fields)"
   ]
  },
  {
   "cell_type": "code",
   "execution_count": 13,
   "metadata": {},
   "outputs": [
    {
     "name": "stdout",
     "output_type": "stream",
     "text": [
      "<form>name:<br/><input type=\"text\" name=\"name\"/><br/>\n",
      "age:<br/><input type=\"text\" name=\"age\"/><br/>\n",
      "email:<br/><input type=\"text\" name=\"email\"/><br/>\n",
      "telephone:<br/><input type=\"text\" name=\"telephone\"/><br/></form>\n"
     ]
    }
   ],
   "source": [
    "fields = [\"name\", \"age\", \"email\", \"telephone\"]\n",
    "print(generate_webform(fields))"
   ]
  },
  {
   "cell_type": "code",
   "execution_count": 14,
   "metadata": {},
   "outputs": [],
   "source": [
    "def build_html_form(fields):\n",
    "    with open(\"/tmp/form_file.html\", \"w\") as f:\n",
    "        f.write(\"<html><body>{}</body></html>\".format(generate_webform(fields)))"
   ]
  },
  {
   "cell_type": "code",
   "execution_count": 15,
   "metadata": {},
   "outputs": [],
   "source": [
    "fields = [\"name\", \"age\", \"email\", \"telephone\"]\n",
    "build_html_form(fields)"
   ]
  },
  {
   "cell_type": "code",
   "execution_count": null,
   "metadata": {},
   "outputs": [],
   "source": [
    "# %load /tmp/form_file.html\n",
    "<html><body><form>name:<br/><input type=\"text\" name=\"name\"/><br/>\n",
    "age:<br/><input type=\"text\" name=\"age\"/><br/>\n",
    "email:<br/><input type=\"text\" name=\"email\"/><br/>\n",
    "telephone:<br/><input type=\"text\" name=\"telephone\"/><br/></form></body></html>"
   ]
  },
  {
   "cell_type": "markdown",
   "metadata": {},
   "source": [
    "<html><body><form>name:<br/><input type=\"text\" name=\"name\"/><br/>\n",
    "age:<br/><input type=\"text\" name=\"age\"/><br/>\n",
    "email:<br/><input type=\"text\" name=\"email\"/><br/>\n",
    "telephone:<br/><input type=\"text\" name=\"telephone\"/><br/></form></body></html>"
   ]
  },
  {
   "cell_type": "code",
   "execution_count": 40,
   "metadata": {},
   "outputs": [],
   "source": [
    "def generate_webform(text_field_list=[], checkbox_field_list=[]):\n",
    "    generated_fields = \"\\n\".join(map(lambda x:'{0}:<input type=\"text\" name=\"{0}\"/><br/>'.format(x), text_field_list))\n",
    "    generated_fields += \"\\n\".join(map(lambda x:'<label>{0}</label><input type=\"checkbox\" id=\"{0} \"value=\"{0}\"/><br/>'.format(x), checkbox_field_list))\n",
    "    return \"<form>{fields}</form>\".format(fields=generated_fields)"
   ]
  },
  {
   "cell_type": "code",
   "execution_count": 41,
   "metadata": {},
   "outputs": [],
   "source": [
    "def build_html_form(text_field_list=[], checkbox_field_list=[]):\n",
    "    with open(\"/tmp/form_file.html\", \"w\") as f:\n",
    "        f.write(\n",
    "            \"<html><body>{}</body></html>\".format(\n",
    "                generate_webform(\n",
    "                    text_field_list=text_field_list, \n",
    "                    checkbox_field_list=checkbox_field_list\n",
    "                )\n",
    "            )\n",
    "        )"
   ]
  },
  {
   "cell_type": "code",
   "execution_count": 42,
   "metadata": {},
   "outputs": [],
   "source": [
    "text_fields = [\"name\", \"age\", \"email\", \"telephone\"]\n",
    "checkbox_fields = [\"awesome\", \"bad\"]\n",
    "build_html_form(text_field_list=text_fields, checkbox_field_list=checkbox_fields)"
   ]
  },
  {
   "cell_type": "code",
   "execution_count": null,
   "metadata": {},
   "outputs": [],
   "source": [
    "# %load /tmp/form_file.html\n",
    "<html><body><form>name:<input type=\"text\" name=\"name\"/><br/>\n",
    "age:<input type=\"text\" name=\"age\"/><br/>\n",
    "email:<input type=\"text\" name=\"email\"/><br/>\n",
    "telephone:<input type=\"text\" name=\"telephone\"/><br/><label>awesome</label><input type=\"checkbox\" id=\"awesome \"value=\"awesome\"/><br/>\n",
    "<label>bad</label><input type=\"checkbox\" id=\"bad \"value=\"bad\"/><br/></form></body></html>"
   ]
  },
  {
   "cell_type": "code",
   "execution_count": null,
   "metadata": {},
   "outputs": [],
   "source": []
  },
  {
   "cell_type": "markdown",
   "metadata": {},
   "source": [
    "<html><body><form>name:<input type=\"text\" name=\"name\"/><br/>\n",
    "age:<input type=\"text\" name=\"age\"/><br/>\n",
    "email:<input type=\"text\" name=\"email\"/><br/>\n",
    "telephone:<input type=\"text\" name=\"telephone\"/><br/><label>awesome</label><input type=\"checkbox\" id=\"awesome \"value=\"awesome\"/><br/>\n",
    "<label>bad</label><input type=\"checkbox\" id=\"bad \"value=\"bad\"/><br/></form></body></html>"
   ]
  },
  {
   "cell_type": "code",
   "execution_count": 44,
   "metadata": {},
   "outputs": [],
   "source": [
    "def generate_webform(field_dict_list):\n",
    "    generated_fields_list = []\n",
    "    for field_dict in field_dict_list:\n",
    "        if field_dict[\"type\"] == \"text_field\":\n",
    "            generated_fields_list.append(\n",
    "                '{0}:<input type=\"text\" name=\"{0}\"><br/>'.format(\n",
    "                    field_dict[\"label\"],\n",
    "                    field_dict[\"name\"]\n",
    "                )\n",
    "            )\n",
    "        elif field_dict[\"type\"] == \"checkbox\":\n",
    "             generated_fields_list.append(\n",
    "                '<label>{0}</label><input type=\"checkbox\" id=\"{1}\" value=\"{2}\"><br/>'.format(\n",
    "                    field_dict[\"label\"],\n",
    "                    field_dict[\"id\"],\n",
    "                    field_dict[\"value\"]\n",
    "                )\n",
    "            )\n",
    "    generated_fields = \"\\n\".join(generated_fields_list)\n",
    "    return \"<form>{fields}</form>\".format(fields=generated_fields)"
   ]
  },
  {
   "cell_type": "code",
   "execution_count": 45,
   "metadata": {},
   "outputs": [],
   "source": [
    "def build_html_form(field_list):\n",
    "    with open(\"/tmp/form_file.html\", \"w\") as f:\n",
    "        f.write(\n",
    "            \"<html><body>{}</body></html>\".format(\n",
    "                generate_webform(field_list)\n",
    "            )\n",
    "        )"
   ]
  },
  {
   "cell_type": "code",
   "execution_count": 47,
   "metadata": {},
   "outputs": [],
   "source": [
    "field_list = [\n",
    "    {\n",
    "        \"type\":\"text_field\",\n",
    "        \"label\":\"Best text you have ever written\",\n",
    "        \"name\":\"best_text\"\n",
    "    },{\n",
    "        \"type\":\"checkbox\",\n",
    "        \"id\":\"check_it\",\n",
    "        \"value\":\"1\",\n",
    "        \"label\":\"Check for one\"\n",
    "    },{\n",
    "        \"type\":\"text_field\",\n",
    "        \"label\":\"Another Text field\",\n",
    "        \"name\":\"text_field2\"\n",
    "    }\n",
    "]\n",
    "build_html_form(field_list)"
   ]
  },
  {
   "cell_type": "code",
   "execution_count": null,
   "metadata": {},
   "outputs": [],
   "source": [
    "# %load /tmp/form_file.html\n",
    "<html><body><form>Best text you have ever written:<input type=\"text\" name=\"Best text you have ever written\"><br/>\n",
    "<label>Check for one</label><input type=\"checkbox\" id=\"check_it\" value=\"1\"><br/>\n",
    "Another Text field:<input type=\"text\" name=\"Another Text field\"><br/></form></body></html>"
   ]
  },
  {
   "cell_type": "markdown",
   "metadata": {},
   "source": [
    "<html><body><form>Best text you have ever written:<input type=\"text\" name=\"Best text you have ever written\"><br/>\n",
    "<label>Check for one</label><input type=\"checkbox\" id=\"check_it\" value=\"1\"><br/>\n",
    "Another Text field:<input type=\"text\" name=\"Another Text field\"><br/></form></body></html>"
   ]
  },
  {
   "cell_type": "code",
   "execution_count": 51,
   "metadata": {},
   "outputs": [],
   "source": [
    "def generate_text_field(text_field_dict):\n",
    "    return '{0}:<input type=\"text\" name=\"{1}\"><br/>'.format(\n",
    "         text_field_dict[\"label\"],\n",
    "         text_field_dict[\"name\"]    \n",
    "     )\n",
    "\n",
    "def generate_checkbox(checkbox_dict):\n",
    "    return '<label>{0}</label><input type=\"checkbox\" id=\"{1}\" value=\"{2}\"><br/>'.format(\n",
    "        checkbox_dict[\"label\"],\n",
    "        checkbox_dict[\"id\"],\n",
    "        checkbox_dict[\"value\"]\n",
    "    )\n",
    "\n",
    "\n",
    "\n",
    "def generate_webform(field_dict_list):\n",
    "    generated_fields_list = []\n",
    "    for field_dict in field_dict_list:\n",
    "        if field_dict[\"type\"] == \"text_field\":\n",
    "            field_html = generate_text_field(field_dict)\n",
    "        elif field_dict[\"type\"] == \"checkbox\":\n",
    "             field_html=generate_checkbox(field_dict)\n",
    "        generated_fields_list.append(field_html)\n",
    "    generated_fields = \"\\n\".join(generated_fields_list)\n",
    "    return \"<form>{fields}</form>\".format(fields=generated_fields)"
   ]
  },
  {
   "cell_type": "code",
   "execution_count": 52,
   "metadata": {},
   "outputs": [],
   "source": [
    "field_list = [\n",
    "    {\n",
    "        \"type\":\"text_field\",\n",
    "        \"label\":\"Best text you have ever written\",\n",
    "        \"name\":\"best_text\"\n",
    "    },{\n",
    "        \"type\":\"checkbox\",\n",
    "        \"id\":\"check_it\",\n",
    "        \"value\":\"1\",\n",
    "        \"label\":\"Check for one\"\n",
    "    },{\n",
    "        \"type\":\"text_field\",\n",
    "        \"label\":\"Another Text field\",\n",
    "        \"name\":\"text_field2\"\n",
    "    }\n",
    "]\n",
    "build_html_form(field_list)"
   ]
  },
  {
   "cell_type": "code",
   "execution_count": null,
   "metadata": {},
   "outputs": [],
   "source": [
    "# %load /tmp/form_file.html\n",
    "<html><body><form>Best text you have ever written:<input type=\"text\" name=\"best_text\"><br/>\n",
    "<label>Check for one</label><input type=\"checkbox\" id=\"check_it\" value=\"1\"><br/>\n",
    "Another Text field:<input type=\"text\" name=\"text_field2\"><br/></form></body></html>"
   ]
  },
  {
   "cell_type": "markdown",
   "metadata": {},
   "source": [
    "<html><body><form>Best text you have ever written:<input type=\"text\" name=\"best_text\"><br/>\n",
    "<label>Check for one</label><input type=\"checkbox\" id=\"check_it\" value=\"1\"><br/>\n",
    "Another Text field:<input type=\"text\" name=\"text_field2\"><br/></form></body></html>"
   ]
  },
  {
   "cell_type": "code",
   "execution_count": 57,
   "metadata": {},
   "outputs": [],
   "source": [
    "class HtmlField(object):\n",
    "    def __init__(self, **kargs):\n",
    "        self.html = \"\"\n",
    "        \n",
    "        if kargs['field_type'] == \"text_field\":\n",
    "            self.html = self.construct_text_field(kargs[\"label\"], kargs[\"field_name\"])\n",
    "        elif kargs['field_type'] == \"checkbox\":\n",
    "            self.html = self.construct_checkbox(kargs[\"field_id\"], kargs[\"value\"], kargs[\"label\"])\n",
    "            \n",
    "    def construct_text_field(self, label, field_name):\n",
    "        return '{0}:<input type=\"text\" name=\"{1}\"><br/>'.format(\n",
    "             label,\n",
    "             field_name    \n",
    "         )\n",
    "    \n",
    "    def construct_checkbox(self, field_id, value, label):\n",
    "        return '<label>{0}</label><input type=\"checkbox\" id=\"{1}\" value=\"{2}\"><br/>'.format(\n",
    "            label,\n",
    "            field_id,\n",
    "            value\n",
    "        )\n",
    "    \n",
    "    def __str__(self):\n",
    "        return self.html\n",
    "    \n",
    "def generate_webform(field_dict_list):\n",
    "    generated_fields_list = []\n",
    "    for field in field_dict_list:\n",
    "        try:\n",
    "            generated_fields_list.append(str(HtmlField(**field)))\n",
    "        except Exception as e:\n",
    "            print(\"error:{}\".format(e))\n",
    "    generated_fields = \"\\n\".join(generated_fields_list)\n",
    "    return \"<form>{fields}</form>\".format(fields=generated_fields)"
   ]
  },
  {
   "cell_type": "code",
   "execution_count": 61,
   "metadata": {},
   "outputs": [],
   "source": [
    "field_list = [\n",
    "    {\n",
    "        \"field_type\":\"text_field\",\n",
    "        \"label\":\"Best text you have ever written\",\n",
    "        \"field_name\":\"best_text\"\n",
    "    },{\n",
    "        \"field_type\":\"checkbox\",\n",
    "        \"field_id\":\"check_it\",\n",
    "        \"value\":\"1\",\n",
    "        \"label\":\"Check for one\"\n",
    "    },{\n",
    "        \"field_type\":\"text_field\",\n",
    "        \"label\":\"Another Text field\",\n",
    "        \"field_name\":\"text_field2\"\n",
    "    }\n",
    "]\n",
    "build_html_form(field_list)"
   ]
  },
  {
   "cell_type": "code",
   "execution_count": null,
   "metadata": {},
   "outputs": [],
   "source": [
    "# %load /tmp/form_file.html\n",
    "<html><body><form>Best text you have ever written:<input type=\"text\" name=\"best_text\"><br/>\n",
    "<label>Check for one</label><input type=\"checkbox\" id=\"check_it\" value=\"1\"><br/>\n",
    "Another Text field:<input type=\"text\" name=\"text_field2\"><br/></form></body></html>"
   ]
  },
  {
   "cell_type": "markdown",
   "metadata": {},
   "source": [
    "<html><body><form>Best text you have ever written:<input type=\"text\" name=\"best_text\"><br/>\n",
    "<label>Check for one</label><input type=\"checkbox\" id=\"check_it\" value=\"1\"><br/>\n",
    "Another Text field:<input type=\"text\" name=\"text_field2\"><br/></form></body></html>"
   ]
  },
  {
   "cell_type": "markdown",
   "metadata": {},
   "source": [
    "### 使用建造者模式"
   ]
  },
  {
   "cell_type": "code",
   "execution_count": 75,
   "metadata": {},
   "outputs": [],
   "source": [
    "class AbstractFormBuilder(object, metaclass=ABCMeta):\n",
    "    def __init__(self):\n",
    "        self.constructed_object = None\n",
    "        \n",
    "    @abstractmethod\n",
    "    def add_text_field(self, field_dict):\n",
    "        pass\n",
    "    \n",
    "    @abstractmethod\n",
    "    def add_checkbox(self, checkbox_dict):\n",
    "        pass\n",
    "    \n",
    "    @abstractmethod\n",
    "    def add_button(self, button_dict):\n",
    "        pass"
   ]
  },
  {
   "cell_type": "code",
   "execution_count": 76,
   "metadata": {},
   "outputs": [],
   "source": [
    "class HtmlForm(object):\n",
    "    def __init__(self):\n",
    "        self.field_list = []\n",
    "        \n",
    "    def __repr__(self):\n",
    "        return \"<form>{}</form>\".format(\"\".join(self.field_list))"
   ]
  },
  {
   "cell_type": "code",
   "execution_count": 77,
   "metadata": {},
   "outputs": [],
   "source": [
    "class HtmlFormBuilder(AbstractFormBuilder):\n",
    "    def __init__(self):\n",
    "        self.constructed_object = HtmlForm()\n",
    "        \n",
    "    def add_text_field(self, field_dict):\n",
    "        self.constructed_object.field_list.append(\n",
    "            '{0}:<input type=\"text\" name=\"{1}\"><br/>'.format(\n",
    "                field_dict[\"label\"],\n",
    "                field_dict[\"field_name\"]\n",
    "            )\n",
    "        )\n",
    "        \n",
    "    def add_checkbox(self, chekcbox_dict):\n",
    "        self.constructed_object.field_list.append(\n",
    "            '<label>{0}</label><input type=\"checkbox\" id=\"{1}\" value=\"{2}\"><br/>'.format(\n",
    "                chekcbox_dict[\"label\"],\n",
    "                chekcbox_dict[\"field_id\"],\n",
    "                chekcbox_dict[\"value\"]\n",
    "            )\n",
    "        )\n",
    "        \n",
    "    def add_button(self, button_dict):\n",
    "        self.constructed_object.field_list.append(\n",
    "            '<button type=\"button\">{}</button>'.format(\n",
    "                button_dict['text']\n",
    "            )\n",
    "        )"
   ]
  },
  {
   "cell_type": "code",
   "execution_count": 78,
   "metadata": {},
   "outputs": [],
   "source": [
    "class FormDirector(Director):\n",
    "    def __init__(self):\n",
    "        super(Director, self).__init__()\n",
    "        \n",
    "    def construct(self, field_list):\n",
    "        for field in field_list:\n",
    "            if field[\"field_type\"] == \"text_field\":\n",
    "                self._builder.add_text_field(field)\n",
    "            elif field[\"field_type\"] == \"checkbox\":\n",
    "                self._builder.add_checkbox(field)\n",
    "            elif field[\"field_type\"] == \"button\":\n",
    "                self._builder.add_button(field)"
   ]
  },
  {
   "cell_type": "code",
   "execution_count": 80,
   "metadata": {},
   "outputs": [
    {
     "name": "stdout",
     "output_type": "stream",
     "text": [
      "<form>Best text you have ever written:<input type=\"text\" name=\"best_text\"><br/><label>Check for one</label><input type=\"checkbox\" id=\"check_it\" value=\"1\"><br/>Another Text field:<input type=\"text\" name=\"text_field2\"><br/><button type=\"button\">DONE</button></form>\n"
     ]
    }
   ],
   "source": [
    "director = FormDirector()\n",
    "html_form_builder = HtmlFormBuilder()\n",
    "director.set_builder(html_form_builder)\n",
    "\n",
    "field_list = [\n",
    "    {\n",
    "        \"field_type\":\"text_field\",\n",
    "        \"label\":\"Best text you have ever written\",\n",
    "        \"field_name\":\"best_text\"\n",
    "    },{\n",
    "        \"field_type\":\"checkbox\",\n",
    "        \"field_id\":\"check_it\",\n",
    "        \"value\":\"1\",\n",
    "        \"label\":\"Check for one\"\n",
    "    },{\n",
    "        \"field_type\":\"text_field\",\n",
    "        \"label\":\"Another Text field\",\n",
    "        \"field_name\":\"text_field2\"\n",
    "    },{\n",
    "        \"field_type\":\"button\",\n",
    "        \"text\":\"DONE\"\n",
    "    }\n",
    "]\n",
    "\n",
    "director.construct(field_list)\n",
    "\n",
    "print(director.get_constructed_object())"
   ]
  },
  {
   "cell_type": "markdown",
   "metadata": {},
   "source": [
    "<form>Best text you have ever written:<input type=\"text\" name=\"best_text\"><br/><label>Check for one</label><input type=\"checkbox\" id=\"check_it\" value=\"1\"><br/>Another Text field:<input type=\"text\" name=\"text_field2\"><br/><button type=\"button\">DONE</button></form>"
   ]
  },
  {
   "cell_type": "markdown",
   "metadata": {},
   "source": [
    "## 参考"
   ]
  },
  {
   "cell_type": "markdown",
   "metadata": {},
   "source": [
    "- 《python 设计模式》\n",
    "- [建造者模式|菜鸟教程](https://www.runoob.com/design-pattern/builder-pattern.html)"
   ]
  }
 ],
 "metadata": {
  "kernelspec": {
   "display_name": "Python 3",
   "language": "python",
   "name": "python3"
  },
  "language_info": {
   "codemirror_mode": {
    "name": "ipython",
    "version": 3
   },
   "file_extension": ".py",
   "mimetype": "text/x-python",
   "name": "python",
   "nbconvert_exporter": "python",
   "pygments_lexer": "ipython3",
   "version": "3.6.8"
  }
 },
 "nbformat": 4,
 "nbformat_minor": 2
}
