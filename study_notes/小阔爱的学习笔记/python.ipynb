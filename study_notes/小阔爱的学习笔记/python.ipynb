{
 "cells": [
  {
   "cell_type": "markdown",
   "metadata": {},
   "source": [
    "# Python 学习笔记"
   ]
  },
  {
   "cell_type": "markdown",
   "metadata": {},
   "source": [
    "##  目录"
   ]
  },
  {
   "cell_type": "markdown",
   "metadata": {},
   "source": [
    "- [一些官网](#一些官网)\n",
    "- [推荐学习网站和书籍](#推荐学习网站和书籍)\n",
    "- [Python 安装](#python-%E5%AE%89%E8%A3%85)\n",
    "- [Anaconda](#Anaconda)"
   ]
  },
  {
   "cell_type": "markdown",
   "metadata": {},
   "source": [
    "## 一些官网\n",
    "\n",
    "- [Python 官网](https://www.python.org/)\n",
    "- [Anaconda 官网](https://www.anaconda.com)\n",
    "- [Numpy 官网](http://www.numpy.org/)\n",
    "- [matplotlib 官网](https://matplotlib.org/)\n",
    "- [pandas 官网](http://pandas.pydata.org/)"
   ]
  },
  {
   "cell_type": "markdown",
   "metadata": {},
   "source": [
    "## 推荐学习网站和书籍\n",
    "\n",
    "- [廖雪峰Python教程](https://www.liaoxuefeng.com/wiki/0014316089557264a6b348958f449949df42a6d3a2e542c000)"
   ]
  },
  {
   "cell_type": "markdown",
   "metadata": {},
   "source": [
    "## python 安装\n",
    "\n",
    "在官网下载指定版本的安装包，直接双击安装。"
   ]
  },
  {
   "cell_type": "markdown",
   "metadata": {},
   "source": [
    "## Anaconda"
   ]
  },
  {
   "cell_type": "markdown",
   "metadata": {},
   "source": [
    "### Anaconda 安装\n",
    "\n",
    "1. 在anaconda官网下载最新anaconda安装包并安装。\n",
    "\n",
    "2. 在Windows系统环境下设置好环境变量\n"
   ]
  },
  {
   "cell_type": "markdown",
   "metadata": {},
   "source": [
    "### 创建环境\n",
    "在命令行中输入如下命令：\n",
    "```bash\n",
    "conda create -n xxx python==3.6\n",
    "```\n",
    "\n",
    "**注意：** \n",
    "- `xxx`代表环境名称，可任意设置；\n",
    "- `python==3.6`指定Python的版本为3.6。"
   ]
  },
  {
   "cell_type": "markdown",
   "metadata": {},
   "source": [
    "### 环境激活\n",
    "\n",
    "运行如下命令：\n",
    "\n",
    "```bash\n",
    "conda activate xxx\n",
    "```\n",
    "\n",
    "**注意：** \n",
    "- `xxx`代表环境名称，可任意设置；\n",
    "- 环境激活过后，在命令提示符中会有`(xxx)`提示。\n"
   ]
  },
  {
   "cell_type": "markdown",
   "metadata": {},
   "source": [
    "# Python"
   ]
  },
  {
   "cell_type": "markdown",
   "metadata": {},
   "source": [
    "第一个程序："
   ]
  },
  {
   "cell_type": "code",
   "execution_count": 1,
   "metadata": {},
   "outputs": [
    {
     "name": "stdout",
     "output_type": "stream",
     "text": [
      "hello word\n"
     ]
    }
   ],
   "source": [
    "print(\"hello word\")"
   ]
  },
  {
   "cell_type": "markdown",
   "metadata": {},
   "source": [
    "### Python中的数据结构\n",
    "\n",
    "1. 列表(List)：\n",
    "    在python中列表使用中括号`[]`来表示"
   ]
  },
  {
   "cell_type": "code",
   "execution_count": 16,
   "metadata": {},
   "outputs": [
    {
     "name": "stdout",
     "output_type": "stream",
     "text": [
      "[1, 2, 3, 4, 5, 6]\n",
      "appended: [1, 2, 3, 4, 5, 6, 7]\n",
      "deleted: [1, 2, 3, 5, 6, 7]\n",
      "inserted: [1, 2, 3, 5, 2, 6, 7]\n",
      "Bingo\n",
      "modified: [1, 2, 3, 5, 10, 6, 7]\n"
     ]
    }
   ],
   "source": [
    "a = [1, 2, 3, 4, 5, 6]\n",
    "\n",
    "print(a)\n",
    "\n",
    "a.append(7)\n",
    "\n",
    "print(\"appended:\", a)\n",
    "\n",
    "del a[3]\n",
    "\n",
    "print(\"deleted:\", a)\n",
    "\n",
    "a.insert(4, 2)\n",
    "print(\"inserted:\", a)\n",
    "\n",
    "if  5 in a:\n",
    "    print(\"Bingo\")\n",
    "    \n",
    "    \n",
    "a[4] = 10\n",
    "\n",
    "print(\"modified:\", a)"
   ]
  },
  {
   "cell_type": "markdown",
   "metadata": {},
   "source": [
    "2. 元组(tuple): 在Python中元组使用`()`表示"
   ]
  },
  {
   "cell_type": "code",
   "execution_count": 23,
   "metadata": {},
   "outputs": [
    {
     "name": "stdout",
     "output_type": "stream",
     "text": [
      "(1, 2, 3, 4, 5, 6)\n"
     ]
    }
   ],
   "source": [
    "b = (1, 2, 3, 4, 5, 6)\n",
    "\n",
    "print(b)\n",
    "\n",
    "# b.append(7)\n",
    "\n",
    "# del b[0]\n",
    "\n",
    "# b.insert(2, 3)\n",
    "\n",
    "# b[0] = 10"
   ]
  },
  {
   "cell_type": "markdown",
   "metadata": {},
   "source": [
    "3. 字典(dict)\n",
    "    在Python中字典用`{}`表示，在字典中是以键-值对来存储数据的。"
   ]
  },
  {
   "cell_type": "code",
   "execution_count": 28,
   "metadata": {},
   "outputs": [
    {
     "name": "stdout",
     "output_type": "stream",
     "text": [
      "{'zy': '大阔爱', 'zage': 27, 'ld': '小阔爱', 'age': 23}\n"
     ]
    }
   ],
   "source": [
    "c = {\"zy\":\"大阔爱\", \"zage\":27}\n",
    "\n",
    "c[\"ld\"] = \"小阔爱\"\n",
    "c[\"age\"] = 23\n",
    "\n",
    "print(c)"
   ]
  },
  {
   "cell_type": "markdown",
   "metadata": {},
   "source": [
    "### Python 中的函数\n",
    "函数定义：\n",
    "```python\n",
    "def func(args):\n",
    "    # TODO\n",
    "    return xxx\n",
    "```\n",
    "\n",
    "函数使用：\n",
    "```python\n",
    "args=c\n",
    "func(args)\n",
    "```"
   ]
  },
  {
   "cell_type": "code",
   "execution_count": 32,
   "metadata": {},
   "outputs": [
    {
     "name": "stdout",
     "output_type": "stream",
     "text": [
      "7\n"
     ]
    }
   ],
   "source": [
    "def add(a, b):\n",
    "    return a+b\n",
    "\n",
    "c = add(3, 4)\n",
    "\n",
    "print(c)"
   ]
  },
  {
   "cell_type": "code",
   "execution_count": 36,
   "metadata": {},
   "outputs": [
    {
     "data": {
      "text/plain": [
       "array([[0., 0., 0.],\n",
       "       [0., 0., 0.],\n",
       "       [0., 0., 0.]])"
      ]
     },
     "execution_count": 36,
     "metadata": {},
     "output_type": "execute_result"
    }
   ],
   "source": [
    "import numpy as np\n",
    "\n",
    "np.zeros((3, 3))"
   ]
  },
  {
   "cell_type": "code",
   "execution_count": 37,
   "metadata": {},
   "outputs": [
    {
     "data": {
      "text/plain": [
       "array([1, 2, 3, 4, 5])"
      ]
     },
     "execution_count": 37,
     "metadata": {},
     "output_type": "execute_result"
    }
   ],
   "source": [
    "import numpy as np\n",
    "\n",
    "np.array([1, 2, 3, 4, 5])"
   ]
  },
  {
   "cell_type": "code",
   "execution_count": null,
   "metadata": {},
   "outputs": [],
   "source": []
  }
 ],
 "metadata": {
  "kernelspec": {
   "display_name": "Python 3",
   "language": "python",
   "name": "python3"
  },
  "language_info": {
   "codemirror_mode": {
    "name": "ipython",
    "version": 3
   },
   "file_extension": ".py",
   "mimetype": "text/x-python",
   "name": "python",
   "nbconvert_exporter": "python",
   "pygments_lexer": "ipython3",
   "version": "3.6.8"
  }
 },
 "nbformat": 4,
 "nbformat_minor": 2
}
