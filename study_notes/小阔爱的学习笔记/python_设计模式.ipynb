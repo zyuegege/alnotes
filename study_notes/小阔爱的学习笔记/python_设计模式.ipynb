{
 "cells": [
  {
   "cell_type": "markdown",
   "metadata": {},
   "source": [
    "#  PYTHON 设计模式"
   ]
  },
  {
   "cell_type": "markdown",
   "metadata": {},
   "source": [
    "----"
   ]
  },
  {
   "cell_type": "markdown",
   "metadata": {},
   "source": [
    "设计模式有助于我们借鉴其他人的成功经验，而不是考自己摸爬滚打。"
   ]
  },
  {
   "cell_type": "markdown",
   "metadata": {},
   "source": [
    "## 目录"
   ]
  },
  {
   "cell_type": "markdown",
   "metadata": {},
   "source": [
    "- [设计模式介绍](python_设计模式/设计模式介绍.ipynb)\n",
    "- [单例模式](python_设计模式/单例模式.ipynb)\n",
    "- [原型模式](python_设计模式/原型模式.ipynb)\n",
    "- [工厂模式](python_设计模式/工厂模式.ipynb)\n",
    "- [建造者模式](python_设计模式/建造者模式.ipynb)\n",
    "- [适配器模式](python_设计模式/适配器模式.ipynb)\n",
    "- [装饰器模式](python_设计模式/装饰器模式.ipynb)\n",
    "- [外观模式](python_设计模式/外观模式.ipynb)\n",
    "- [代理模式](python_设计模式/代理模式.ipynb)\n",
    "- [责任链模式](python_设计模式/责任链模式.ipynb)\n",
    "- [命令模式](python_设计模式/命令模式.ipynb)\n",
    "- [解释器模式](python_设计模式/解释器模式.ipynb)\n",
    "- [迭代器模式](python_设计模式/迭代器模式.ipynb)\n",
    "- [观察者模式](python_设计模式/观察者模式.ipynb)\n",
    "- [状态模式](python_设计模式/状态模式.ipynb)\n",
    "- [策略模式](python_设计模式/策略模式.ipynb)\n",
    "- [模板方法模式](python_设计模式/模板方法模式.ipynb)\n",
    "- [访问者模式](python_设计模式/访问者模式.ipynb)\n",
    "- [模型-视图-控制器模式](python_设计模式/模型-视图-控制器模式.ipynb)\n",
    "- [发布-订阅模式](python_设计模式/发布-订阅模式.ipynb)"
   ]
  }
 ],
 "metadata": {
  "kernelspec": {
   "display_name": "Python 3",
   "language": "python",
   "name": "python3"
  },
  "language_info": {
   "codemirror_mode": {
    "name": "ipython",
    "version": 3
   },
   "file_extension": ".py",
   "mimetype": "text/x-python",
   "name": "python",
   "nbconvert_exporter": "python",
   "pygments_lexer": "ipython3",
   "version": "3.6.8"
  }
 },
 "nbformat": 4,
 "nbformat_minor": 2
}
