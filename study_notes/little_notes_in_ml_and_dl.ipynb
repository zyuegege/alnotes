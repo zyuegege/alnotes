{
 "cells": [
  {
   "cell_type": "markdown",
   "metadata": {
    "heading_collapsed": true
   },
   "source": [
    "# little notes"
   ]
  },
  {
   "cell_type": "markdown",
   "metadata": {
    "hidden": true
   },
   "source": [
    "深度学习和机器学习的学习已经有很长一段时间了，但是在这一段时间里总是，这山望着那山高的一个状态。所以也一直没有什么成绩，时时刻刻都在自怨自艾，很多的时候其实是有很多的想法，也想做很多事情，但是却总是不能够坚持下去，心里难免会有很多的失落，尤其是在看着周围的小伙伴们都在一天一天的变的更优秀。后面有许多的比赛，和项目，在这个过程中，会学到很多的东西，所以我想做一些我能作的事情。虽然不是太难，但我希望能够坚持。"
   ]
  },
  {
   "cell_type": "markdown",
   "metadata": {
    "heading_collapsed": true
   },
   "source": [
    "# 目录"
   ]
  },
  {
   "cell_type": "markdown",
   "metadata": {
    "hidden": true
   },
   "source": [
    "- [计机机视觉](#计算机视觉)"
   ]
  },
  {
   "cell_type": "markdown",
   "metadata": {},
   "source": [
    "# 计算机视觉"
   ]
  },
  {
   "cell_type": "markdown",
   "metadata": {},
   "source": [
    "## 视觉基础"
   ]
  },
  {
   "cell_type": "markdown",
   "metadata": {},
   "source": [
    "## 视觉像像分类"
   ]
  },
  {
   "cell_type": "markdown",
   "metadata": {},
   "source": [
    "### 分类任务的评价标准 "
   ]
  },
  {
   "cell_type": "markdown",
   "metadata": {},
   "source": [
    "- 准确率（Accuracy）\n",
    "\n",
    "    \\begin{equation}\n",
    "    Accuracy = \\frac{分类正确的数目}{所有样本总数目} = 1 - Errorrate\n",
    "    \\label{eq:accuracy}\n",
    "    \\end{equation}"
   ]
  },
  {
   "cell_type": "markdown",
   "metadata": {},
   "source": [
    "- 错误率（error rate)\n",
    "\n",
    "    \\begin{equation}\n",
    "    Errorrate = \\frac{分类错误的数目}{所有样本的总数目} = 1 - Accuracy\n",
    "    \\label{eq:errorrate}\n",
    "    \\end{equation}"
   ]
  },
  {
   "cell_type": "markdown",
   "metadata": {},
   "source": [
    "    准确率(Accuracy)和错误率(Errorrate)一般用来评估模型的全局准确程度，不能包含太多信息。"
   ]
  },
  {
   "cell_type": "markdown",
   "metadata": {},
   "source": [
    "- 混淆矩阵 （Confusion Matrix）\n",
    "\n",
    "    混淆矩阵又被称为错误矩阵， 在每个类别下，模型预测错误的结果数量，以及错误预测的类别和正确预测的数量都在一个矩阵下面显示出来，方便直观的评估模型分类的结果。\n",
    "    \n",
    "    混淆矩阵中的**横轴**是模型预测的类别数量统计，**纵轴**是数据真实标签的数量统计。\n",
    "    **对角线**，表示模型预测和数据标签一致的数目，所以对角线之和除以测试集总数就是准确率。对角线上数字越大越好,说明模型在该类的预测准确率越高。"
   ]
  },
  {
   "cell_type": "markdown",
   "metadata": {},
   "source": [
    "虽然我们的模型处理的是多标签的分类任务，在一些场景中我们更加关注的可能是某一个类别对错与否的标签，相当于一个二分类。比如在做一个查找某个对象的任务。当样本不均衡是，如正样本10，负样本990，这时即使模型把1000个样本全部预测为负样本，准确率（Accuracy）也有99%，这显然是有问题的。这里可以考虑用其他指标。"
   ]
  },
  {
   "cell_type": "markdown",
   "metadata": {},
   "source": [
    "分类目标只有两类，计为**正例（positive）**和**负（negtive）**\n",
    "\n",
    "![](little_notes_in_ml_and_dl/fig1.png)\n",
    "\n",
    "1. True positives(TP): 被正确地划分为正例的个数，即实际为正例且被分类器划分为正例的实例数（样本数）\n",
    "2. False positives(FP): 被错误地划分为正例的个数，即实际为负例但被分类器划分为正例的实例数\n",
    "3. False negatives(FN): 被错误地划分为负例的个数，即实际为正例但被分类器划分为负例的实例数\n",
    "4. True negatives(TN): 被正确地划分为负例的个数，即实际为负例且被分类器划分为负例的实例数"
   ]
  },
  {
   "cell_type": "markdown",
   "metadata": {},
   "source": [
    "1. TPR（True Positive Rate，又称 灵敏度：sensitivity）\n",
    "\n",
    "    \\begin{equation}\n",
    "    TPR = \\frac{TP}{TP + FN}\n",
    "    \\end{equation}\n",
    "    \n",
    "2. FPR（False Positive Rate）\n",
    "\n",
    "    \\begin{equation}\n",
    "    FPR = \\frac{FP}{FP + TN}\n",
    "    \\end{equation}\n",
    "    \n",
    "3. FNR（False Negative Rate）\n",
    "\n",
    "    \\begin{equation}\n",
    "    FNR = \\frac{FN}{FN + TP}\n",
    "    \\end{equation}\n",
    "    \n",
    "4. TNR（True Negative Rate，又称 特指度：specificity）\n",
    "\n",
    "    \\begin{equation}\n",
    "    TNR = \\frac{TN}{TN + FP}\n",
    "    \\end{equation}"
   ]
  },
  {
   "cell_type": "markdown",
   "metadata": {},
   "source": [
    "- 召回率（recall）\n",
    "\n",
    "    又被称为查全率，预测为正例（positive）的样本中正确的数量除以真正的Positive的数量\n",
    "    \n",
    "    \\begin{equation}\n",
    "    recall = \\frac{TP}{TP + FN}\n",
    "    \\label{eq:recall}\n",
    "    \\end{equation}"
   ]
  },
  {
   "cell_type": "markdown",
   "metadata": {},
   "source": [
    "- 精确率（Precision）\n",
    "\n",
    "    又被称为查准率，被分为正例的示例中实际为正例的比例\n",
    "    \n",
    "    \\begin{equation}\n",
    "    precision = \\frac{TP}{TP + FP}\n",
    "    \\label{eq:precision}\n",
    "    \\end{equation}"
   ]
  },
  {
   "cell_type": "markdown",
   "metadata": {},
   "source": [
    "## 视觉图像分割"
   ]
  },
  {
   "cell_type": "markdown",
   "metadata": {},
   "source": [
    "## 视觉目标检测"
   ]
  },
  {
   "cell_type": "markdown",
   "metadata": {
    "heading_collapsed": true
   },
   "source": [
    "### 目标检测数据集"
   ]
  },
  {
   "cell_type": "markdown",
   "metadata": {},
   "source": [
    "###   目标检测评估指标"
   ]
  },
  {
   "cell_type": "markdown",
   "metadata": {},
   "source": [
    "### 目标检测方法"
   ]
  },
  {
   "cell_type": "markdown",
   "metadata": {},
   "source": [
    "#### two stages methods"
   ]
  },
  {
   "cell_type": "markdown",
   "metadata": {},
   "source": [
    "- R-CNN"
   ]
  },
  {
   "cell_type": "markdown",
   "metadata": {},
   "source": [
    "- SPP-net"
   ]
  },
  {
   "cell_type": "markdown",
   "metadata": {},
   "source": [
    "- Fast R-CNN"
   ]
  },
  {
   "cell_type": "markdown",
   "metadata": {},
   "source": [
    "- Faster R-CNN"
   ]
  },
  {
   "cell_type": "markdown",
   "metadata": {},
   "source": [
    "- Region-based Fully Convolutional Networks (R-FCN)"
   ]
  },
  {
   "cell_type": "markdown",
   "metadata": {},
   "source": [
    "- Feature Pyramid Networks(FPN) "
   ]
  },
  {
   "cell_type": "markdown",
   "metadata": {},
   "source": [
    "- MNC"
   ]
  },
  {
   "cell_type": "markdown",
   "metadata": {},
   "source": [
    "- Mask R-CNN"
   ]
  },
  {
   "cell_type": "markdown",
   "metadata": {},
   "source": [
    "- Mask Scoring R-CNN"
   ]
  },
  {
   "cell_type": "markdown",
   "metadata": {},
   "source": [
    "#### one stage methods"
   ]
  },
  {
   "cell_type": "markdown",
   "metadata": {},
   "source": [
    "- OverFeat"
   ]
  },
  {
   "cell_type": "markdown",
   "metadata": {},
   "source": [
    "- YOLO (You Only Look Once)"
   ]
  },
  {
   "cell_type": "markdown",
   "metadata": {},
   "source": [
    "- Single-Shot Mulibox Detector (SSD)"
   ]
  },
  {
   "cell_type": "markdown",
   "metadata": {},
   "source": [
    "- RetinaNet"
   ]
  },
  {
   "cell_type": "markdown",
   "metadata": {},
   "source": [
    "- YOLOv2"
   ]
  },
  {
   "cell_type": "markdown",
   "metadata": {},
   "source": [
    "- CornerNet"
   ]
  },
  {
   "cell_type": "markdown",
   "metadata": {},
   "source": [
    "## 视觉跟踪"
   ]
  },
  {
   "cell_type": "markdown",
   "metadata": {},
   "source": [
    "## 图像匹配"
   ]
  },
  {
   "cell_type": "markdown",
   "metadata": {},
   "source": [
    "# 术语"
   ]
  },
  {
   "cell_type": "markdown",
   "metadata": {},
   "source": [
    "- regions of interest (roi)"
   ]
  },
  {
   "cell_type": "markdown",
   "metadata": {},
   "source": [
    "- multi-scale"
   ]
  },
  {
   "cell_type": "markdown",
   "metadata": {},
   "source": [
    "- SIFT(Scale Invariant Feature Transform)"
   ]
  },
  {
   "cell_type": "markdown",
   "metadata": {},
   "source": [
    "- Haar"
   ]
  },
  {
   "cell_type": "markdown",
   "metadata": {},
   "source": [
    "- HOG(Histogram of Gradients)"
   ]
  },
  {
   "cell_type": "markdown",
   "metadata": {},
   "source": [
    "- SURF(Speeded Up Robust Features)"
   ]
  },
  {
   "cell_type": "markdown",
   "metadata": {},
   "source": [
    "- support vector machines(SVM)"
   ]
  },
  {
   "cell_type": "markdown",
   "metadata": {},
   "source": [
    "- bagging"
   ]
  },
  {
   "cell_type": "markdown",
   "metadata": {},
   "source": [
    "- cascade learning"
   ]
  },
  {
   "cell_type": "markdown",
   "metadata": {},
   "source": [
    "- adaboost"
   ]
  },
  {
   "cell_type": "markdown",
   "metadata": {},
   "source": [
    "- Pascal VOC dataset (a publicly available dataset used for benchmarking object detection)"
   ]
  },
  {
   "cell_type": "markdown",
   "metadata": {},
   "source": [
    "- deformable part based machines (DPMs)"
   ]
  },
  {
   "cell_type": "markdown",
   "metadata": {},
   "source": [
    "-  stochastic gradient descent (SGD) "
   ]
  },
  {
   "cell_type": "markdown",
   "metadata": {},
   "source": [
    "- backpropagation"
   ]
  },
  {
   "cell_type": "markdown",
   "metadata": {},
   "source": [
    "-  intersection-overunion (IoU)"
   ]
  },
  {
   "cell_type": "markdown",
   "metadata": {},
   "source": [
    "- mean average precision(mAP)"
   ]
  },
  {
   "cell_type": "markdown",
   "metadata": {},
   "source": [
    "- Frame per second (FPS)"
   ]
  },
  {
   "cell_type": "markdown",
   "metadata": {},
   "source": [
    "-  Selective Search"
   ]
  },
  {
   "cell_type": "markdown",
   "metadata": {},
   "source": [
    "- transfer learning"
   ]
  },
  {
   "cell_type": "markdown",
   "metadata": {},
   "source": [
    "- spatial pyramid matching (SPM)"
   ]
  },
  {
   "cell_type": "markdown",
   "metadata": {},
   "source": [
    "- Spatial Pyramid Pooling (SPP) "
   ]
  },
  {
   "cell_type": "markdown",
   "metadata": {},
   "source": [
    "- ROI Pooling"
   ]
  },
  {
   "cell_type": "markdown",
   "metadata": {},
   "source": [
    "- Edge Boxes "
   ]
  },
  {
   "cell_type": "markdown",
   "metadata": {},
   "source": [
    "- Region Proposal Network(RPN)"
   ]
  },
  {
   "cell_type": "markdown",
   "metadata": {},
   "source": [
    "-  Position Sensitive ROI Pooling(PSROI Pooling)"
   ]
  },
  {
   "cell_type": "markdown",
   "metadata": {},
   "source": [
    "- Focal loss"
   ]
  },
  {
   "cell_type": "markdown",
   "metadata": {},
   "source": [
    "- Batch Normalization"
   ]
  },
  {
   "cell_type": "markdown",
   "metadata": {},
   "source": [
    "- Adam"
   ]
  },
  {
   "cell_type": "markdown",
   "metadata": {},
   "source": [
    "- CPMC"
   ]
  },
  {
   "cell_type": "markdown",
   "metadata": {},
   "source": [
    "- Scale Normalization for Image Pyramids (SNIP)"
   ]
  },
  {
   "cell_type": "markdown",
   "metadata": {},
   "source": [
    "- nside-Outside Network (ION)"
   ]
  },
  {
   "cell_type": "markdown",
   "metadata": {},
   "source": [
    "- HyperNet"
   ]
  },
  {
   "cell_type": "markdown",
   "metadata": {},
   "source": [
    "- Multi-scale Location-aware Kernel Representation (MLKP)"
   ]
  },
  {
   "cell_type": "markdown",
   "metadata": {},
   "source": [
    "- Multi-scale Deep Convolutional Neural Network (MSCNN)"
   ]
  },
  {
   "cell_type": "markdown",
   "metadata": {},
   "source": [
    "- Receptive Field Block Net (RFBNet) "
   ]
  },
  {
   "cell_type": "code",
   "execution_count": null,
   "metadata": {},
   "outputs": [],
   "source": []
  }
 ],
 "metadata": {
  "kernelspec": {
   "display_name": "Python 3",
   "language": "python",
   "name": "python3"
  },
  "language_info": {
   "codemirror_mode": {
    "name": "ipython",
    "version": 3
   },
   "file_extension": ".py",
   "mimetype": "text/x-python",
   "name": "python",
   "nbconvert_exporter": "python",
   "pygments_lexer": "ipython3",
   "version": "3.6.8"
  },
  "toc": {
   "base_numbering": 1,
   "nav_menu": {},
   "number_sections": true,
   "sideBar": true,
   "skip_h1_title": false,
   "title_cell": "Table of Contents",
   "title_sidebar": "Contents",
   "toc_cell": false,
   "toc_position": {},
   "toc_section_display": true,
   "toc_window_display": true
  }
 },
 "nbformat": 4,
 "nbformat_minor": 2
}
