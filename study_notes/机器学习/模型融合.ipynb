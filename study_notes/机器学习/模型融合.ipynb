{
 "cells": [
  {
   "cell_type": "markdown",
   "metadata": {},
   "source": [
    "# 模型融合\n",
    "\n",
    "所谓**模型融合**也叫**集成学习(Ensemble Learning)** 是通过构建多个机器学习的模型或学习器并按照一定的规则将这些模型与学习器结合起来完成整个学习任务。模型融合的可以用下图来表示：\n",
    "\n",
    "![imgs/模型融合.png](imgs/模型融合.png)\n",
    "\n",
    "根据个体模型的生成方式，大致可将模型融合分为两大类：\n",
    "1. 个体模型之间存在强烈的依赖关系、必须串行生成的序列化方法\n",
    "2. 个体模型之间不存在强依赖关系、可以同时生成的并行化方法\n",
    "\n",
    "## Content\n",
    "\n",
    "- [Boosting](#Boosting)\n",
    "- [Bagging](#Bagging)\n",
    "- [Averaging](#Averaging)\n",
    "- [Voting](#Voting)\n",
    "- [Stacking](#Stacking)\n",
    "- [Diversity](#Diversity)\n",
    "\n",
    "## Boosting\n",
    "先从初始训练集训练出一个基模型，在根据基模型的表型对训练样本的分布进行调整，使得先前的模型做错的训练样本在后续的训练中受到更多的关注，然后基于调整后的样本分布来训练下一个模型；如此重复的进行，直至基模型的数目达到指定数值$T$，最终将这$T$个模型进行加权结合。\n",
    "\n"
   ]
  }
 ],
 "metadata": {
  "kernelspec": {
   "display_name": "Python 3",
   "language": "python",
   "name": "python3"
  },
  "language_info": {
   "codemirror_mode": {
    "name": "ipython",
    "version": 3
   },
   "file_extension": ".py",
   "mimetype": "text/x-python",
   "name": "python",
   "nbconvert_exporter": "python",
   "pygments_lexer": "ipython3",
   "version": "3.6.8"
  }
 },
 "nbformat": 4,
 "nbformat_minor": 2
}
