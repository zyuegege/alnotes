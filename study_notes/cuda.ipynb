{
 "cells": [
  {
   "cell_type": "markdown",
   "metadata": {},
   "source": [
    "# CUDA GPU 并行编程 "
   ]
  },
  {
   "cell_type": "markdown",
   "metadata": {},
   "source": [
    "## 目录"
   ]
  },
  {
   "cell_type": "markdown",
   "metadata": {},
   "source": [
    "1. [Hello World](#Hello-World) :第一个Hello World演示程序\n",
    "2. [Add](#Add) :利用GPU实现两个整数的相加。"
   ]
  },
  {
   "cell_type": "markdown",
   "metadata": {},
   "source": [
    "## Hello World\n",
    "---"
   ]
  },
  {
   "cell_type": "markdown",
   "metadata": {},
   "source": [
    "**路径**: study_notes/cuda/demos/1/kernel.cu"
   ]
  },
  {
   "cell_type": "markdown",
   "metadata": {},
   "source": [
    "```c++\n",
    "# include <iostream>\n",
    "\n",
    "__global__ void kernel(void) {\n",
    "}\n",
    "\n",
    "int main(void)\n",
    "{\n",
    "        kernel<<<1,1>>>();\n",
    "        std::cout << \"hello world\" << std::endl;\n",
    "        return 0;\n",
    "}\n",
    "```"
   ]
  },
  {
   "cell_type": "markdown",
   "metadata": {},
   "source": [
    "**程序分析：**\n",
    "- `__global__`: 告诉编译函数应该在GPU设备上面运行；\n",
    "- 未加修饰符的函数将在CPU主机上面运行；\n",
    "- `<<<1,1>>>`: 主机中调用GPU设备上运行的函数的标识符，里面的数字分别代表在GPU设备上面开辟的线程块的数目和每个线程块中的线程数目。"
   ]
  },
  {
   "cell_type": "markdown",
   "metadata": {},
   "source": [
    "## Add\n",
    "\n",
    "---"
   ]
  },
  {
   "cell_type": "markdown",
   "metadata": {},
   "source": [
    "**路径**: study_notes/cuda/demos/2/kernel.cu"
   ]
  },
  {
   "cell_type": "markdown",
   "metadata": {},
   "source": [
    "```c++\n",
    "# include <iostream>\n",
    "# include <cstdlib>\n",
    "\n",
    "using namespace std;\n",
    "\n",
    "__global__ void add(int a, int b, int *c) {\n",
    "        *c = a + b;\n",
    "}\n",
    "\n",
    "int main(int argc, const char * const * argv)\n",
    "{\n",
    "        int a, b, c, *dev_c;\n",
    "\n",
    "        if (argc != 3) {\n",
    "                cout << \"please input two numbers a and b.\" << endl;\n",
    "                return 1;\n",
    "        }\n",
    "\n",
    "        a = atoi(argv[1]);\n",
    "        b = atoi(argv[2]);\n",
    "\n",
    "        cudaMalloc((void**)&dev_c, sizeof(int));\n",
    "\n",
    "        add<<<1,1>>>(a, b, dev_c);\n",
    "\n",
    "        cudaMemcpy(&c, dev_c, sizeof(int), cudaMemcpyDeviceToHost);\n",
    "        cudaFree(dev_c);\n",
    "\n",
    "        cout << a << \"+\" << b << \"=\" << c <<\".\" << endl;\n",
    "\n",
    "        return 0;\n",
    "}\n",
    "```"
   ]
  },
  {
   "cell_type": "markdown",
   "metadata": {},
   "source": [
    "**程序分析**：\n",
    "理由GPU实现两个整数的相加。\n",
    "\n",
    "- 在调用函数GPU设备上运行的函数前需要先调用`cudaMalloc`在GPU上开辟相应的内存，用于保存运行结果和参数；\n",
    "- 函数调用完成后需要调用`cudaFree`函数来释放在GPU设备上开辟的内存；\n",
    "- 主机和GPU设备之间的内存拷贝使用`cudaMemcpy`函数，和普通的C语言中的`memcpy`调用方式一样，只是多了一个参数，指定拷贝的方向：\n",
    "    - `cudaMemcpyDeviceToHost`:从GPU设备内存拷贝的CPU主机内存；\n",
    "    - `cudaMemcpyHostToDevice`:从CPU主机内存拷贝到GPU设备内存。"
   ]
  },
  {
   "cell_type": "code",
   "execution_count": null,
   "metadata": {},
   "outputs": [],
   "source": []
  }
 ],
 "metadata": {
  "kernelspec": {
   "display_name": "Python 3",
   "language": "python",
   "name": "python3"
  },
  "language_info": {
   "codemirror_mode": {
    "name": "ipython",
    "version": 3
   },
   "file_extension": ".py",
   "mimetype": "text/x-python",
   "name": "python",
   "nbconvert_exporter": "python",
   "pygments_lexer": "ipython3",
   "version": "3.6.8"
  },
  "toc": {
   "base_numbering": 1,
   "nav_menu": {},
   "number_sections": true,
   "sideBar": true,
   "skip_h1_title": false,
   "title_cell": "Table of Contents",
   "title_sidebar": "Contents",
   "toc_cell": false,
   "toc_position": {},
   "toc_section_display": true,
   "toc_window_display": false
  }
 },
 "nbformat": 4,
 "nbformat_minor": 2
}
