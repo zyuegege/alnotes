{
 "cells": [
  {
   "cell_type": "markdown",
   "metadata": {},
   "source": [
    "# 《统计学习方法》学习笔记"
   ]
  },
  {
   "cell_type": "markdown",
   "metadata": {},
   "source": [
    "## 统计学习方法概论"
   ]
  },
  {
   "cell_type": "markdown",
   "metadata": {},
   "source": [
    "### 概述"
   ]
  },
  {
   "cell_type": "markdown",
   "metadata": {},
   "source": [
    "**一、学习对象**"
   ]
  },
  {
   "cell_type": "markdown",
   "metadata": {},
   "source": [
    "1. 数据（data）"
   ]
  },
  {
   "cell_type": "markdown",
   "metadata": {},
   "source": [
    "**二、学习方法**"
   ]
  },
  {
   "cell_type": "markdown",
   "metadata": {},
   "source": [
    "1. 监督学习（supervised learning）\n",
    "2. 非监督学习（unsupervised learning）\n",
    "3. 半监督学习（semi-supervised learning）\n",
    "4. 强化学习（reinforcement learning）"
   ]
  },
  {
   "cell_type": "markdown",
   "metadata": {},
   "source": [
    "**三、术语**\n",
    "\n",
    "1. 训练/测试数据（training/test data）\n",
    "2. 假设空间（hypothesis space）\n",
    "3. 评价标准（evaluation criterion）"
   ]
  },
  {
   "cell_type": "markdown",
   "metadata": {},
   "source": [
    "**四、 统计学习方法三要素**\n",
    "\n",
    "1. 模型（model）\n",
    "2. 策略（strategy）\n",
    "3. 算法（algorithm）"
   ]
  },
  {
   "cell_type": "markdown",
   "metadata": {},
   "source": [
    "**五、 统计学习方法步骤** "
   ]
  },
  {
   "cell_type": "markdown",
   "metadata": {},
   "source": [
    "1. 准备训练数据集合\n",
    "2. 确定假设空间，即学习模型的集合\n",
    "3. 确定选择的准则，即策略\n",
    "4. 实现最优模型的算法，即学习算法\n",
    "5. 通过学习选择最优模型\n",
    "6. 利用最优模型对新的数据进行预测与分析"
   ]
  },
  {
   "cell_type": "markdown",
   "metadata": {},
   "source": [
    "### 监督学习"
   ]
  },
  {
   "cell_type": "markdown",
   "metadata": {},
   "source": [
    "从给定的、有限的、用于学习的训练数据（training data）集合出发，假设数据是独立同分布产生的；并假设要学习的模型属于某个函数的集合，称为假设空间（hypothesis space）;应用某个评价标准（evaluation criterion），从假设空间中选区一个最优的模型，使它对已知训练数据及未知测试数据集（test data）在给定的评价标准下有最优的预测；最优模型的选取由算法实现。"
   ]
  },
  {
   "cell_type": "markdown",
   "metadata": {},
   "source": [
    "**一、 基本概念**"
   ]
  },
  {
   "cell_type": "markdown",
   "metadata": {},
   "source": [
    "1. 输入/特征/输出空间（input/feature/output space）\n",
    "2. 联合概率分布\n",
    "3. 假设空间"
   ]
  },
  {
   "cell_type": "markdown",
   "metadata": {},
   "source": [
    "**二、问题形式化**"
   ]
  },
  {
   "cell_type": "markdown",
   "metadata": {},
   "source": [
    "![监督学习](统计学习方法/监督学习.png)"
   ]
  },
  {
   "cell_type": "markdown",
   "metadata": {},
   "source": [
    "### 模型分类 "
   ]
  },
  {
   "cell_type": "markdown",
   "metadata": {},
   "source": [
    "1. 概率模型与非概率模型\n",
    "2. 性模型与非线性模型\n",
    "3. 参数化模型与非参数化模型"
   ]
  },
  {
   "cell_type": "markdown",
   "metadata": {},
   "source": [
    "### 算法分类"
   ]
  },
  {
   "cell_type": "markdown",
   "metadata": {},
   "source": [
    "1. 在线学习\n",
    "2. 批量学习\n",
    "4. 小批量学习"
   ]
  },
  {
   "cell_type": "markdown",
   "metadata": {},
   "source": [
    "### 技巧分类"
   ]
  },
  {
   "cell_type": "markdown",
   "metadata": {},
   "source": [
    "1. 贝叶斯学习\n",
    "2. 核方法"
   ]
  },
  {
   "cell_type": "code",
   "execution_count": null,
   "metadata": {},
   "outputs": [],
   "source": []
  }
 ],
 "metadata": {
  "kernelspec": {
   "display_name": "Python 3",
   "language": "python",
   "name": "python3"
  },
  "language_info": {
   "codemirror_mode": {
    "name": "ipython",
    "version": 3
   },
   "file_extension": ".py",
   "mimetype": "text/x-python",
   "name": "python",
   "nbconvert_exporter": "python",
   "pygments_lexer": "ipython3",
   "version": "3.6.8"
  },
  "toc": {
   "base_numbering": 1,
   "nav_menu": {},
   "number_sections": true,
   "sideBar": true,
   "skip_h1_title": false,
   "title_cell": "Table of Contents",
   "title_sidebar": "Contents",
   "toc_cell": false,
   "toc_position": {},
   "toc_section_display": true,
   "toc_window_display": true
  }
 },
 "nbformat": 4,
 "nbformat_minor": 2
}
