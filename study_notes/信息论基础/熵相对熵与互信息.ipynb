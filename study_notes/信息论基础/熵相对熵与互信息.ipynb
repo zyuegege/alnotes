{
 "cells": [
  {
   "cell_type": "markdown",
   "metadata": {},
   "source": [
    "# 熵、相对熵与互信息"
   ]
  },
  {
   "cell_type": "markdown",
   "metadata": {},
   "source": [
    "---"
   ]
  },
  {
   "cell_type": "markdown",
   "metadata": {},
   "source": [
    "## 目录\n",
    "- [熵](#熵)\n",
    "- [联合熵与条件熵](#联合熵与条件熵)\n",
    "- [相对熵与互信息](#相对熵与互信息)\n",
    "- [熵与互信息的关系](#熵与互信息的关系)\n",
    "- [熵、相对熵与互信息的链式法则](#熵、相对熵与互信息的链式法则)"
   ]
  },
  {
   "cell_type": "markdown",
   "metadata": {},
   "source": [
    "## 熵"
   ]
  },
  {
   "cell_type": "markdown",
   "metadata": {},
   "source": [
    "**定义 1:（_熵_）**\n",
    "\\begin{align}\n",
    "H(X) &= -\\sum_{x\\in\\mathcal{X}}p(x)\\mathrm{log}p(x) \\text{ (离散)}\\\\\n",
    "&= -\\int_{x \\in \\mathcal{X}}p(x)\\mathrm{log}p(x)dx \\text{ (连续)}\\\\\n",
    " &=E_p\\mathrm{log}\\frac{1}{p(X)}\\\\\n",
    "  &=-E_p\\mathrm{log}p(X)\n",
    "\\end{align}\n",
    "\n",
    "**注意：**\n",
    "- $H(p)$中的对数$\\mathrm{log}$的底数$2$，其单位是比特$(bit)$；\n",
    "- $H_b(p)$表示在定义式中的对数的底数取$b$;\n",
    "- 当底数取$e$时，熵的单位为$(nat)$;\n",
    "- 无特别声明，默认选取底数为$2$;\n",
    "- **熵**是随机变量$X$的分布的反函数，并不依赖与$X$的实际值，而仅依赖与其概论分布;\n",
    "- 定义:$0log0=0$。"
   ]
  },
  {
   "cell_type": "markdown",
   "metadata": {},
   "source": [
    "**定理 1：** $H(X)\\geq 0$."
   ]
  },
  {
   "cell_type": "markdown",
   "metadata": {},
   "source": [
    "**定理 2：** $H_b(X)=(\\mathrm{log}_ba)H_a(X)$."
   ]
  },
  {
   "cell_type": "markdown",
   "metadata": {},
   "source": [
    "## 联合熵与条件熵"
   ]
  },
  {
   "cell_type": "markdown",
   "metadata": {},
   "source": [
    "**定义 2 :（_联合熵_）** 联合随机变量$(X,Y)\\sim p(x,y)$，其联合_**熵**_\n",
    "\n",
    "\\begin{align}\n",
    "H(X,Y) &= -\\sum_{x\\in\\mathcal{X}}\\sum_{y\\in\\mathcal{Y}}p(x,y)\\mathrm{log}p(x,y) \\text{ (离散)}\\\\\n",
    "&= -\\int_{x\\in\\mathcal{X}}\\int_{y\\in\\mathcal{Y}}p(x,y)\\mathrm{log}p(x,y)dxdy \\text{ (连续)}\\\\\n",
    "&=-E\\mathrm{log}p(X,Y)\n",
    "\\end{align}"
   ]
  },
  {
   "cell_type": "markdown",
   "metadata": {},
   "source": [
    "**定义 3：（_条件熵_）**$(X,Y)\\sim p(x,y)$, **_条件熵_**\n",
    "\\begin{align}\n",
    "H(Y|X) &= \\sum_{x \\in \\mathcal{X}}p(x)H(Y|X=x)\\\\\n",
    "&= -\\sum_{x\\in\\mathcal{X}}p(x)\\sum_{y\\in\\mathcal{Y}}p(y|x)\\mathrm{log}p(y|x)\\\\\n",
    "&= -\\sum_{x\\in\\mathcal{X}}\\sum_{y\\in\\mathcal{Y}}p(x,y)\\mathrm{log}p(y|x) \\\\\n",
    "&= -E\\mathrm{log}p(Y|X)\n",
    "\\end{align}"
   ]
  },
  {
   "cell_type": "markdown",
   "metadata": {},
   "source": [
    "**定理 3：（_链式法则_）** $H(X,Y)=H(X)+H(Y|X)$.\n",
    "\n",
    "**注意：**$H(Y|X)\\neq H(Y|X)$ 但是 $H(X)-H(X|Y)=H(Y)-H(Y|X)$."
   ]
  },
  {
   "cell_type": "markdown",
   "metadata": {},
   "source": [
    "**推论 1：** $H(X,Y|Z)=H(X|Z)+H(Y|X,Z)$."
   ]
  },
  {
   "cell_type": "markdown",
   "metadata": {},
   "source": [
    "## 相对熵与互信息"
   ]
  },
  {
   "cell_type": "markdown",
   "metadata": {},
   "source": [
    "**定义 4:（_相对熵(Kullback-Leibler距离)_）**给定两个概率密度函数$p(x)$和$q(x)$，其**相对熵（K-L距离）**\n",
    "\\begin{align}\n",
    "D(p\\|q)&=\\sum_{x\\in\\mathcal{X}}p(x)\\mathrm{log}\\frac{p(x)}{q(x)}\\\\\n",
    "&=E_p\\mathrm{log}\\frac{p(X)}{q(X)}\n",
    "\\end{align}"
   ]
  },
  {
   "cell_type": "markdown",
   "metadata": {},
   "source": [
    "**注意：**\n",
    "- **相对熵**是两个随机分布之间的距离度量。\n",
    "- **相对熵**$D(p\\Vert q)$度量当真实分布$p$而假定分布$q$时的无效性。\n",
    "- 约定$0\\mathrm{log}\\frac{0}{0}=0; 0\\mathrm{log}\\frac{0}{q}=0; p\\mathrm{log}\\frac{p}{0}=\\infty$(基于连续性)。\n",
    "- 若存在$x\\in\\mathcal{X}$使得$p(x)>0, q(x)=0$，则有$D(p\\Vert q)=\\infty$"
   ]
  },
  {
   "cell_type": "markdown",
   "metadata": {},
   "source": [
    "**定义 5：（_互信息_）**两个随机变量$X,Y$,其联合概论密度函数为$p(x,y)$,边缘概论密度函数分别为$p(x),p(y)$。**互信息**$I(X;Y)$为联合分布$p(x,y)$和乘积分布$p(x)p(y)$之间的**相对熵**：\n",
    "\\begin{align}\n",
    "I(X;Y)&=\\sum_{x\\in\\mathcal{X}}\\sum_{y\\in\\mathcal{Y}}p(x,y)\\mathrm{log}\\frac{p(x,y)}{p(x)p(y)} \\\\\n",
    "&= D(p(x,y)\\Vert p(x)p(y)) \\\\\n",
    "&=E_{p(x,y)}\\mathrm{log}\\frac{p(X,Y)}{p(X)p(Y)}\n",
    "\\end{align}"
   ]
  },
  {
   "cell_type": "markdown",
   "metadata": {},
   "source": [
    "**注意：**\n",
    "- **互信息**表示一个随机变量包含另一个随机变量信息量的度量。\n",
    "- **互信息**也是在给定另一随机变量的知识的条件下，原随机变量不确定度的缩减量。"
   ]
  },
  {
   "cell_type": "markdown",
   "metadata": {},
   "source": [
    "## 熵与互信息的关系"
   ]
  },
  {
   "cell_type": "markdown",
   "metadata": {},
   "source": [
    "**定理 4：(_互信息与熵_)**\n",
    "\\begin{align}\n",
    "I(X;Y)&=H(X)-H(X|Y) \\\\\n",
    "&=H(Y)-H(Y|X) \\\\\n",
    "&=H(X)+H(Y)-H(X,Y)\\\\\n",
    "&=I(Y;X)\\\\\n",
    "I(X;X)&=H(X)\n",
    "\\end{align}"
   ]
  },
  {
   "cell_type": "markdown",
   "metadata": {},
   "source": [
    "## 熵、相对熵与互信息的链式法则"
   ]
  },
  {
   "cell_type": "markdown",
   "metadata": {},
   "source": [
    "**定理 4:（_熵的链式法则_）** 设随机变量$X_1,X_2,\\cdots,X_n$服从$p(x_1,x_2,\\cdots,x_n)$，则\n",
    "\\begin{equation}\n",
    "H(X_1,X_2,\\cdots,X_n)=\\sum_{i=1}^{n}H(X_i|X_{i-1},\\cdots,X_1)\n",
    "\\end{equation}"
   ]
  },
  {
   "cell_type": "markdown",
   "metadata": {},
   "source": [
    "**定义 6:（_条件互信息_）**随机变量$X,Y$在给定随机变量$Z$的**条件互信息**：\n",
    "\\begin{align}\n",
    "I(X;Y|Z)&=H(X|Z)-H(X|Y,Z)\\\\\n",
    "&=E_{p(x,y,z)}\\mathrm{log}\\frac{p(X,Y|Z)}{p(X|Z)p(Y|Z)}\n",
    "\\end{align}"
   ]
  },
  {
   "cell_type": "markdown",
   "metadata": {},
   "source": [
    "**定理 5:（_互信息的链式法则_）**\n",
    "\\begin{equation}\n",
    "I(X_1,X_2,\\cdots,X_n;Y) = \\sum_{i=1}^nI(X_i;Y|X_{i-1},X_{i-2},\\cdots,X_1)\n",
    "\\end{equation}"
   ]
  },
  {
   "cell_type": "markdown",
   "metadata": {},
   "source": [
    "**定义 7:（_条件相对熵_）**对于联合概论密度函数$p(x,y)$和$q(x,y)$，**条件相对熵**$D(p(y|x)\\Vert q(y|x))$定义为条件概率度函数$p(y|x)$和$q(y|x)$之间的平均相对熵，其中取平均的关于概率密度函数$p(x)$而言的。\n",
    "\\begin{align}\n",
    "D(p(y|x)\\Vert q(y|x))&=\\sum_{x}p(x)\\sum_{y}p(y|x)\\mathrm{log}\\frac{p(y|x)}{q(y|x)}\\\\\n",
    "&=E_{p(x,y)}\\mathrm{log}\\frac{p(Y|X)}{q(Y|X)}\n",
    "\\end{align}"
   ]
  },
  {
   "cell_type": "markdown",
   "metadata": {},
   "source": [
    "**定理 6:（_相对熵的链式法则_）**\n",
    "\\begin{equation}\n",
    "D(p(x,y)\\Vert q(x,y))=D(p(x)\\Vert q(x)) + D(p(y|x)\\Vert q(y|x))\n",
    "\\end{equation}"
   ]
  },
  {
   "cell_type": "code",
   "execution_count": null,
   "metadata": {},
   "outputs": [],
   "source": []
  }
 ],
 "metadata": {
  "kernelspec": {
   "display_name": "Python 3",
   "language": "python",
   "name": "python3"
  },
  "language_info": {
   "codemirror_mode": {
    "name": "ipython",
    "version": 3
   },
   "file_extension": ".py",
   "mimetype": "text/x-python",
   "name": "python",
   "nbconvert_exporter": "python",
   "pygments_lexer": "ipython3",
   "version": "3.6.8"
  }
 },
 "nbformat": 4,
 "nbformat_minor": 2
}
