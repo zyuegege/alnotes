{
 "cells": [
  {
   "cell_type": "markdown",
   "metadata": {},
   "source": [
    "# 绪论与概述"
   ]
  },
  {
   "cell_type": "markdown",
   "metadata": {},
   "source": [
    "---"
   ]
  },
  {
   "cell_type": "markdown",
   "metadata": {},
   "source": [
    "信息论主要解决的两个基本问题："
   ]
  },
  {
   "cell_type": "markdown",
   "metadata": {},
   "source": [
    "1. 临界数据压缩的值（熵$H$）"
   ]
  },
  {
   "cell_type": "markdown",
   "metadata": {},
   "source": [
    "2. 临界通信传输速率的值（信道容量$C$）"
   ]
  },
  {
   "cell_type": "markdown",
   "metadata": {},
   "source": [
    "信息论与其他学科的关系："
   ]
  },
  {
   "cell_type": "markdown",
   "metadata": {},
   "source": [
    "\\begin{equation}\n",
    "\\left .\n",
    "\\begin{array}{r}\n",
    "\\text{通信理论}\\\\\n",
    "\\text{概论论}\\\\\n",
    "\\text{统计学}\\\\\n",
    "\\text{数学}\\\\\n",
    "\\text{经济学}\\\\\n",
    "\\text{计算机科学}\\\\\n",
    "\\text{物理学}\n",
    "\\end{array}\n",
    "\\right\\}\\text{信息论}\n",
    "\\end{equation}"
   ]
  },
  {
   "cell_type": "markdown",
   "metadata": {},
   "source": [
    "所有调制方案和数据压缩方案都必须介于两个临界值之间。"
   ]
  },
  {
   "cell_type": "code",
   "execution_count": null,
   "metadata": {},
   "outputs": [],
   "source": []
  }
 ],
 "metadata": {
  "kernelspec": {
   "display_name": "Python 3",
   "language": "python",
   "name": "python3"
  },
  "language_info": {
   "codemirror_mode": {
    "name": "ipython",
    "version": 3
   },
   "file_extension": ".py",
   "mimetype": "text/x-python",
   "name": "python",
   "nbconvert_exporter": "python",
   "pygments_lexer": "ipython3",
   "version": "3.6.8"
  }
 },
 "nbformat": 4,
 "nbformat_minor": 2
}
