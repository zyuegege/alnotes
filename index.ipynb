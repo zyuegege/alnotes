{
 "cells": [
  {
   "cell_type": "markdown",
   "metadata": {},
   "source": [
    "<h1 style=\"text-align:center\">笔记</h1>\n",
    "\n",
    "---\n",
    "\n",
    "<p style=\"text-indent:2em;\">\n",
    "Studies serve for delight, for ornament, and for ability. Their chief use for delight, is in privateness and retiring; for ornament, is in discourse; and for ability, is in the judgment, and disposition of business. For expert men can execute, and perhaps judge of particulars, one by one; but the general counsels, and the plots and marshalling of affairs, come best, from those that are learned.\n",
    "</p>\n",
    "\n",
    "<p style=\"text-indent:2em;\">\n",
    "读书足以怡情，足以傅彩，足以长才。其怡情也，最见于独处幽居之时；其傅彩也，最见于高谈阔论之中；其长才也，最见于处世判事之际。练达之士虽能分别处理细事或一一判别枝节，然纵观统筹、全局策划，则舍好学深思者莫属。\n",
    "</p>\n"
   ]
  },
  {
   "cell_type": "markdown",
   "metadata": {},
   "source": [
    "## 目录：\n",
    "\n",
    "---\n",
    "\n",
    "- [日常笔记](日常笔记未整理.ipynb)\n",
    "- [学习笔记 (Study Notes)](#%E5%AD%A6%E4%B9%A0%E7%AC%94%E8%AE%B0)\n",
    "- [工作记录 (Work Notes)](#%E5%B7%A5%E4%BD%9C%E8%AE%B0%E5%BD%95)\n",
    "- [心情日记 (Mood Daily)](#%E5%BF%83%E6%83%85%E6%97%A5%E8%AE%B0)\n",
    "- [其他 (Other Notes)](#%E5%85%B6%E4%BB%96)"
   ]
  },
  {
   "cell_type": "markdown",
   "metadata": {},
   "source": [
    "\n",
    "## 学习笔记\n",
    "\n",
    "---\n",
    "\n",
    "- [机器学习](study_notes/机器学习.ipynb)\n",
    "- [图像处理](study_notes/图像处理.ipynb)\n",
    "- [视频处理](study_notes/视频处理.ipynb)\n",
    "- [CUDA GPU 并行编程](study_notes/cuda.ipynb)"
   ]
  },
  {
   "cell_type": "markdown",
   "metadata": {},
   "source": [
    "## 工作记录\n",
    "\n",
    "---\n",
    "\n",
    "- [毫米波电线检测](work_notes/毫米波电线检测.ipynb)\n",
    "- [智能心电图大赛](work_notes/智能心电图大赛.ipynb)\n"
   ]
  },
  {
   "cell_type": "markdown",
   "metadata": {},
   "source": [
    "## 心情日记\n",
    "\n",
    "---\n",
    "\n",
    "- [日常](mood_daily/日常.ipynb)"
   ]
  },
  {
   "cell_type": "markdown",
   "metadata": {},
   "source": [
    "## 其他\n",
    "\n",
    "---\n",
    "\n",
    "- [dot 画图](other_notes/dot.ipynb)\n",
    "- [小阔爱的机器学习作业](other_notes/小阔爱机器学习作业.ipynb)\n",
    "- [现代数学信号处理仿真](other_notes/现代数字信号处理及其应用.ipynb)"
   ]
  }
 ],
 "metadata": {
  "kernelspec": {
   "display_name": "Python 3",
   "language": "python",
   "name": "python3"
  },
  "language_info": {
   "codemirror_mode": {
    "name": "ipython",
    "version": 3
   },
   "file_extension": ".py",
   "mimetype": "text/x-python",
   "name": "python",
   "nbconvert_exporter": "python",
   "pygments_lexer": "ipython3",
   "version": "3.6.8"
  }
 },
 "nbformat": 4,
 "nbformat_minor": 2
}
