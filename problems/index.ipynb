{
 "cells": [
  {
   "cell_type": "markdown",
   "metadata": {},
   "source": [
    "# 问题列表"
   ]
  },
  {
   "cell_type": "markdown",
   "metadata": {},
   "source": [
    "## 常用图像标注工具"
   ]
  },
  {
   "cell_type": "markdown",
   "metadata": {},
   "source": [
    "- [labelimg](https://github.com/tzutalin/labelImg)\n",
    "- [labelme](https://github.com/wkentaro/labelme)\n",
    "- [RectLable](https://rectlabel.com)\n",
    "- [OpenCV/CVAT](https://github.com/cvat)\n",
    "- [VOTT](https://github.com/microsoft/VoTT)\n",
    "- [LabelBox](https://github.com/Labelbox/Labelbox)\n",
    "- [VIA-VGG](http://www.robots.xo.ac.uk/~vgg/software/via)\n",
    "- [PixelAnnotationTool](https://github.com/abreheret/PixelAnnotationTool)\n",
    "- [point-cloud-annotation-tool](https://github.com/springzfx/point-clout-annotation-tool)\n",
    "- [Boobs](https://github.com/drainingsum/boobs)"
   ]
  },
  {
   "cell_type": "markdown",
   "metadata": {},
   "source": [
    "## labelme 数据标注 转换为VOC格式"
   ]
  },
  {
   "cell_type": "markdown",
   "metadata": {},
   "source": [
    "```shell\n",
    "# It generates:\n",
    "#   - data_dataset_voc/JPEGImages\n",
    "#   - data_dataset_voc/Annotations\n",
    "#   - data_dataset_voc/AnnotationsVisualization\n",
    "./labelme2voc.py data_annotated data_dataset_voc --labels labels.txt\n",
    "```"
   ]
  },
  {
   "cell_type": "markdown",
   "metadata": {},
   "source": [
    "## FFmpeg python 视屏抽帧"
   ]
  },
  {
   "cell_type": "code",
   "execution_count": null,
   "metadata": {},
   "outputs": [],
   "source": [
    "import ffmpeg\n",
    "import numpy as np\n",
    "import os\n",
    "import cv2\n",
    "\n",
    "\n",
    "def get_video_shape(videopath):\n",
    "    probe = ffmpeg.probe(videopath)\n",
    "    video_stream = next(\n",
    "        (stream\n",
    "         for stream in probe['streams'] if stream['codec_type'] == 'video'),\n",
    "        None)\n",
    "    width = int(video_stream['width'])\n",
    "    height = int(video_stream['height'])\n",
    "\n",
    "    return width, height\n",
    "\n",
    "\n",
    "def extract_frames_from_video(videopath, outdir=\".\", fps=10):\n",
    "    width, height = get_video_shape(videopath)\n",
    "    process = ffmpeg.input(videopath).filter(\n",
    "        \"fps\", fps=fps,\n",
    "        round=\"up\").output('pipe:', format='rawvideo',\n",
    "                           pix_fmt='rgb24').run_async(pipe_stdout=True)\n",
    "\n",
    "    frame_id = 0\n",
    "    while True:\n",
    "        in_bytes = process.stdout.read(width * height * 3)\n",
    "        if not in_bytes:\n",
    "            break\n",
    "        frame = (np.frombuffer(in_bytes, np.uint8).reshape([height, width, 3]))\n",
    "        frame = cv2.cvtColor(frame, cv2.COLOR_RGB2BGR)\n",
    "\n",
    "        cv2.imwrite(\n",
    "            os.path.join(outdir,\n",
    "                         os.path.splitext(os.path.split(videopath)[-1])[0]) +\n",
    "            f\"_{frame_id}.jpg\", frame)\n",
    "        frame_id += 1\n",
    "    process.wait()\n",
    "\n",
    "\n",
    "data_dirs = [\n",
    "    \"/opt/data/dataset/smoking/kinetics400smoking\",\n",
    "    \"/opt/data/dataset/smoking/hmdb51-smoking/test/smoking\",\n",
    "    \"/opt/data/dataset/smoking/hmdb51-smoking/train/smoking\"\n",
    "]\n",
    "\n",
    "dst_dir = \"/opt/data/dataset/smoking/extracts\"\n",
    "\n",
    "videofiles = []\n",
    "for dir in data_dirs:\n",
    "    videofiles += [\n",
    "        os.path.join(dir, filename) for filename in next(os.walk(dir))[-1]\n",
    "    ]\n",
    "\n",
    "for videopath in videofiles:\n",
    "    print(f\"extract frame video :  {videopath}\")\n",
    "    extract_frames_from_video(videopath, outdir=dst_dir, fps=0.25)"
   ]
  },
  {
   "cell_type": "markdown",
   "metadata": {},
   "source": [
    "## FFMPEG 编译安装\n",
    "\n",
    "1.  配置(其中GPU支持需要安装nv-codec-headers)\n",
    "```bash\n",
    "# 默认CPU版本\n",
    "./configure --enable-shared --disable-ffplay --disable-doc --disable-x86asm\n",
    "```\n",
    "\n",
    "`nv-codec-headers`安装\n",
    "```bash\n",
    "git clone https://github.com/FFmpeg/nv-codec-headers.git\n",
    "cd nv-codec-headers\n",
    "make && make install\n",
    "```\n",
    "\n",
    "```bash\n",
    "# GPU支持\n",
    "./configure --enable-shared --disable-ffplay --disable-doc --enable-cuda-nvcc --enable-nonfree --disable-x86asm --enable-avresample --enable-cuvid --enable-nvdec --enable-nvenc\n",
    "```\n",
    "\n",
    "2. 安装\n",
    "```bash\n",
    "make && make install\n",
    "```"
   ]
  },
  {
   "cell_type": "markdown",
   "metadata": {},
   "source": [
    "## libSM.so.6\n",
    "\n",
    "opencv-python 在`import cv2`的时候出现\n",
    "\n",
    "```bash\n",
    "Traceback (most recent call last):\n",
    "  File \"main_server.py\", line 4, in <module>\n",
    "    import cv2\n",
    "  File \"/usr/local/lib/python3.6/dist-packages/cv2/__init__.py\", line 3, in <module>\n",
    "    from .cv2 import *\n",
    "ImportError: libSM.so.6: cannot open shared object file: No such file or directory\n",
    "```\n",
    "\n",
    "解决办法：\n",
    "\n",
    "\n",
    "```bash\n",
    "apt install libsm-dev\n",
    "```"
   ]
  },
  {
   "cell_type": "markdown",
   "metadata": {
    "jupyter": {
     "source_hidden": true
    }
   },
   "source": [
    "##  libXrender.so.1\n",
    "\n",
    "opencv-python 在`import cv2`的时候出现\n",
    "\n",
    "```bash\n",
    "Traceback (most recent call last):\n",
    "  File \"main_server.py\", line 4, in <module>\n",
    "    import cv2\n",
    "  File \"/usr/local/lib/python3.6/dist-packages/cv2/__init__.py\", line 3, in <module>\n",
    "    from .cv2 import *\n",
    "ImportError: libXrender.so.1: cannot open shared object file: No such file or directory\n",
    "```\n",
    "\n",
    "解决办法：\n",
    "\n",
    "```bash\n",
    "apt install libxrender-dev\n",
    "```"
   ]
  },
  {
   "cell_type": "markdown",
   "metadata": {},
   "source": [
    "## Docker "
   ]
  },
  {
   "cell_type": "markdown",
   "metadata": {},
   "source": [
    "1. 删除所有无用镜像：\n",
    "\n",
    "```bash\n",
    "sudo docker image rm $(sudo docker images | grep \"<none>\" | awk '{print $3}')\n",
    "```\n",
    "\n",
    "2. 删除所有容器：\n",
    "\n",
    "```bash\n",
    "sudo docker rm $(sudo docker ps -aq)\n",
    "```\n",
    "\n",
    "3. 提交镜像：\n",
    "\n",
    "```bash\n",
    "sudo docker commit 9b91f151eb40 ccr.ccs.tencentyun.com/zyuegege/testimage:mydev\n",
    "```"
   ]
  },
  {
   "cell_type": "markdown",
   "metadata": {},
   "source": [
    "## OpenCV 编译(支持CUDA加速)\n",
    "1. 执行`cmake`\n",
    "```bash\n",
    "cd opencv-4.1.2/build\n",
    "cmake \\\n",
    "       -DCMAKE_BUILD_TYPE=Release \\\n",
    "       -DOPENCV_EXTRA_MODULES_PATH=../../opencv_contrib/modules \\\n",
    "       -DPYTHON3_EXECUTABLE=/usr/bin/python3.6m \\\n",
    "       -DPYTHON_INCLUDE_DIR=/usr/include/python3.6m \\\n",
    "       -DPYTHON_INCLUDE_DIR2=/usr/include/x86_64-linux-gnu/python3.6m \\\n",
    "       -DPYTHON_LIBRARY=/usr/lib/x86_64-linux-gnu/libpython3.6m.so \\\n",
    "       -DOPENCV_GENERATE_PKGCONFIG=ON \\\n",
    "       -DBUILD_opencv_python3=ON \\\n",
    "       -DBUILD_opencv_python2=OFF \\\n",
    "       -DBUILD_JAVA=OFF \\\n",
    "       -DWITH_CUDA=ON \\\n",
    "       -DWITH_FFMPEG=ON  \\\n",
    "       -DPYTHON3_NUMPY_INCLUDE_DIRS=/usr/include/python3.6/numpy\n",
    "       ..\n",
    "```"
   ]
  },
  {
   "cell_type": "markdown",
   "metadata": {},
   "source": [
    "## jupyter lab \n",
    "\n",
    "\n",
    "### 问题 `KeyError: 'registry'`:\n",
    "\n",
    "```bash\n",
    "Traceback (most recent call last):\n",
    "  File \"/usr/local/lib/python3.6/dist-packages/traitlets/traitlets.py\", line 528, in get\n",
    "    value = obj._trait_values[self.name]\n",
    "KeyError: 'registry'\n",
    "\n",
    "During handling of the above exception, another exception occurred:\n",
    "\n",
    "Traceback (most recent call last):\n",
    "  File \"/usr/local/bin/jupyter-lab\", line 5, in <module>\n",
    "    from jupyterlab.labapp import main\n",
    "  File \"/usr/local/lib/python3.6/dist-packages/jupyterlab/labapp.py\", line 40, in <module>\n",
    "    app_version = get_app_version()\n",
    "  File \"/usr/local/lib/python3.6/dist-packages/jupyterlab/commands.py\", line 541, in get_app_version\n",
    "    app_options, app_dir=app_dir, core_config=core_config))\n",
    "  File \"/usr/local/lib/python3.6/dist-packages/jupyterlab/commands.py\", line 582, in __init__\n",
    "    self.registry = options.registry\n",
    "  File \"/usr/local/lib/python3.6/dist-packages/traitlets/traitlets.py\", line 556, in __get__\n",
    "    return self.get(obj, cls)\n",
    "  File \"/usr/local/lib/python3.6/dist-packages/traitlets/traitlets.py\", line 535, in get\n",
    "    value = self._validate(obj, dynamic_default())\n",
    "  File \"/usr/local/lib/python3.6/dist-packages/jupyterlab/commands.py\", line 343, in _default_registry\n",
    "    config = _yarn_config(self.logger)[\"yarn config\"]\n",
    "  File \"/usr/local/lib/python3.6/dist-packages/jupyterlab/commands.py\", line 1765, in _yarn_config\n",
    "    node = which('node')\n",
    "  File \"/usr/local/lib/python3.6/dist-packages/jupyterlab_server/process.py\", line 59, in which\n",
    "    raise ValueError(msg)\n",
    "ValueError: Please install nodejs 5+ and npm before continuing installation. nodejs may be installed using conda or directly from the nodejs website.\n",
    "```\n",
    "\n",
    "解决办法:\n",
    "```bash\n",
    "pip install jupyterlab==1.1.3\n",
    "```"
   ]
  }
 ],
 "metadata": {
  "file_extension": ".py",
  "kernelspec": {
   "display_name": "Python 3",
   "language": "python",
   "name": "python3"
  },
  "language_info": {
   "codemirror_mode": {
    "name": "ipython",
    "version": 3
   },
   "file_extension": ".py",
   "mimetype": "text/x-python",
   "name": "python",
   "nbconvert_exporter": "python",
   "pygments_lexer": "ipython3",
   "version": "3.6.8"
  },
  "mimetype": "text/x-python",
  "name": "python",
  "npconvert_exporter": "python",
  "pygments_lexer": "ipython3",
  "toc": {
   "base_numbering": 1,
   "nav_menu": {},
   "number_sections": true,
   "sideBar": true,
   "skip_h1_title": false,
   "title_cell": "Table of Contents",
   "title_sidebar": "Contents",
   "toc_cell": false,
   "toc_position": {
    "height": "calc(100% - 180px)",
    "left": "10px",
    "top": "150px",
    "width": "370.594px"
   },
   "toc_section_display": true,
   "toc_window_display": true
  },
  "version": 3
 },
 "nbformat": 4,
 "nbformat_minor": 4
}
