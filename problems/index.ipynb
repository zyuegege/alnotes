{
 "cells": [
  {
   "cell_type": "markdown",
   "metadata": {
    "Collapsed": "false"
   },
   "source": [
    "# 问题列表"
   ]
  },
  {
   "cell_type": "markdown",
   "metadata": {
    "Collapsed": "false"
   },
   "source": [
    "## 常用图像标注工具"
   ]
  },
  {
   "cell_type": "markdown",
   "metadata": {
    "Collapsed": "false"
   },
   "source": [
    "- [labelimg](https://github.com/tzutalin/labelImg)\n",
    "- [labelme](https://github.com/wkentaro/labelme)\n",
    "- [RectLable](https://rectlabel.com)\n",
    "- [OpenCV/CVAT](https://github.com/cvat)\n",
    "- [VOTT](https://github.com/microsoft/VoTT)\n",
    "- [LabelBox](https://github.com/Labelbox/Labelbox)\n",
    "- [VIA-VGG](http://www.robots.xo.ac.uk/~vgg/software/via)\n",
    "- [PixelAnnotationTool](https://github.com/abreheret/PixelAnnotationTool)\n",
    "- [point-cloud-annotation-tool](https://github.com/springzfx/point-clout-annotation-tool)\n",
    "- [Boobs](https://github.com/drainingsum/boobs)"
   ]
  },
  {
   "cell_type": "markdown",
   "metadata": {
    "Collapsed": "false"
   },
   "source": [
    "## labelme 数据标注 转换为VOC格式"
   ]
  },
  {
   "cell_type": "markdown",
   "metadata": {
    "Collapsed": "false"
   },
   "source": [
    "```shell\n",
    "# It generates:\n",
    "#   - data_dataset_voc/JPEGImages\n",
    "#   - data_dataset_voc/Annotations\n",
    "#   - data_dataset_voc/AnnotationsVisualization\n",
    "./labelme2voc.py data_annotated data_dataset_voc --labels labels.txt\n",
    "```"
   ]
  },
  {
   "cell_type": "markdown",
   "metadata": {
    "Collapsed": "false"
   },
   "source": [
    "## FFmpeg python 视屏抽帧"
   ]
  },
  {
   "cell_type": "code",
   "execution_count": null,
   "metadata": {
    "Collapsed": "false"
   },
   "outputs": [],
   "source": [
    "import ffmpeg\n",
    "import numpy as np\n",
    "import os\n",
    "import cv2\n",
    "\n",
    "\n",
    "def get_video_shape(videopath):\n",
    "    probe = ffmpeg.probe(videopath)\n",
    "    video_stream = next(\n",
    "        (stream\n",
    "         for stream in probe['streams'] if stream['codec_type'] == 'video'),\n",
    "        None)\n",
    "    width = int(video_stream['width'])\n",
    "    height = int(video_stream['height'])\n",
    "\n",
    "    return width, height\n",
    "\n",
    "\n",
    "def extract_frames_from_video(videopath, outdir=\".\", fps=10):\n",
    "    width, height = get_video_shape(videopath)\n",
    "    process = ffmpeg.input(videopath).filter(\n",
    "        \"fps\", fps=fps,\n",
    "        round=\"up\").output('pipe:', format='rawvideo',\n",
    "                           pix_fmt='rgb24').run_async(pipe_stdout=True)\n",
    "\n",
    "    frame_id = 0\n",
    "    while True:\n",
    "        in_bytes = process.stdout.read(width * height * 3)\n",
    "        if not in_bytes:\n",
    "            break\n",
    "        frame = (np.frombuffer(in_bytes, np.uint8).reshape([height, width, 3]))\n",
    "        frame = cv2.cvtColor(frame, cv2.COLOR_RGB2BGR)\n",
    "\n",
    "        cv2.imwrite(\n",
    "            os.path.join(outdir,\n",
    "                         os.path.splitext(os.path.split(videopath)[-1])[0]) +\n",
    "            f\"_{frame_id}.jpg\", frame)\n",
    "        frame_id += 1\n",
    "    process.wait()\n",
    "\n",
    "\n",
    "data_dirs = [\n",
    "    \"/opt/data/dataset/smoking/kinetics400smoking\",\n",
    "    \"/opt/data/dataset/smoking/hmdb51-smoking/test/smoking\",\n",
    "    \"/opt/data/dataset/smoking/hmdb51-smoking/train/smoking\"\n",
    "]\n",
    "\n",
    "dst_dir = \"/opt/data/dataset/smoking/extracts\"\n",
    "\n",
    "videofiles = [] \n",
    "for dir in data_dirs:\n",
    "    videofiles += [\n",
    "        os.path.join(dir, filename) for filename in next(os.walk(dir))[-1]\n",
    "    ]\n",
    "\n",
    "for videopath in videofiles:\n",
    "    print(f\"extract frame video :  {videopath}\")\n",
    "    extract_frames_from_video(videopath, outdir=dst_dir, fps=0.25)"
   ]
  },
  {
   "cell_type": "markdown",
   "metadata": {
    "Collapsed": "false"
   },
   "source": [
    "## FFMPEG 编译安装\n",
    "\n",
    "1.  配置(其中GPU支持需要安装nv-codec-headers)\n",
    "```bash\n",
    "# 默认CPU版本\n",
    "./configure --enable-shared --disable-ffplay --disable-doc --disable-x86asm\n",
    "```\n",
    "\n",
    "`nv-codec-headers`安装\n",
    "```bash\n",
    "git clone https://github.com/FFmpeg/nv-codec-headers.git\n",
    "cd nv-codec-headers\n",
    "make && make install\n",
    "```\n",
    "\n",
    "```bash\n",
    "# GPU支持\n",
    "./configure --enable-shared --disable-ffplay --disable-doc --enable-cuda-nvcc --enable-nonfree --disable-x86asm --enable-avresample --enable-cuvid --enable-nvdec --enable-nvenc\n",
    "```\n",
    "\n",
    "2. 安装\n",
    "```bash\n",
    "make && make install\n",
    "```"
   ]
  },
  {
   "cell_type": "markdown",
   "metadata": {
    "Collapsed": "false"
   },
   "source": [
    "## libSM.so.6"
   ]
  },
  {
   "cell_type": "markdown",
   "metadata": {
    "Collapsed": "false"
   },
   "source": [
    "### 错误描述\n",
    "\n",
    "opencv-python 在`import cv2`的时候出现\n",
    "\n",
    "```bash\n",
    "Traceback (most recent call last):\n",
    "  File \"main_server.py\", line 4, in <module>\n",
    "    import cv2\n",
    "  File \"/usr/local/lib/python3.6/dist-packages/cv2/__init__.py\", line 3, in <module>\n",
    "    from .cv2 import *\n",
    "ImportError: libSM.so.6: cannot open shared object file: No such file or directory\n",
    "```"
   ]
  },
  {
   "cell_type": "markdown",
   "metadata": {
    "Collapsed": "false"
   },
   "source": [
    "### 解决办法：\n",
    "\n",
    "\n",
    "```bash\n",
    "apt install libsm-dev\n",
    "```"
   ]
  },
  {
   "cell_type": "markdown",
   "metadata": {
    "Collapsed": "false"
   },
   "source": [
    "##  libXrender.so.1"
   ]
  },
  {
   "cell_type": "markdown",
   "metadata": {
    "Collapsed": "false"
   },
   "source": [
    "### 错误信息：\n",
    "opencv-python 在`import cv2`的时候出现\n",
    "\n",
    "```bash\n",
    "Traceback (most recent call last):\n",
    "  File \"main_server.py\", line 4, in <module>\n",
    "    import cv2\n",
    "  File \"/usr/local/lib/python3.6/dist-packages/cv2/__init__.py\", line 3, in <module>\n",
    "    from .cv2 import *\n",
    "ImportError: libXrender.so.1: cannot open shared object file: No such file or directory\n",
    "```"
   ]
  },
  {
   "cell_type": "markdown",
   "metadata": {
    "Collapsed": "false"
   },
   "source": [
    "### 解决办法：\n",
    "\n",
    "```bash\n",
    "apt install libxrender-dev\n",
    "```"
   ]
  },
  {
   "cell_type": "markdown",
   "metadata": {
    "Collapsed": "false"
   },
   "source": [
    "## Docker "
   ]
  },
  {
   "cell_type": "markdown",
   "metadata": {
    "Collapsed": "false"
   },
   "source": [
    "1. 删除所有无用镜像：\n",
    "\n",
    "```bash\n",
    "sudo docker image rm $(sudo docker images | grep \"<none>\" | awk '{print $3}')\n",
    "```\n",
    "\n",
    "2. 删除所有容器：\n",
    "\n",
    "```bash\n",
    "sudo docker rm $(sudo docker ps -aq)\n",
    "```\n",
    "\n",
    "3. 提交镜像：\n",
    "\n",
    "```bash\n",
    "sudo docker commit 9b91f151eb40 ccr.ccs.tencentyun.com/zyuegege/testimage:mydev\n",
    "```"
   ]
  },
  {
   "cell_type": "markdown",
   "metadata": {
    "Collapsed": "false"
   },
   "source": [
    "## OpenCV 编译(支持CUDA加速)\n",
    "1. 执行`cmake`\n",
    "```bash\n",
    "cd opencv-4.1.2/build\n",
    "cmake \\\n",
    "       -DCMAKE_BUILD_TYPE=Release \\\n",
    "       -DOPENCV_EXTRA_MODULES_PATH=../../opencv_contrib/modules \\\n",
    "       -DPYTHON3_EXECUTABLE=/usr/bin/python3.6m \\\n",
    "       -DPYTHON_INCLUDE_DIR=/usr/include/python3.6m \\\n",
    "       -DPYTHON_INCLUDE_DIR2=/usr/include/x86_64-linux-gnu/python3.6m \\\n",
    "       -DPYTHON_LIBRARY=/usr/lib/x86_64-linux-gnu/libpython3.6m.so \\\n",
    "       -DOPENCV_GENERATE_PKGCONFIG=ON \\\n",
    "       -DBUILD_opencv_python3=ON \\\n",
    "       -DBUILD_opencv_python2=OFF \\\n",
    "       -DBUILD_JAVA=OFF \\\n",
    "       -DWITH_CUDA=ON \\\n",
    "       -DWITH_FFMPEG=ON  \\\n",
    "       -DPYTHON3_NUMPY_INCLUDE_DIRS=/usr/include/python3.6/numpy\n",
    "       ..\n",
    "```"
   ]
  },
  {
   "cell_type": "markdown",
   "metadata": {
    "Collapsed": "false"
   },
   "source": [
    "## jupyter lab "
   ]
  },
  {
   "cell_type": "markdown",
   "metadata": {
    "Collapsed": "false"
   },
   "source": [
    "### 问题 `KeyError: 'registry'`:\n",
    "\n",
    "```bash\n",
    "Traceback (most recent call last):\n",
    "  File \"/usr/local/lib/python3.6/dist-packages/traitlets/traitlets.py\", line 528, in get\n",
    "    value = obj._trait_values[self.name]\n",
    "KeyError: 'registry'\n",
    "\n",
    "During handling of the above exception, another exception occurred:\n",
    "\n",
    "Traceback (most recent call last):\n",
    "  File \"/usr/local/bin/jupyter-lab\", line 5, in <module>\n",
    "    from jupyterlab.labapp import main\n",
    "  File \"/usr/local/lib/python3.6/dist-packages/jupyterlab/labapp.py\", line 40, in <module>\n",
    "    app_version = get_app_version()\n",
    "  File \"/usr/local/lib/python3.6/dist-packages/jupyterlab/commands.py\", line 541, in get_app_version\n",
    "    app_options, app_dir=app_dir, core_config=core_config))\n",
    "  File \"/usr/local/lib/python3.6/dist-packages/jupyterlab/commands.py\", line 582, in __init__\n",
    "    self.registry = options.registry\n",
    "  File \"/usr/local/lib/python3.6/dist-packages/traitlets/traitlets.py\", line 556, in __get__\n",
    "    return self.get(obj, cls)\n",
    "  File \"/usr/local/lib/python3.6/dist-packages/traitlets/traitlets.py\", line 535, in get\n",
    "    value = self._validate(obj, dynamic_default())\n",
    "  File \"/usr/local/lib/python3.6/dist-packages/jupyterlab/commands.py\", line 343, in _default_registry\n",
    "    config = _yarn_config(self.logger)[\"yarn config\"]\n",
    "  File \"/usr/local/lib/python3.6/dist-packages/jupyterlab/commands.py\", line 1765, in _yarn_config\n",
    "    node = which('node')\n",
    "  File \"/usr/local/lib/python3.6/dist-packages/jupyterlab_server/process.py\", line 59, in which\n",
    "    raise ValueError(msg)\n",
    "ValueError: Please install nodejs 5+ and npm before continuing installation. nodejs may be installed using conda or directly from the nodejs website.\n",
    "```"
   ]
  },
  {
   "cell_type": "markdown",
   "metadata": {
    "Collapsed": "false"
   },
   "source": [
    "### 解决办法:\n",
    "\n",
    "```bash\n",
    "pip install jupyterlab==1.1.3\n",
    "```"
   ]
  },
  {
   "cell_type": "markdown",
   "metadata": {
    "Collapsed": "false"
   },
   "source": [
    "## Ubuntu 设置时区\n",
    "\n",
    "```bash\n",
    "tzselect\n",
    "sudo cp /usr/share/zoneinfo/Asia/Shanghai /etc/localtime\n",
    "```"
   ]
  },
  {
   "cell_type": "markdown",
   "metadata": {
    "Collapsed": "false"
   },
   "source": [
    "## Docker 共享内内存区大小\n",
    "\n",
    "一般默认情况Linux系统会挂在一半大小的物理内存用与共享内存\n",
    "```bash\n",
    "df -h\n",
    "\n",
    "/dev/nvme0n1p2  234G   58G  165G   26% /\n",
    "tmpfs            16G  104M   16G    1% /dev/shm\n",
    "```\n",
    "\n",
    "但是默认的Docker的共享内存去大小只有64M\n",
    "```bash\n",
    "df -h \n",
    "\n",
    "shm              64M     0   64M 0% /dev/shm\n",
    "```\n",
    "\n",
    "通过在运行docker时加上`--shm-size=16G`可以改变其大小，例如：\n",
    "```bash\n",
    "docker run -d --gpus all  -v /opt:/opt -v /opt/git/alnotes:/var/notebook --shm-size=16G zyuegege/devel:10.0-cudnn7-devel-ubuntu18.04\n",
    "```\n",
    "\n",
    "\n"
   ]
  },
  {
   "cell_type": "markdown",
   "metadata": {
    "Collapsed": "false"
   },
   "source": [
    "## 查看IPC共享内存区限制\n",
    "\n",
    "参考：[【Linux - Shared Memory (SHM) (/dev/shm)】](https://gerardnico.com/os/linux/shared_memory)\n",
    "\n",
    "1. IPC共享内存的文件系统`/dev/shm`，使用`df  -k -h /dev/shm`查看其大小；\n",
    "2. 限制\n",
    "```bash\n",
    "ipcs -lm --human\n",
    "```\n",
    "\n",
    "```text\n",
    "---------- 同享内存限制 ------------  \n",
    "最大段数 = 4096  \n",
    "最大段大小 = 16E  \n",
    "最大总共享内存 = 16E  \n",
    "最小段大小 = 1B\n",
    "```\n",
    "\n",
    "3. 参数\n",
    "- `shmseg - max` # of shared memory segs per process: (doesn't exist in FC6)\n",
    "- `shmmni - max` # of shared memory segs system-wide\n",
    "```bash\n",
    "cat /proc/sys/kernel/shmmax\n",
    "cat /proc/sys/kernel/shmall\n",
    "cat /proc/sys/kernel/shmmni\n",
    "```\n",
    "\n",
    "4. 查看适用情况\n",
    "```bash\n",
    "# 查看共享内存信息\n",
    "ipcs -m\n",
    "# 查看共享内存修改情况\n",
    "ipcs -pm\n",
    "```\n"
   ]
  },
  {
   "cell_type": "markdown",
   "metadata": {
    "Collapsed": "false"
   },
   "source": [
    "## c/c++ 利用Python API调用Python脚本出现threading的错误\n",
    "\n",
    "```bash\n",
    "```\n",
    "\n",
    "解决办法：利用[`boost::python`](https://www.boost.org/doc/libs/1_71_0/libs/python/doc/html/index.html)库代替"
   ]
  },
  {
   "cell_type": "markdown",
   "metadata": {
    "Collapsed": "false"
   },
   "source": [
    "## pip 安装 `No module named 'distutils.util'`"
   ]
  },
  {
   "cell_type": "markdown",
   "metadata": {
    "Collapsed": "false"
   },
   "source": [
    "### 错误信息：\n",
    "\n",
    "```bash\n",
    "Traceback (most recent call last):\n",
    "  File \"get-pip.py\", line 22318, in <module>\n",
    "    main()\n",
    "  File \"get-pip.py\", line 198, in main\n",
    "    bootstrap(tmpdir=tmpdir)\n",
    "  File \"get-pip.py\", line 82, in bootstrap\n",
    "    import pip._internal.main\n",
    "  File \"/tmp/tmptdvv_4w8/pip.zip/pip/_internal/main.py\", line 13, in <module>\n",
    "  File \"/tmp/tmptdvv_4w8/pip.zip/pip/_internal/cli/autocompletion.py\", line 11, in <module>\n",
    "  File \"/tmp/tmptdvv_4w8/pip.zip/pip/_internal/cli/main_parser.py\", line 7, in <module>\n",
    "  File \"/tmp/tmptdvv_4w8/pip.zip/pip/_internal/cli/cmdoptions.py\", line 19, in <module>\n",
    "ModuleNotFoundError: No module named 'distutils.util'\n",
    "```"
   ]
  },
  {
   "cell_type": "markdown",
   "metadata": {
    "Collapsed": "false"
   },
   "source": [
    "### 解决办法：\n",
    "```bash\n",
    "apt-get install python3-distutils\n",
    "```"
   ]
  },
  {
   "cell_type": "markdown",
   "metadata": {
    "Collapsed": "false"
   },
   "source": [
    "## pip 国内源\n",
    "\n",
    "1. pip国内源地址：\n",
    "\n",
    "- 清华：[https://pypi.tuna.tsinghua.edu.cn/simple](https://pypi.tuna.tsinghua.edu.cn/simple)\n",
    "- 阿里云：[http://mirrors.aliyun.com/pypi/simple](http://mirrors.aliyun.com/pypi/simple)\n",
    "- 中国科技大学： [https://pypi.mirrors.ustc.edu.cn/simple](https://pypi.mirrors.ustc.edu.cn/simple)\n",
    "- 华中理工大学：[http://pypi.hustunique.com/](http://pypi.hustunique.com/)\n",
    "- 山东理工大学：[http://pypi.sdutlinux.org/](http://pypi.sdutlinux.org/) \n",
    "- 豆瓣：[http://pypi.douban.com/simple/](http://pypi.douban.com/simple/)\n",
    "\n",
    "2. 适用方法：\n",
    "- 临时适用：\n",
    "\n",
    "```bash\n",
    "pip install -i http:pypi.douban.com/simple/ django \n",
    "```\n",
    "\n",
    "- pip 使用非 https 的镜像地址后无法使用，提示每次要加 `--trusted-host url` 来解决\n",
    "\n",
    "```bash\n",
    "pip install django -i http://pypi.douban.com/simple --trusted-host pypi.douban.com\n",
    "```\n",
    "\n",
    "- 永久适用：\n",
    "\n",
    "    修改配置文件`~/.pip/pip.conf`的内容为下：\n",
    "\n",
    "```bash\n",
    "[global]\n",
    "index-url = http://mirrors.aliyun.com/pypi/simple\n",
    "[install]\n",
    "trusted-host=mirrors.aliyun.com\n",
    "```"
   ]
  },
  {
   "cell_type": "markdown",
   "metadata": {
    "Collapsed": "false"
   },
   "source": [
    "## pip 安装`pycurl` 出现`No such file or directory: 'curl-config': 'curl-config'`"
   ]
  },
  {
   "cell_type": "markdown",
   "metadata": {
    "Collapsed": "false"
   },
   "source": [
    "### 具体错误：\n",
    "\n",
    "```bash\n",
    "ERROR: Command errored out with exit status 1:\n",
    "     command: /usr/bin/python -c 'import sys, setuptools, tokenize; sys.argv[0] = '\"'\"'/tmp/pip-install-9_iiqsx6/pycurl/setup.py'\"'\"'; __file__='\"'\"'/tmp/pip-install-9_iiqsx6/pycurl/setup.py'\"'\"';f=getattr(tokenize, '\"'\"'open'\"'\"', open)(__file__);code=f.read().replace('\"'\"'\\r\\n'\"'\"', '\"'\"'\\n'\"'\"');f.close();exec(compile(code, __file__, '\"'\"'exec'\"'\"'))' egg_info --egg-base /tmp/pip-install-9_iiqsx6/pycurl/pip-egg-info\n",
    "         cwd: /tmp/pip-install-9_iiqsx6/pycurl/\n",
    "    Complete output (22 lines):\n",
    "    Traceback (most recent call last):\n",
    "      File \"/tmp/pip-install-9_iiqsx6/pycurl/setup.py\", line 229, in configure_unix\n",
    "        stdout=subprocess.PIPE, stderr=subprocess.PIPE)\n",
    "      File \"/usr/lib/python3.6/subprocess.py\", line 729, in __init__\n",
    "        restore_signals, start_new_session)\n",
    "      File \"/usr/lib/python3.6/subprocess.py\", line 1364, in _execute_child\n",
    "        raise child_exception_type(errno_num, err_msg, err_filename)\n",
    "    FileNotFoundError: [Errno 2] No such file or directory: 'curl-config': 'curl-config'\n",
    "    \n",
    "    During handling of the above exception, another exception occurred:\n",
    "    \n",
    "    Traceback (most recent call last):\n",
    "      File \"<string>\", line 1, in <module>\n",
    "      File \"/tmp/pip-install-9_iiqsx6/pycurl/setup.py\", line 944, in <module>\n",
    "        ext = get_extension(sys.argv, split_extension_source=split_extension_source)\n",
    "      File \"/tmp/pip-install-9_iiqsx6/pycurl/setup.py\", line 606, in get_extension\n",
    "        ext_config = ExtensionConfiguration(argv)\n",
    "      File \"/tmp/pip-install-9_iiqsx6/pycurl/setup.py\", line 101, in __init__\n",
    "        self.configure()\n",
    "      File \"/tmp/pip-install-9_iiqsx6/pycurl/setup.py\", line 233, in configure_unix\n",
    "        raise ConfigurationError(msg)\n",
    "    __main__.ConfigurationError: Could not run curl-config: [Errno 2] No such file or directory: 'curl-config': 'curl-config'\n",
    "    ----------------------------------------\n",
    "ERROR: Command errored out with exit status 1: python setup.py egg_info Check the logs for full command output.\n",
    "```"
   ]
  },
  {
   "cell_type": "markdown",
   "metadata": {
    "Collapsed": "false"
   },
   "source": [
    "### 解决办法：\n",
    "\n",
    "```bash\n",
    "apt install curl libcurl4-openssl-dev\n",
    "```"
   ]
  },
  {
   "cell_type": "markdown",
   "metadata": {
    "Collapsed": "false"
   },
   "source": [
    "## pip `'x86_64-linux-gnu-gcc'`"
   ]
  },
  {
   "cell_type": "markdown",
   "metadata": {
    "Collapsed": "false"
   },
   "source": [
    "### 错误信息：\n",
    "\n",
    "```bash\n",
    "    ERROR: Command errored out with exit status 1:\n",
    "     command: /usr/bin/python -u -c 'import sys, setuptools, tokenize; sys.argv[0] = '\"'\"'/tmp/pip-install-i93ggql9/pycurl/setup.py'\"'\"'; __file__='\"'\"'/tmp/pip-install-i93ggql9/pycurl/setup.py'\"'\"';f=getattr(tokenize, '\"'\"'open'\"'\"', open)(__file__);code=f.read().replace('\"'\"'\\r\\n'\"'\"', '\"'\"'\\n'\"'\"');f.close();exec(compile(code, __file__, '\"'\"'exec'\"'\"'))' install --record /tmp/pip-record-isilpo9p/install-record.txt --single-version-externally-managed --compile\n",
    "         cwd: /tmp/pip-install-i93ggql9/pycurl/\n",
    "    Complete output (16 lines):\n",
    "    Using curl-config (libcurl 7.58.0)\n",
    "    Using SSL library: OpenSSL/LibreSSL/BoringSSL\n",
    "    running install\n",
    "    running build\n",
    "    running build_py\n",
    "    creating build\n",
    "    creating build/lib.linux-x86_64-3.6\n",
    "    creating build/lib.linux-x86_64-3.6/curl\n",
    "    copying python/curl/__init__.py -> build/lib.linux-x86_64-3.6/curl\n",
    "    running build_ext\n",
    "    building 'pycurl' extension\n",
    "    creating build/temp.linux-x86_64-3.6\n",
    "    creating build/temp.linux-x86_64-3.6/src\n",
    "    x86_64-linux-gnu-gcc -pthread -DNDEBUG -g -fwrapv -O2 -Wall -g -fstack-protector-strong -Wformat -Werror=format-security -Wdate-time -D_FORTIFY_SOURCE=2 -fPIC -DPYCURL_VERSION=\"7.43.0.3\" -DHAVE_CURL_SSL=1 -DHAVE_CURL_OPENSSL=1 -DHAVE_CURL_SSL=1 -I/usr/include/python3.6m -c src/docstrings.c -o build/temp.linux-x86_64-3.6/src/docstrings.o\n",
    "    unable to execute 'x86_64-linux-gnu-gcc': No such file or directory\n",
    "    error: command 'x86_64-linux-gnu-gcc' failed with exit status 1\n",
    "    ----------------------------------------\n",
    "ERROR: Command errored out with exit status 1: /usr/bin/python -u -c 'import sys, setuptools, tokenize; sys.argv[0] = '\"'\"'/tmp/pip-install-i93ggql9/pycurl/setup.py'\"'\"'; __file__='\"'\"'/tmp/pip-install-i93ggql9/pycurl/setup.py'\"'\"';f=getattr(tokenize, '\"'\"'open'\"'\"', open)(__file__);code=f.read().replace('\"'\"'\\r\\n'\"'\"', '\"'\"'\\n'\"'\"');f.close();exec(compile(code, __file__, '\"'\"'exec'\"'\"'))' install --record /tmp/pip-record-isilpo9p/install-record.txt --single-version-externally-managed --compile Check the logs for full command output.\n",
    "```"
   ]
  },
  {
   "cell_type": "markdown",
   "metadata": {
    "Collapsed": "false"
   },
   "source": [
    "### 解决办法：\n",
    "\n",
    "```bash\n",
    "apt install gcc make cmake g++\n",
    "```"
   ]
  },
  {
   "cell_type": "markdown",
   "metadata": {
    "Collapsed": "false"
   },
   "source": [
    "## `Python.h`"
   ]
  },
  {
   "cell_type": "markdown",
   "metadata": {
    "Collapsed": "false"
   },
   "source": [
    "### 错误描述\n",
    "\n",
    "```bash\n",
    "fatal error: Python.h: No such file or directory\n",
    "#include <Python.h>\n",
    "```\n"
   ]
  },
  {
   "cell_type": "markdown",
   "metadata": {
    "Collapsed": "false"
   },
   "source": [
    "### 解决办法\n",
    "\n",
    "```bash\n",
    "apt install libpython3-dev\n",
    "```"
   ]
  },
  {
   "cell_type": "markdown",
   "metadata": {
    "Collapsed": "false"
   },
   "source": [
    "## `openssl/ssl.h`"
   ]
  },
  {
   "cell_type": "markdown",
   "metadata": {
    "Collapsed": "false"
   },
   "source": [
    "### 错误描述：\n",
    "\n",
    "```bash\n",
    "fatal error: openssl/ssl.h: No such file or directory\n",
    "#include <openssl/ssl.h>\n",
    "```"
   ]
  },
  {
   "cell_type": "markdown",
   "metadata": {
    "Collapsed": "false"
   },
   "source": [
    "### 解决办法：\n",
    "\n",
    "```bash\n",
    "apt install libssl-dev\n",
    "```"
   ]
  }
 ],
 "metadata": {
  "file_extension": ".py",
  "kernelspec": {
   "display_name": "Python 3",
   "language": "python",
   "name": "python3"
  },
  "language_info": {
   "codemirror_mode": {
    "name": "ipython",
    "version": 3
   },
   "file_extension": ".py",
   "mimetype": "text/x-python",
   "name": "python",
   "nbconvert_exporter": "python",
   "pygments_lexer": "ipython3",
   "version": "3.6.8"
  },
  "mimetype": "text/x-python",
  "name": "python",
  "npconvert_exporter": "python",
  "pygments_lexer": "ipython3",
  "toc": {
   "base_numbering": 1,
   "nav_menu": {},
   "number_sections": true,
   "sideBar": true,
   "skip_h1_title": false,
   "title_cell": "Table of Contents",
   "title_sidebar": "Contents",
   "toc_cell": false,
   "toc_position": {
    "height": "calc(100% - 180px)",
    "left": "10px",
    "top": "150px",
    "width": "370.594px"
   },
   "toc_section_display": true,
   "toc_window_display": true
  },
  "toc-autonumbering": true,
  "toc-showcode": false,
  "toc-showmarkdowntxt": false,
  "toc-showtags": false,
  "version": 3
 },
 "nbformat": 4,
 "nbformat_minor": 4
}
