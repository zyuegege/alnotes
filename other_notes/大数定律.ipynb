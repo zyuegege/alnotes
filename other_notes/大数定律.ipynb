{
 "cells": [
  {
   "cell_type": "markdown",
   "metadata": {},
   "source": [
    "# 大数定律 \n",
    "\n",
    "----\n",
    "\n",
    "**伯努利大数定律**：\n",
    "\n",
    "设$m$和$n$重伯努利实验中事件$A$出现的次数，$p$是$A$在每次实验中发生的概率，则对任意给定的实数$\\epsilon>0$,则有\n",
    "$$\n",
    "\\underset{n\\rightarrow\\infty}{lim}P\\left\\{ \\left |\\frac{m}{n}-p\\right |<\\epsilon\\right \\}=1\n",
    "$$"
   ]
  },
  {
   "cell_type": "code",
   "execution_count": 1,
   "metadata": {},
   "outputs": [],
   "source": [
    "import torch\n",
    "import pyro\n",
    "import numpy as np\n",
    "import pyro.distributions as dist\n",
    "import matplotlib.pyplot as plt\n",
    "import scipy.stats as st"
   ]
  },
  {
   "cell_type": "code",
   "execution_count": 11,
   "metadata": {},
   "outputs": [
    {
     "name": "stdout",
     "output_type": "stream",
     "text": [
      "hat_X: 0.5000042915344238 E(X): 0.5 Error: 4.291534423828125e-06\n"
     ]
    }
   ],
   "source": [
    "N = 1000000000\n",
    "p = 0.5\n",
    "epsilon = 1e-4\n",
    "\n",
    "d = dist.Binomial(N, p)\n",
    "m = d.sample()\n",
    "\n",
    "hat_X = m/N\n",
    "\n",
    "error = torch.abs(m/N - p)\n",
    "\n",
    "flag = error.item() < epsilon\n",
    "\n",
    "if flag is True:\n",
    "    print(\"hat_X:\", hat_X.item(),  \"E(X):\", p, \"Error:\", error.item())"
   ]
  },
  {
   "cell_type": "code",
   "execution_count": null,
   "metadata": {},
   "outputs": [],
   "source": []
  }
 ],
 "metadata": {
  "kernelspec": {
   "display_name": "Python 3",
   "language": "python",
   "name": "python3"
  },
  "language_info": {
   "codemirror_mode": {
    "name": "ipython",
    "version": 3
   },
   "file_extension": ".py",
   "mimetype": "text/x-python",
   "name": "python",
   "nbconvert_exporter": "python",
   "pygments_lexer": "ipython3",
   "version": "3.6.8"
  }
 },
 "nbformat": 4,
 "nbformat_minor": 2
}
