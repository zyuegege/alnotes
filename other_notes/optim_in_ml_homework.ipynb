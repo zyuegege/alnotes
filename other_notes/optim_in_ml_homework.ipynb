{
 "cells": [
  {
   "cell_type": "markdown",
   "metadata": {},
   "source": [
    "# 机器学习中的优化算法--作业\n",
    "\n",
    "<center>刘丹</center>"
   ]
  },
  {
   "cell_type": "markdown",
   "metadata": {},
   "source": [
    "## 逻辑回归"
   ]
  },
  {
   "cell_type": "markdown",
   "metadata": {},
   "source": [
    "### 什么是逻辑回归"
   ]
  },
  {
   "cell_type": "markdown",
   "metadata": {},
   "source": [
    "**逻辑回归**虽然带有回归字样，但是逻辑回归属于分类算法。逻辑回归可以进行多分类操作，但由逻辑回归算法本身性质决定其更常用于二分类。逻辑回归虽然名字叫做回归，但实际上却是一种分类学习方法。 线性回归完成的是回归拟合任务，而对于分类任务，我们同样需要一条线，但不是去拟合每个数据点，而是把不同类别的样本区分开来。\n",
    "\n",
    "![](imgs/optim_in_ml_homework/logistic_regression.png)"
   ]
  },
  {
   "cell_type": "markdown",
   "metadata": {},
   "source": [
    "### Sigmoid"
   ]
  },
  {
   "cell_type": "markdown",
   "metadata": {},
   "source": [
    "对于二分类问题，$y\\in\\{0,1\\}$，$1$表示正例，$0$表示负例。逻辑回归是在线性函数$\\theta^\\top x$输出预测实际值的基础上，寻找一个假设函数函数$h_\\theta(x)=g(\\theta^\\top x)$，将实际值映射到到$0，1$之间，如果$h_\\theta(x)>0.5$，则预测$y=1$，及$y$属于正例；如果$h_\\theta(x)<0.5$，则预测$y=0$，即$y$属于负例。\n",
    "\n",
    "逻辑回归中选择对数几率函数（logistic function）作为激活函数，对数几率函数是Sigmoid函数（形状为S的函数）的重要代表。\n",
    "\n",
    "sigmoid公式：\n",
    "\\begin{equation}\n",
    "Y(z) = \\frac{1}{1+e^{-z}}\n",
    "\\end{equation}\n",
    "\n",
    "画出其波形图如下："
   ]
  },
  {
   "cell_type": "code",
   "execution_count": 524,
   "metadata": {
    "scrolled": true
   },
   "outputs": [
    {
     "data": {
      "text/plain": [
       "<matplotlib.collections.LineCollection at 0x7fdcd7c8cba8>"
      ]
     },
     "execution_count": 524,
     "metadata": {},
     "output_type": "execute_result"
    },
    {
     "data": {
      "image/png": "[encoded data removed]",
      "text/plain": [
       "<Figure size 432x288 with 1 Axes>"
      ]
     },
     "metadata": {
      "needs_background": "light"
     },
     "output_type": "display_data"
    }
   ],
   "source": [
    "import numpy as np\n",
    "import matplotlib.pyplot as plt\n",
    "\n",
    "N = 100\n",
    "\n",
    "Z = np.array(list(map(lambda x : (x - N / 2)/10 , range(N+1))))\n",
    "Y = 1 / (1 + np.exp(-Z))\n",
    "\n",
    "plt.plot(X, Y)\n",
    "plt.xlabel(\"Z\")\n",
    "plt.ylabel(\"Y\")\n",
    "\n",
    "plt.hlines(0.5, -5, 5, colors=\"r\", linestyles=\"dotted\")\n",
    "plt.vlines(0, 0, 1, colors=\"r\", linestyles=\"dotted\")"
   ]
  },
  {
   "cell_type": "markdown",
   "metadata": {},
   "source": [
    "### 逻辑回归数学表达"
   ]
  },
  {
   "cell_type": "markdown",
   "metadata": {},
   "source": [
    "线性回归：\n",
    "\n",
    "\\begin{equation}\n",
    "z = \\theta^\\top x + b\n",
    "\\end{equation}\n",
    "\n",
    "逻辑回归：\n",
    "\n",
    "\\begin{equation}\n",
    "h_\\theta(x) = Y(z) = \\frac{1}{1+e^{-(\\theta^\\top x)}}\n",
    "\\end{equation}\n",
    "\n",
    "其中$\\theta$是参数向量。对于$h_\\theta(x)$的直观解释是：对于给定的输入$x$，$h_\\theta(x)$表示其对应类标$y=1$即属于正例的概率。"
   ]
  },
  {
   "cell_type": "markdown",
   "metadata": {},
   "source": [
    "对于输入$x$分类结果为类别$1$和类别$0$的概率分别为：\n",
    "\n",
    "\\begin{align}\n",
    "P\\{y=1|x;\\theta\\} &= h_\\theta(x); \\\\\n",
    "P\\{y=0|x;\\theta\\} &= 1 - h_\\theta(x).\n",
    "\\end{align}\n",
    "\n",
    "例如，如果对于给定的x，通过已经确定的参数计算得出$h_\\theta(x)=0.7$，则表示有$70\\%$的几率$y$为正例，相应的$y$为负例的几率为$0.3$。"
   ]
  },
  {
   "cell_type": "markdown",
   "metadata": {},
   "source": [
    "### 决策面"
   ]
  },
  {
   "cell_type": "markdown",
   "metadata": {},
   "source": [
    "在逻辑回归中，我们预测：\n",
    "\n",
    "- 当$h_\\theta$大于等于$0.5$时，预测$y=1$;\n",
    "- 当$h_\\theta$小于$0.5$时，预测$y=0$。"
   ]
  },
  {
   "cell_type": "markdown",
   "metadata": {},
   "source": [
    "由sigmoid函数的特性：\n",
    "- $z=0$时，$g(z) = 0.5$；\n",
    "- $z>0$时，$g(z) > 0.5$；\n",
    "- $z<0$时，$g(z) < 0.5$。"
   ]
  },
  {
   "cell_type": "markdown",
   "metadata": {},
   "source": [
    "又$z=\\theta^\\top x$，所以\n",
    "\n",
    "- $\\theta^\\top x$大于等于$0$时，预测$y=1$；\n",
    "- $\\theta^\\top x$小于$0$时，预测$y=0$"
   ]
  },
  {
   "cell_type": "markdown",
   "metadata": {},
   "source": [
    "假设我们有一个模型：$h_\\theta(x)=g(\\theta_0 + \\theta_1 x_1 + \\theta_2 x_2)$并且参数$\\theta$是向量$[-3, 1, 1]^\\top$。 则当$-3 + x_1 + x_2$大于等于$0$，模型将预测$y=1$。 绘制直线$-3 + x_1+x_2=0$，便是我们模型的分界线，将预测为$1$的区域和预测为$0$的区域分隔开。"
   ]
  },
  {
   "cell_type": "code",
   "execution_count": 523,
   "metadata": {},
   "outputs": [
    {
     "data": {
      "text/plain": [
       "<matplotlib.legend.Legend at 0x7fdcd8775400>"
      ]
     },
     "execution_count": 523,
     "metadata": {},
     "output_type": "execute_result"
    },
    {
     "data": {
      "image/png": "[encoded data removed]",
      "text/plain": [
       "<Figure size 432x288 with 1 Axes>"
      ]
     },
     "metadata": {
      "needs_background": "light"
     },
     "output_type": "display_data"
    }
   ],
   "source": [
    "import numpy as np\n",
    "import matplotlib.pyplot as plt\n",
    "plt.rcParams['font.sans-serif']=['Ubuntu']\n",
    "plt.rcParams['axes.unicode_minus']=False\n",
    "\n",
    "N = 100\n",
    "\n",
    "X1  = np.array(list(map(lambda x: (x-N/3)/10, range(N+1))))\n",
    "\n",
    "X2 = 3 - X1\n",
    "\n",
    "plt.hlines(0, X1.min(), X1.max(), colors=\"r\", linestyles=\"dotted\")\n",
    "plt.vlines(0, X2.min(), X2.max(), colors=\"r\", linestyles=\"dotted\")\n",
    "\n",
    "plt.plot(X1, X2, label=\"decision\")\n",
    "\n",
    "dots = np.random.random((N, 2)) * 6 - 1.5\n",
    "\n",
    "positive = dots.sum(axis=1)-3>=0\n",
    "\n",
    "plt.scatter(dots[positive][:, 0], dots[positive][:, 1], marker='^', c='r', label=\"positive\")\n",
    "plt.scatter(dots[~positive][:, 0], dots[~positive][:, 1], marker='o', c='b', label=\"negative\")\n",
    "\n",
    "plt.legend()"
   ]
  },
  {
   "cell_type": "markdown",
   "metadata": {},
   "source": [
    "### 损失函数"
   ]
  },
  {
   "cell_type": "markdown",
   "metadata": {},
   "source": [
    "在分类问题中使用的损失函数一般是交叉熵\n",
    "\n",
    "\\begin{equation}\n",
    "J(\\theta) = -\\frac{1}{m}\\sum_{i=1}^{m}[y^{(i)}log(h_\\theta(x^{(i)})) + (1-y^{(i)})log(1-h_\\theta(x^{(i)}))]\n",
    "\\end{equation}\n",
    "\n",
    "$J(\\theta)$的梯度:\n",
    "\n",
    "\\begin{equation}\n",
    "\\frac{\\partial}{\\theta_j}J(\\theta) = \\frac{1}{m}\\sum_{i=1}^{m}(h_\\theta(x^{(i)})-y^{(i)})x^{(j)}\n",
    "\\end{equation}\n",
    "\n"
   ]
  },
  {
   "cell_type": "markdown",
   "metadata": {},
   "source": [
    "所以最后目标变成取$J(\\theta)$最小值时的$\\theta$为最佳参数。 与线性回归类似，利用梯度下降法更新$\\theta$。\n",
    "\n",
    "\\begin{align}\n",
    "\\theta_j &:= \\theta_j - \\alpha \\cdot \\frac{\\partial}{\\theta_j}J(\\theta) \\\\\n",
    "&:= \\theta_j - \\alpha\\cdot \\frac{1}{m}\\sum_{i=1}^{m}(h_\\theta(x^{(i)})-y^{(i)})x^{(j)}\n",
    "\\end{align}"
   ]
  },
  {
   "cell_type": "markdown",
   "metadata": {},
   "source": [
    "### 正则化"
   ]
  },
  {
   "cell_type": "markdown",
   "metadata": {},
   "source": [
    "正则化逻辑回归\n",
    "\n",
    "\n",
    "\\begin{equation}\n",
    "J(\\theta)=-\\frac{1}{m}\\sum^m_{i=1}\\left[y^{(i)}\\log{h_\\theta(x^{(i)})}+(1-y^{(i)})\\log({1-h_\\theta(x^{(i)})})\\right]+\\frac{\\lambda}{2m}\\sum^n_{j=1}\\theta^2_j\n",
    "\\end{equation}"
   ]
  },
  {
   "cell_type": "markdown",
   "metadata": {},
   "source": [
    "正则优化：\n",
    "\n",
    "\\begin{equation}\n",
    "\\begin{split}\n",
    "\\theta_0&:=\\theta_0-\\alpha\\frac{1}{m}\\sum^m_{i=1}(h_\\theta(x^{(i)})-y^{(i)})x^{(i)}_0 \\\\\n",
    "\\theta_j&:=\\theta_j-\\alpha\\frac{1}{m}\\sum^m_{i=1}((h_\\theta(x^{(i)})-y^{(i)})x^{(i)}_j+\\frac{\\lambda}{m}\\theta_j) \\mbox{ for } j=1,2,\\ldots,n\n",
    "\\end{split}\n",
    "\\end{equation}"
   ]
  },
  {
   "cell_type": "markdown",
   "metadata": {},
   "source": [
    "## 逻辑回归python实现"
   ]
  },
  {
   "cell_type": "markdown",
   "metadata": {},
   "source": [
    "### 准备数据"
   ]
  },
  {
   "cell_type": "code",
   "execution_count": null,
   "metadata": {},
   "outputs": [],
   "source": [
    "import numpy as np\n",
    "import matplotlib.pyplot as plt"
   ]
  },
  {
   "cell_type": "code",
   "execution_count": null,
   "metadata": {},
   "outputs": [],
   "source": [
    "def generage_data(N=100):\n",
    "    # 产生N个随机二元组（x1, x2）\n",
    "    data = np.random.random((N, 2)) * 6 - 1.5\n",
    "\n",
    "    # 为这N个随机二元组添加标签\n",
    "    label = np.zeros((N))\n",
    "    positive = data.sum(axis=1)-3>=0\n",
    "    label[positive] = 1\n",
    "    \n",
    "    return {\"data\":data, \"label\":label}"
   ]
  },
  {
   "cell_type": "code",
   "execution_count": null,
   "metadata": {},
   "outputs": [],
   "source": [
    "class MData(object):\n",
    "    def __init__(self, N):\n",
    "        self.N = N\n",
    "        \n",
    "        self.data = self._generage_data(N)\n",
    "        \n",
    "    def _generage_data(self, N=100):\n",
    "        \n",
    "        # 产生N个随机二元组（x1, x2）\n",
    "        data = np.random.random((N, 2)) * 6 - 1.5\n",
    "\n",
    "        # 为这N个随机二元组添加标签\n",
    "        label = np.zeros((N))\n",
    "        positive = data.sum(axis=1)-3>=0\n",
    "        label[positive] = 1\n",
    "\n",
    "        return np.array([{\"data\":item, \"label\":ann} for item, ann in zip(data, label)])\n",
    "    \n",
    "    def __len__(self):\n",
    "        return self.N\n",
    "\n",
    "    def __getitem__(self, ix):\n",
    "        if isinstance(ix, str):\n",
    "            return np.array([item[ix].tolist() for item in self.data])\n",
    "        return self.data[ix]"
   ]
  },
  {
   "cell_type": "code",
   "execution_count": null,
   "metadata": {},
   "outputs": [],
   "source": [
    "class Dataloader(object):\n",
    "    def __init__(self, dataset, batch_size=1):\n",
    "        self.dataset = dataset\n",
    "        self.batch_size = batch_size\n",
    "        \n",
    "        self.__set_index()\n",
    "        \n",
    "    def __len__(self):\n",
    "        return len(self.dataset) // self.batch_size\n",
    "        \n",
    "    def __iter__(self):\n",
    "        return self\n",
    "    \n",
    "    def __next__(self):\n",
    "        if self.index == len(self):\n",
    "            raise StopIteration\n",
    "            \n",
    "        _start = self.index * self.batch_size\n",
    "        _stop = _start + self.batch_size\n",
    "        \n",
    "        self.index += 1\n",
    "            \n",
    "        return {\"data\":self.dataset[\"data\"][_start:_stop],\n",
    "               \"label\":self.dataset[\"label\"][_start:_stop]}\n",
    "            \n",
    "    def __set_index(self):\n",
    "        self.index = 0"
   ]
  },
  {
   "cell_type": "code",
   "execution_count": null,
   "metadata": {},
   "outputs": [],
   "source": [
    "train_data = MData(1000)\n",
    "test_data = MData(100)"
   ]
  },
  {
   "cell_type": "code",
   "execution_count": null,
   "metadata": {},
   "outputs": [],
   "source": [
    "data_loader = Dataloader(train_data, batch_size=3)"
   ]
  },
  {
   "cell_type": "markdown",
   "metadata": {},
   "source": [
    "### 定义模型"
   ]
  },
  {
   "cell_type": "code",
   "execution_count": null,
   "metadata": {},
   "outputs": [],
   "source": [
    "class Sigmoid(object):\n",
    "    def __call__(self, x):\n",
    "        self.ex = np.exp(-1 * x)\n",
    "        \n",
    "        return 1 / (1 + self.ex)\n",
    "    \n",
    "    def backward(self, x):\n",
    "        return x * self.ex/(1+self.ex)**2\n",
    "    \n",
    "    def setup(self):\n",
    "        pass"
   ]
  },
  {
   "cell_type": "code",
   "execution_count": null,
   "metadata": {},
   "outputs": [],
   "source": [
    "class Liner(object):\n",
    "    def __init__(self, n):\n",
    "        self.weight = np.random.random(size=(n,))\n",
    "        self.bias = np.random.random()\n",
    "            \n",
    "    def __call__(self, x):\n",
    "        self.weight_b = x\n",
    "        self.bias_b = 1\n",
    "            \n",
    "#         x = self.weight.dot(x) + self.bias\n",
    "        x = np.tensordot(self.weight, x, axes=[0, 1]) + self.bias\n",
    "        return x\n",
    "        \n",
    "    def backward(self, x):\n",
    "        #self.weight_b *= x\n",
    "        self.bias_b *= x.mean()\n",
    "        #print(x.shape, self.bias_b.shape)\n",
    "        self.weight_b = np.tensordot(self.weight_b, x, axes=[0, 0])\n",
    "        \n",
    "        \n",
    "        return self.weight\n",
    "    \n",
    "    def setup(self, lr):\n",
    "        self.weight -= lr * self.weight_b\n",
    "        self.bias -= lr * self.bias_b\n",
    "\n"
   ]
  },
  {
   "cell_type": "code",
   "execution_count": null,
   "metadata": {},
   "outputs": [],
   "source": [
    "class Mode(object):\n",
    "    def __init__(self, size=(2,)):\n",
    "        self.liner = Liner(size[0])\n",
    "        self.sigmoid = Sigmoid()\n",
    "        \n",
    "    def __call__(self, x):\n",
    "        return self.sigmoid(self.liner(x))\n",
    "    \n",
    "    def backward(self, x):\n",
    "        y = self.liner.backward(self.sigmoid.backward(x))\n",
    "        return y\n",
    "    \n",
    "    def setup(self, lr = 0.1):\n",
    "        self.liner.setup(lr)"
   ]
  },
  {
   "cell_type": "code",
   "execution_count": null,
   "metadata": {},
   "outputs": [],
   "source": [
    "class Binary_Cross_Encropy(object):\n",
    "    def __call__(self, predicts, targets):\n",
    "        assert(predicts.shape == targets.shape)\n",
    "        self.predicts = predicts\n",
    "        self.targets = targets\n",
    "        loss = np.multiply(np.log(predicts), targets) + np.multiply(np.log(1-predicts), 1-predicts)\n",
    "        return loss.mean() * -1\n",
    "    \n",
    "    def backward(self, x):\n",
    "        loss_b = np.multiply(self.targets, 1/self.predicts) - np.multiply(1-self.targets, 1/(1-self.predicts))\n",
    "        return loss_b/self.targets.shape[0]\n",
    "        "
   ]
  },
  {
   "cell_type": "code",
   "execution_count": null,
   "metadata": {},
   "outputs": [],
   "source": [
    "Net = Mode()"
   ]
  },
  {
   "cell_type": "markdown",
   "metadata": {},
   "source": [
    "### 训练"
   ]
  },
  {
   "cell_type": "code",
   "execution_count": null,
   "metadata": {},
   "outputs": [],
   "source": [
    "epoch_num = 50\n",
    "batch_size = 10\n",
    "lr = 0.1\n",
    "train_loader = Dataloader(train_data, batch_size=10)\n",
    "test_loader = Dataloader(test_data)\n",
    "loss = Binary_Cross_Encropy()\n",
    "\n",
    "for epoch in range(epoch_num):\n",
    "    for samples in train_loader:\n",
    "        inputs = samples[\"data\"]\n",
    "        labels = samples[\"label\"]\n",
    "        \n",
    "        outputs = Net(inputs)\n",
    "        print(loss(outputs, labels))\n",
    "        Net.backward(loss.backward(1))\n",
    "        Net.setup(lr=lr)\n",
    "        \n",
    "    "
   ]
  },
  {
   "cell_type": "code",
   "execution_count": null,
   "metadata": {},
   "outputs": [],
   "source": [
    "for samples in test_loader:\n",
    "    inputs = samples[\"data\"]\n",
    "    labels = samples[\"label\"]\n",
    "\n",
    "    outputs = Net(inputs)\n",
    "    print(loss(outputs, labels))"
   ]
  }
 ],
 "metadata": {
  "kernelspec": {
   "display_name": "Python 3",
   "language": "python",
   "name": "python3"
  },
  "language_info": {
   "codemirror_mode": {
    "name": "ipython",
    "version": 3
   },
   "file_extension": ".py",
   "mimetype": "text/x-python",
   "name": "python",
   "nbconvert_exporter": "python",
   "pygments_lexer": "ipython3",
   "version": "3.6.8"
  },
  "toc": {
   "base_numbering": 1,
   "nav_menu": {},
   "number_sections": true,
   "sideBar": true,
   "skip_h1_title": false,
   "title_cell": "Table of Contents",
   "title_sidebar": "Contents",
   "toc_cell": false,
   "toc_position": {
    "height": "calc(100% - 180px)",
    "left": "10px",
    "top": "150px",
    "width": "384px"
   },
   "toc_section_display": true,
   "toc_window_display": true
  }
 },
 "nbformat": 4,
 "nbformat_minor": 2
}
