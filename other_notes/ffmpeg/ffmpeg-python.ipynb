{
 "cells": [
  {
   "cell_type": "markdown",
   "metadata": {},
   "source": [
    "# FFMPEG-PYTHON "
   ]
  },
  {
   "cell_type": "markdown",
   "metadata": {},
   "source": [
    "## 示例"
   ]
  },
  {
   "cell_type": "markdown",
   "metadata": {},
   "source": [
    "1. 导入包"
   ]
  },
  {
   "cell_type": "code",
   "execution_count": 1,
   "metadata": {},
   "outputs": [],
   "source": [
    "import ffmpeg\n",
    "\n",
    "import numpy as np"
   ]
  },
  {
   "cell_type": "markdown",
   "metadata": {},
   "source": [
    "2. 查询视频信息"
   ]
  },
  {
   "cell_type": "code",
   "execution_count": 10,
   "metadata": {},
   "outputs": [
    {
     "name": "stdout",
     "output_type": "stream",
     "text": [
      "index :\t 1\n",
      "codec_name :\t h264\n",
      "codec_long_name :\t H.264 / AVC / MPEG-4 AVC / MPEG-4 part 10\n",
      "profile :\t High\n",
      "codec_type :\t video\n",
      "codec_time_base :\t 626591/37080000\n",
      "codec_tag_string :\t avc1\n",
      "codec_tag :\t 0x31637661\n",
      "width :\t 960\n",
      "height :\t 544\n",
      "coded_width :\t 960\n",
      "coded_height :\t 544\n",
      "has_b_frames :\t 2\n",
      "sample_aspect_ratio :\t 0:1\n",
      "display_aspect_ratio :\t 0:1\n",
      "pix_fmt :\t yuv420p\n",
      "level :\t 31\n",
      "chroma_location :\t left\n",
      "refs :\t 1\n",
      "is_avc :\t true\n",
      "nal_length_size :\t 4\n",
      "r_frame_rate :\t 355/12\n",
      "avg_frame_rate :\t 18540000/626591\n",
      "time_base :\t 1/90000\n",
      "start_pts :\t 6082\n",
      "start_time :\t 0.067578\n",
      "duration_ts :\t 1879773\n",
      "duration :\t 20.886367\n",
      "bit_rate :\t 1079611\n",
      "bits_per_raw_sample :\t 8\n",
      "nb_frames :\t 618\n",
      "disposition :\t {'default': 1, 'dub': 0, 'original': 0, 'comment': 0, 'lyrics': 0, 'karaoke': 0, 'forced': 0, 'hearing_impaired': 0, 'visual_impaired': 0, 'clean_effects': 0, 'attached_pic': 0, 'timed_thumbnails': 0}\n",
      "tags :\t {'creation_time': '2019-05-19T04:45:14.000000Z', 'language': 'und', 'encoder': 'JVT/AVC Coding'}\n"
     ]
    }
   ],
   "source": [
    "path = '/media/alvin/资料/我的文档/数据资料/数据集/smoking/自拍抽烟数据/train/4f3fa7321577b56952533ffa528312ab.mp4'\n",
    "\n",
    "\n",
    "probe = ffmpeg.probe(path)\n",
    "\n",
    "\n",
    "video_info = next(s for s in probe['streams'] if s['codec_type'] == 'video')\n",
    "\n",
    "for k in video_info:\n",
    "    print(\"{key} :\\t {value}\".format(key=k,value=video_info[k]))"
   ]
  },
  {
   "cell_type": "markdown",
   "metadata": {},
   "source": [
    "3. 处理视频流"
   ]
  },
  {
   "cell_type": "code",
   "execution_count": 11,
   "metadata": {},
   "outputs": [
    {
     "name": "stdout",
     "output_type": "stream",
     "text": [
      "Help on function compile in module ffmpeg._run:\n",
      "\n",
      "compile(stream_spec, cmd='ffmpeg', overwrite_output=False)\n",
      "    Build command-line for invoking ffmpeg.\n",
      "    \n",
      "    The :meth:`run` function uses this to build the commnad line\n",
      "    arguments and should work in most cases, but calling this function\n",
      "    directly is useful for debugging or if you need to invoke ffmpeg\n",
      "    manually for whatever reason.\n",
      "    \n",
      "    This is the same as calling :meth:`get_args` except that it also\n",
      "    includes the ``ffmpeg`` command as the first argument.\n",
      "\n"
     ]
    }
   ],
   "source": [
    "help(ffmpeg.compile)"
   ]
  },
  {
   "cell_type": "code",
   "execution_count": 8,
   "metadata": {},
   "outputs": [
    {
     "name": "stdout",
     "output_type": "stream",
     "text": [
      "Help on function get_args in module ffmpeg._run:\n",
      "\n",
      "get_args(stream_spec, overwrite_output=False)\n",
      "    Build command-line arguments to be passed to ffmpeg.\n",
      "\n"
     ]
    }
   ],
   "source": [
    "import ffmpeg\n",
    "help(ffmpeg.get_args)"
   ]
  },
  {
   "cell_type": "code",
   "execution_count": 21,
   "metadata": {},
   "outputs": [],
   "source": [
    "process1 = (\n",
    "    ffmpeg\n",
    "    .input(path)\n",
    "    # .filter('fps', fps=30, round='up')\n",
    "    # .output('pipe:', format='rawvideo', pix_fmt='rgb24')\n",
    "    .trim(start=\"5\", end=\"10\")\n",
    "    .output(\"test.mp4\")\n",
    "    .run()\n",
    ")"
   ]
  },
  {
   "cell_type": "code",
   "execution_count": 22,
   "metadata": {},
   "outputs": [
    {
     "name": "stdout",
     "output_type": "stream",
     "text": [
      "index :\t 0\n",
      "codec_name :\t h264\n",
      "codec_long_name :\t H.264 / AVC / MPEG-4 AVC / MPEG-4 part 10\n",
      "profile :\t High\n",
      "codec_type :\t video\n",
      "codec_time_base :\t 6/355\n",
      "codec_tag_string :\t avc1\n",
      "codec_tag :\t 0x31637661\n",
      "width :\t 960\n",
      "height :\t 544\n",
      "coded_width :\t 960\n",
      "coded_height :\t 544\n",
      "has_b_frames :\t 2\n",
      "sample_aspect_ratio :\t 0:1\n",
      "display_aspect_ratio :\t 0:1\n",
      "pix_fmt :\t yuv420p\n",
      "level :\t 31\n",
      "chroma_location :\t left\n",
      "refs :\t 1\n",
      "is_avc :\t true\n",
      "nal_length_size :\t 4\n",
      "r_frame_rate :\t 355/12\n",
      "avg_frame_rate :\t 355/12\n",
      "time_base :\t 1/11360\n",
      "start_pts :\t 0\n",
      "start_time :\t 0.000000\n",
      "duration_ts :\t 113668\n",
      "duration :\t 10.005986\n",
      "bit_rate :\t 373570\n",
      "bits_per_raw_sample :\t 8\n",
      "nb_frames :\t 296\n",
      "disposition :\t {'default': 1, 'dub': 0, 'original': 0, 'comment': 0, 'lyrics': 0, 'karaoke': 0, 'forced': 0, 'hearing_impaired': 0, 'visual_impaired': 0, 'clean_effects': 0, 'attached_pic': 0, 'timed_thumbnails': 0}\n",
      "tags :\t {'language': 'und', 'handler_name': 'VideoHandler'}\n"
     ]
    }
   ],
   "source": [
    "probe = ffmpeg.probe(\"test.mp4\")\n",
    "\n",
    "\n",
    "video_info = next(s for s in probe['streams'] if s['codec_type'] == 'video')\n",
    "\n",
    "for k in video_info:\n",
    "    print(\"{key} :\\t {value}\".format(key=k,value=video_info[k]))"
   ]
  },
  {
   "cell_type": "code",
   "execution_count": 24,
   "metadata": {},
   "outputs": [],
   "source": [
    "path = '/media/alvin/资料/我的文档/数据资料/数据集/smoking/newsaveVideo_40.avi'\n",
    "\n",
    "input_stream = ffmpeg.input(path)\n",
    "\n",
    "processing = (\n",
    "    ffmpeg.concat(\n",
    "        input_stream.trim(start=\"00:05:44\", end=\"00:05:58\"),\n",
    "    )\n",
    "    .output(\"smoking_split.mp4\").run()\n",
    ")"
   ]
  },
  {
   "cell_type": "code",
   "execution_count": 34,
   "metadata": {},
   "outputs": [
    {
     "name": "stdout",
     "output_type": "stream",
     "text": [
      "[{'start': '00:00:00', 'end': '00:05:44'}, {'start': '00:05:58', 'end': '00:10:05'}, {'start': '00:10:24', 'end': '00:10:47'}, {'start': '00:11:39', 'end': '00:11:53'}, {'start': '00:11:59', 'end': '00:12:27'}, {'start': '00:12:36', 'end': '00:25:32'}]\n",
      "['/media/alvin/资料/我的文档/数据资料/数据集/smoking/test11.mp4', '/media/alvin/资料/我的文档/数据资料/数据集/smoking/test12.mp4', '/media/alvin/资料/我的文档/数据资料/数据集/smoking/test13.mp4', '/media/alvin/资料/我的文档/数据资料/数据集/smoking/test14.mp4', '/media/alvin/资料/我的文档/数据资料/数据集/smoking/test15.mp4', '/media/alvin/资料/我的文档/数据资料/数据集/smoking/test16.mp4']\n"
     ]
    }
   ],
   "source": [
    "import os.path\n",
    "\n",
    "import yuetools.utils.ffmpeg as yfpg\n",
    "import yuetools.utils.utils as yutls\n",
    "\n",
    "path = '/media/alvin/资料/我的文档/数据资料/数据集/smoking/test1.mp4'\n",
    "split_json_file = '/media/alvin/资料/我的文档/数据资料/数据集/smoking/back_splits.json'\n",
    "\n",
    "peroids = yutls.load_json(split_json_file)\n",
    "\n",
    "splits_files = [os.path.splitext(path)[0]+str(i)+\".mp4\" for i in range(1, len(peroids)+1)]\n",
    "\n",
    "print(peroids)\n",
    "print(splits_files)"
   ]
  },
  {
   "cell_type": "code",
   "execution_count": 36,
   "metadata": {},
   "outputs": [
    {
     "data": {
      "text/plain": [
       "[(None, None),\n",
       " (None, None),\n",
       " (None, None),\n",
       " (None, None),\n",
       " (None, None),\n",
       " (None, None)]"
      ]
     },
     "execution_count": 36,
     "metadata": {},
     "output_type": "execute_result"
    }
   ],
   "source": [
    "[yfpg.video_split(path, splits_files[i], peroids[i])  for i in range(len(splits_files))]"
   ]
  },
  {
   "cell_type": "code",
   "execution_count": 37,
   "metadata": {},
   "outputs": [
    {
     "data": {
      "text/plain": [
       "(None, None)"
      ]
     },
     "execution_count": 37,
     "metadata": {},
     "output_type": "execute_result"
    }
   ],
   "source": [
    "yfpg.video_concat(splits_files, os.path.splitext(path)[0]+\"concat.mp4\")"
   ]
  },
  {
   "cell_type": "code",
   "execution_count": 1,
   "metadata": {},
   "outputs": [],
   "source": [
    "import os.path\n",
    "\n",
    "import yuetools.utils.ffmpeg as yfpg\n",
    "import yuetools.utils.utils as yutls"
   ]
  },
  {
   "cell_type": "code",
   "execution_count": 2,
   "metadata": {},
   "outputs": [
    {
     "name": "stdout",
     "output_type": "stream",
     "text": [
      "{'0': ['4f3fa7321577b56952533ffa528312ab', '5d15851434ae355e57bba8cbe5f970a2'], '1': ['82d54b730a0a47a0627084c7fc689cb3', '188d28a562fd7f17e151c162feb76139', '711604d793c18fa0de6326bbef2beff7', 'ec57c991dcc1eeb67f7a0090fb11cb2a', 'f32a1b7324863b1a3ca2c7d0b60ce28c']}\n"
     ]
    }
   ],
   "source": [
    "label_json_path = \"/media/alvin/资料/我的文档/数据资料/数据集/smoking/自拍抽烟数据/train/labels.json\"\n",
    "\n",
    "labels_info = yutls.load_json(label_json_path)\n",
    "\n",
    "print(labels_info)"
   ]
  },
  {
   "cell_type": "code",
   "execution_count": 50,
   "metadata": {},
   "outputs": [
    {
     "name": "stdout",
     "output_type": "stream",
     "text": [
      "{'0': ['/media/alvin/资料/我的文档/数据资料/数据集/smoking/自拍抽烟数据/train/4f3fa7321577b56952533ffa528312ab.mp4', '/media/alvin/资料/我的文档/数据资料/数据集/smoking/自拍抽烟数据/train/5d15851434ae355e57bba8cbe5f970a2.mp4'], '1': ['/media/alvin/资料/我的文档/数据资料/数据集/smoking/自拍抽烟数据/train/82d54b730a0a47a0627084c7fc689cb3.mp4', '/media/alvin/资料/我的文档/数据资料/数据集/smoking/自拍抽烟数据/train/188d28a562fd7f17e151c162feb76139.mp4', '/media/alvin/资料/我的文档/数据资料/数据集/smoking/自拍抽烟数据/train/711604d793c18fa0de6326bbef2beff7.mp4', '/media/alvin/资料/我的文档/数据资料/数据集/smoking/自拍抽烟数据/train/ec57c991dcc1eeb67f7a0090fb11cb2a.mp4', '/media/alvin/资料/我的文档/数据资料/数据集/smoking/自拍抽烟数据/train/f32a1b7324863b1a3ca2c7d0b60ce28c.mp4']}\n"
     ]
    }
   ],
   "source": [
    "video_root = \"/media/alvin/资料/我的文档/数据资料/数据集/smoking/自拍抽烟数据/train\"\n",
    "\n",
    "\n",
    "for k in labels_info:\n",
    "    labels_info[k] = [os.path.join(video_root, file+\".mp4\") for file in labels_info[k]]\n",
    "    \n",
    "    \n",
    "print(labels_info)"
   ]
  },
  {
   "cell_type": "code",
   "execution_count": 51,
   "metadata": {},
   "outputs": [
    {
     "data": {
      "text/plain": [
       "[(None, None), (None, None)]"
      ]
     },
     "execution_count": 51,
     "metadata": {},
     "output_type": "execute_result"
    }
   ],
   "source": [
    "[yfpg.video_concat(files, os.path.join(video_root, key+\"_concat.mp4\")) for key, files in labels_info.items()]"
   ]
  },
  {
   "cell_type": "code",
   "execution_count": 5,
   "metadata": {},
   "outputs": [
    {
     "name": "stdout",
     "output_type": "stream",
     "text": [
      "['/media/alvin/资料/我的文档/数据资料/数据集/smoking/自拍抽烟数据/train/ec57c991dcc1eeb67f7a0090fb11cb2a.mp4', '/media/alvin/资料/我的文档/数据资料/数据集/smoking/自拍抽烟数据/train/f32a1b7324863b1a3ca2c7d0b60ce28c.mp4']\n"
     ]
    }
   ],
   "source": [
    "import os.path\n",
    "\n",
    "import yuetools.utils.ffmpeg as yfpg\n",
    "import yuetools.utils.utils as yutls\n",
    "\n",
    "video_root = \"/media/alvin/资料/我的文档/数据资料/数据集/smoking/自拍抽烟数据/train\"\n",
    "\n",
    "videos = [\"ec57c991dcc1eeb67f7a0090fb11cb2a\", \"f32a1b7324863b1a3ca2c7d0b60ce28c\"]\n",
    "\n",
    "videos_path = [os.path.join(video_root, video+\".mp4\") for video in videos]\n",
    "# videos_path = ['/media/alvin/资料/我的文档/数据资料/数据集/smoking/自拍抽烟数据/train/82d54b730a0a47a0627084c7fc689cb3.mp4', '/media/alvin/资料/我的文档/数据资料/数据集/smoking/自拍抽烟数据/train/188d28a562fd7f17e151c162feb76139.mp4', '/media/alvin/资料/我的文档/数据资料/数据集/smoking/自拍抽烟数据/train/711604d793c18fa0de6326bbef2beff7.mp4', '/media/alvin/资料/我的文档/数据资料/数据集/smoking/自拍抽烟数据/train/ec57c991dcc1eeb67f7a0090fb11cb2a.mp4', '/media/alvin/资料/我的文档/数据资料/数据集/smoking/自拍抽烟数据/train/f32a1b7324863b1a3ca2c7d0b60ce28c.mp4']\n",
    "print(videos_path)"
   ]
  },
  {
   "cell_type": "code",
   "execution_count": 6,
   "metadata": {},
   "outputs": [
    {
     "data": {
      "text/plain": [
       "[(None, None)]"
      ]
     },
     "execution_count": 6,
     "metadata": {},
     "output_type": "execute_result"
    }
   ],
   "source": [
    "[yfpg.video_concat(videos_path, os.path.join(video_root, \"three_people\"+\"_concat.mp4\"))]"
   ]
  },
  {
   "cell_type": "code",
   "execution_count": null,
   "metadata": {},
   "outputs": [],
   "source": []
  },
  {
   "cell_type": "code",
   "execution_count": null,
   "metadata": {},
   "outputs": [],
   "source": []
  },
  {
   "cell_type": "code",
   "execution_count": null,
   "metadata": {},
   "outputs": [],
   "source": []
  }
 ],
 "metadata": {
  "kernelspec": {
   "display_name": "Python 3",
   "language": "python",
   "name": "python3"
  },
  "language_info": {
   "codemirror_mode": {
    "name": "ipython",
    "version": 3
   },
   "file_extension": ".py",
   "mimetype": "text/x-python",
   "name": "python",
   "nbconvert_exporter": "python",
   "pygments_lexer": "ipython3",
   "version": "3.6.8"
  },
  "toc": {
   "base_numbering": 1,
   "nav_menu": {},
   "number_sections": true,
   "sideBar": true,
   "skip_h1_title": false,
   "title_cell": "Table of Contents",
   "title_sidebar": "Contents",
   "toc_cell": false,
   "toc_position": {},
   "toc_section_display": true,
   "toc_window_display": false
  }
 },
 "nbformat": 4,
 "nbformat_minor": 2
}
