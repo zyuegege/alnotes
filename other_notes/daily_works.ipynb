{
 "cells": [
  {
   "cell_type": "markdown",
   "metadata": {},
   "source": [
    "# 日志"
   ]
  },
  {
   "cell_type": "markdown",
   "metadata": {},
   "source": [
    "## 2019.7.23"
   ]
  },
  {
   "cell_type": "markdown",
   "metadata": {},
   "source": [
    "### 了解目标检测（object detection）中的Anchor"
   ]
  },
  {
   "cell_type": "markdown",
   "metadata": {},
   "source": [
    "#### 资源"
   ]
  },
  {
   "cell_type": "markdown",
   "metadata": {},
   "source": [
    "1. [目标检测中的Anchor](https://zhuanlan.zhihu.com/p/55824651)\n",
    "2. [图森技术汇 | 聊聊Anchor的\"前世今生\"（上）](https://zhuanlan.zhihu.com/p/63279717)\n",
    "3. [图森技术汇 | 聊聊Anchor的\"前世今生\"（下）](https://zhuanlan.zhihu.com/p/68553345)\n",
    "4. [Guided Anchoring: 物体检测器也能自己学 Anchor](https://zhuanlan.zhihu.com/p/55854246)"
   ]
  },
  {
   "cell_type": "markdown",
   "metadata": {},
   "source": [
    "#### 理解"
   ]
  },
  {
   "cell_type": "markdown",
   "metadata": {},
   "source": [
    "在目标检测的任务中，所谓基于Anchor的方法，便是事先设定好一个Anchor框，并假设需要检测的物体就在这个anchor中。然后利用这个与设定的框（Anchor）利用深度学习的网络去预测和判断这个框（Anchor）中包含这个物体的概率和对边框位置偏移的预测。"
   ]
  },
  {
   "cell_type": "markdown",
   "metadata": {},
   "source": [
    "#### 基于Anchor方法的检测方法"
   ]
  },
  {
   "cell_type": "markdown",
   "metadata": {},
   "source": [
    "- [Faster R-CNN]\n",
    "- [SSD]\n",
    "- [FPN]\n",
    "- [Mask R-CNN]\n",
    "- [RetinaNt]"
   ]
  },
  {
   "cell_type": "markdown",
   "metadata": {},
   "source": [
    "#### Anchor方法的优缺点"
   ]
  },
  {
   "cell_type": "markdown",
   "metadata": {},
   "source": []
  }
 ],
 "metadata": {
  "kernelspec": {
   "display_name": "Python 3",
   "language": "python",
   "name": "python3"
  },
  "language_info": {
   "codemirror_mode": {
    "name": "ipython",
    "version": 3
   },
   "file_extension": ".py",
   "mimetype": "text/x-python",
   "name": "python",
   "nbconvert_exporter": "python",
   "pygments_lexer": "ipython3",
   "version": "3.6.8"
  },
  "toc": {
   "base_numbering": 1,
   "nav_menu": {},
   "number_sections": true,
   "sideBar": true,
   "skip_h1_title": false,
   "title_cell": "Table of Contents",
   "title_sidebar": "Contents",
   "toc_cell": false,
   "toc_position": {},
   "toc_section_display": true,
   "toc_window_display": true
  }
 },
 "nbformat": 4,
 "nbformat_minor": 2
}
