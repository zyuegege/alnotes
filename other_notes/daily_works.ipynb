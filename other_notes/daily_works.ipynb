{
 "cells": [
  {
   "cell_type": "markdown",
   "metadata": {
    "heading_collapsed": true
   },
   "source": [
    "# 日志"
   ]
  },
  {
   "cell_type": "markdown",
   "metadata": {},
   "source": [
    "# 2019.7.23"
   ]
  },
  {
   "cell_type": "markdown",
   "metadata": {},
   "source": [
    "## 了解目标检测（object detection）中的Anchor"
   ]
  },
  {
   "cell_type": "markdown",
   "metadata": {},
   "source": [
    "### 资源"
   ]
  },
  {
   "cell_type": "markdown",
   "metadata": {},
   "source": [
    "1. [目标检测中的Anchor](https://zhuanlan.zhihu.com/p/55824651)\n",
    "2. [图森技术汇 | 聊聊Anchor的\"前世今生\"（上）](https://zhuanlan.zhihu.com/p/63279717)\n",
    "3. [图森技术汇 | 聊聊Anchor的\"前世今生\"（下）](https://zhuanlan.zhihu.com/p/68553345)\n",
    "4. [Guided Anchoring: 物体检测器也能自己学 Anchor](https://zhuanlan.zhihu.com/p/55854246)\n",
    "5. [Anchor-free方法随笔](https://mp.weixin.qq.com/s/1OYLhRW1w2HVUy0oAQ_kMw)"
   ]
  },
  {
   "cell_type": "markdown",
   "metadata": {},
   "source": [
    "### 理解"
   ]
  },
  {
   "cell_type": "markdown",
   "metadata": {},
   "source": [
    "在目标检测的任务中，所谓基于Anchor的方法，便是事先设定好一个Anchor框，并假设需要检测的物体就在这个anchor中。然后利用这个与设定的框（Anchor）利用深度学习的网络去预测和判断这个框（Anchor）中包含这个物体的概率和对边框位置偏移的预测。"
   ]
  },
  {
   "cell_type": "markdown",
   "metadata": {},
   "source": [
    "### 基于Anchor方法的检测方法"
   ]
  },
  {
   "cell_type": "markdown",
   "metadata": {},
   "source": [
    "- [Faster R-CNN]\n",
    "- [SSD]\n",
    "- [FPN]\n",
    "- [Mask R-CNN]\n",
    "- [RetinaNt]"
   ]
  },
  {
   "cell_type": "markdown",
   "metadata": {},
   "source": [
    "### Anchor方法的优缺点"
   ]
  },
  {
   "cell_type": "markdown",
   "metadata": {},
   "source": []
  },
  {
   "cell_type": "markdown",
   "metadata": {},
   "source": [
    "# 2019.7.24"
   ]
  },
  {
   "cell_type": "markdown",
   "metadata": {
    "heading_collapsed": true
   },
   "source": [
    "## 从YoloV1到YoloV3"
   ]
  },
  {
   "cell_type": "markdown",
   "metadata": {
    "hidden": true
   },
   "source": [
    "[yolo official site(https://pjreddie.com/darknet/yolo/)](https://pjreddie.com/darknet/yolo/)"
   ]
  },
  {
   "cell_type": "markdown",
   "metadata": {
    "hidden": true
   },
   "source": [
    "**papers:**\n",
    "\n",
    "1. [You Only Look Once:\n",
    "Unified, Real-Time Object Detection](https://arxiv.org/abs/1506.02640)\n",
    "2. [YOLO9000: Better, Faster, Stronger](https://arxiv.org/abs/1612.08242)\n",
    "3. [YOLOv3: An Incremental Improvement](https://pjreddie.com/media/files/papers/YOLOv3.pdf)"
   ]
  },
  {
   "cell_type": "markdown",
   "metadata": {
    "hidden": true
   },
   "source": [
    "**博客:**\n",
    "\n",
    "- [目标检测|YOLO原理与实现](https://zhuanlan.zhihu.com/p/32525231)\n",
    "- [目标检测|YOLOv2原理与实现(附YOLOv3)](https://zhuanlan.zhihu.com/p/35325884)"
   ]
  },
  {
   "cell_type": "markdown",
   "metadata": {
    "heading_collapsed": true
   },
   "source": [
    "## 轻量级网络"
   ]
  },
  {
   "cell_type": "markdown",
   "metadata": {
    "hidden": true
   },
   "source": [
    "1. [《SqueezeNet：AlexNet-level accuracy with 50x fewer parameters and <0.5MB》]()\n",
    "2. MobileNet\n",
    "3. ShuffleNet\n",
    "4. Xception"
   ]
  },
  {
   "cell_type": "markdown",
   "metadata": {
    "heading_collapsed": true
   },
   "source": [
    "# 2019.7.25"
   ]
  },
  {
   "cell_type": "markdown",
   "metadata": {
    "heading_collapsed": true
   },
   "source": [
    "# 2019.7.26"
   ]
  },
  {
   "cell_type": "markdown",
   "metadata": {
    "hidden": true
   },
   "source": [
    "1. 准备例会PPT\n",
    "2. 例会\n",
    "3. 写isic数据下载代码"
   ]
  },
  {
   "cell_type": "markdown",
   "metadata": {},
   "source": [
    "# 2019.7.27"
   ]
  },
  {
   "cell_type": "markdown",
   "metadata": {},
   "source": [
    "1. 下载isic数据集\n",
    "2. 阅读论文"
   ]
  }
 ],
 "metadata": {
  "kernelspec": {
   "display_name": "Python 3",
   "language": "python",
   "name": "python3"
  },
  "language_info": {
   "codemirror_mode": {
    "name": "ipython",
    "version": 3
   },
   "file_extension": ".py",
   "mimetype": "text/x-python",
   "name": "python",
   "nbconvert_exporter": "python",
   "pygments_lexer": "ipython3",
   "version": "3.6.8"
  },
  "toc": {
   "base_numbering": 1,
   "nav_menu": {},
   "number_sections": true,
   "sideBar": true,
   "skip_h1_title": false,
   "title_cell": "Table of Contents",
   "title_sidebar": "Contents",
   "toc_cell": false,
   "toc_position": {
    "height": "calc(100% - 180px)",
    "left": "10px",
    "top": "150px",
    "width": "384px"
   },
   "toc_section_display": true,
   "toc_window_display": true
  }
 },
 "nbformat": 4,
 "nbformat_minor": 2
}
