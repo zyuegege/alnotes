{
 "cells": [
  {
   "cell_type": "markdown",
   "metadata": {},
   "source": [
    "# OpenVPN 服务器安装教程"
   ]
  },
  {
   "cell_type": "markdown",
   "metadata": {},
   "source": [
    "---"
   ]
  },
  {
   "cell_type": "markdown",
   "metadata": {},
   "source": [
    "OpenVPN 相比较其他的VPN而言，个人觉得是最好安装部署与使用的一个VPN。最近在腾讯云领了一个试用服务器，于是来折腾了一下，并把一些步骤记录下。主要就是要配置openvpn、证书以及防火墙。"
   ]
  },
  {
   "cell_type": "code",
   "execution_count": 18,
   "metadata": {},
   "outputs": [
    {
     "data": {
      "image/png": "iVBORw0KGgoAAAANSUhEUgAAAYwAAABZCAIAAACi34Q1AAAABmJLR0QA/wD/AP%2BgvaeTAAAgAElEQVR4nO2deVgTV/v3TzbCFnYMBMKqEBHqgrKKqICCiha3WhX3altFrT4Vrfqj1seWWvsIrXvdsFVRURBxDVoRCIto2UGp7ItsgYQkQNb3j/N2rjQgQhJIwPn8wTWZnLnPPUPmO%2Bfcc859MBKJBKCgoKCoK1hVO4CCgoLSF6hIoaCgqDWoSKGgoKg1eFU7gDJC6OrqamxsbGlpaW9vl0gkHA5HIBAQCARdXV0MBmNgYGBsbEwmk7W0tFTtKcowAxUplAEjEAhyc3MLCgpev35dWlr6%2BvXr%2Bvp6FovVn2NJJJKlpeWYMWNoNJqDg4OLi8uECRM0NDQG22eU4QsGfbuH0h%2B6u7ufPXv2%2BPFjBoORk5PT2dmppaXl%2BA9UKpVMJpPJZBMTE0NDQwCAjo6OhoaGQCDgcDgAgLa2tpaWlsbGxqamppqamlf/wOPxNDU1J0%2Be7Onp6efn5%2Bvrq6mpqepzRVEvUJFC6Qs2mx0XF3fnzp3k5GQOh%2BPk5OTl5eXl5eXh4eHo6IjFKhTTlEgkr1%2B/zszMZDAYDAajsLBQR0dn5syZ8%2BfPX7x4sYGBgbLOAmVYg4oUSi9IJJLk5OSLFy/Gx8dLJJKAgIA5c%2BbMmTPHyspq8Cqtq6u7e/fuvXv3Hj16JJFIFixYsHr16tmzZysohSjDHVSkUP4Fn8%2BPjY09fPhwUVGRq6traGjoihUrTExMhtIHNpudkJDw%2B%2B%2B/P3782M7OLiwsbOPGjWjE/cNFgoIikUgkEoFAcOrUKXNzcw0NjdWrV%2Bfn56vaI0lxcfH69euJRCKZTD527Bifz1e1RygqABUpFIlEInnw4MG4ceMIBMLWrVtra2tV7c6/aGho2LFjB5FIdHR0TExMVLU7KEMN2tv/0Glra1u1alVgYKCDg0NRUVF0dLSFhYWqnfoXZmZmP//8c3Fx8fjx4xcsWLBs2bKWlhZVO4UydKAxqQ%2Ba5OTk1atXSySS06dPBwcHq9qd9/Pw4cMNGzYIBIILFy4EBQWp2h2UoQBtSX24REdHBwUFTZ06tbCwcFgoFABg9uzZhYWFAQEBwcHBhw8fVrU7KEOCirubKKpAJBJt2rQJi8VGRkaKxWJVuyMPR48exeFwa9asEQqFqvYFZXBBp8V8cIjF4s8%2B%2B%2Bzy5cvx8fHz589XtTtysn37dhqNtnDhQqFQePHiRRwOp2qPUAYLVKQ%2BOLZs2XL58uVbt27NmTNH1b4oRGBgYGJi4vz58zU0NM6dO6dqd1AGCzQm9WHx22%2B/nT59OjY2VoUKtXPnzvz8fOQjj8eT25S/v39cXNzFixePHTumDNdQ1BFUpD4gXr58GRYWtnfv3o8//nigxx44cKC1tRUAwGazmUympLeXwhwOZ/78%2BSUlJX2b%2Bv3330UiEfIxOzt77dq1paWlA3UJMmfOnIMHD%2B7YsSMzM1M%2BCyhqDjoE4UNBLBa7u7vr6uo%2BfvxYjtlwZWVlwcHBycnJnZ2dS5YsMTU1RcJAKSkpvr6%2BSMl58%2BZt2bKlD1NWVlYVFRXSUaTs7OzAwMDbt2/7%2BPgM1DEAgEQiCQoKamhoePHiBR6PRjBGHCoO3KMMFSdPniQQCEVFRXJb2Lx5882bN3vut7a2HpAd6fJisTgnJ0cikXz//fdbtmyR27eysjIikRgVFSW3BRS1BW1JfRAIhUI7O7uFCxdGRUXJbYTH42lra/fcb2NjU1lZ%2Ba6jcnNzly9fTiaTkaZTenq6t7c33Gaz2S9evIiLi5s9e3Z1dTWNRpPbvfDw8EuXLlVVVaEp9EYaqlZJlKEgLi4Oi8WWl5crYuT58%2Be97n9vS4rJZEqPxpIpT6FQlDLWqa6ujkAgXL58WXFTKGoFGjj/IIiJiQkMDLS1tZXj2PPnz7u4uHh4eLi5uV27dg3u3L9//3sD5AiGhoYYDOZd3xIIBKWMcqJQKMHBwTExMYqbQlErUJEa%2BYhEotTU1Llz58p3%2BJo1azIzMzMzM62srBYsWAB3njt3rqurS6ZkR0fHl19%2B2d3drZC7CjBnzpy0tDQ%2Bn68qB1AGA1SkRj55eXnt7e3SL%2BAGBBaL1dHRgdtIAnINDY2JEyciZaZPnz59%2BnQXF5eTJ09KD1mqra3t7OzsTy2//fZbbm6ufB5Ku8Hj8XJychS0g6JWoO9rRz7l5eVYLFaRmPR7efr0aa/7T548ef/%2BfT09Pemdb9%2B%2BnT59OvLRxsZm%2BvTpVVVVRkZGL168UMQNe3t7TU3N8vJyLy8vReygqBWoSI18mpubjYyMVDK77dChQ4cOHZLZaWNj01PUtmzZ4u/vr3iNJiYmTU1NittBUR/Q7t7Ih8vl9jp0QBGDSrQGKSsrGzNmjOJ2dHV1B8M9FBWCtqRGPsbGxkwmU1nW7t271//3ev3n1atX9vb2ittpaWkZ4mUjUAYbtCU18jE1NeVwOEppX3z//fcvX77cuXOnIkYkPcYPv337FoPBKL4sqEAgaGtrMzU1VdAOilqBitTIZ/z48QCA7OxsRYxUVlY2NjaWlZXt27dPQX8EAoFYLIbbN27cWLp0qZOT04YNGxQ0CwDIyckRiUTwfFFGDKhIjXyoVKqdnV1KSooiRng8nqur65EjR5qamhCJ6cm1a9fCwsL6NsXn85EsCEuWLDl27NiFCxf27t2riHuQp0%2BfUigUpcS2UNQHdO7e8IbL5XZ3dxsZGfVdbPPmzU%2BePCkuLu5j5Hd/6Ojo8PPz09XV7WN%2BHA6Hu3jxYh99Li0trebmZl1dXUU86ZUJEya4urqiCfBGGOolUl1dXbW1tU1NTW1S8Hi89vZ26CeHwxEIBAAATU1NuKQtkUjU1tYmkUiGUpiZmVEoFAKBoOLzGXzy8vImTJigra1taWk5ZswYOzs7Gxsba2tr%2BBcJIRcVFbm4uDx8%2BDAgIEC1DgMADh48uG/fPgXlsifPnj3z9fV9/vz55MmTlWt5ONLU1FRfX9/c3Mz8h46Ojo6ODqFQCABgsViwOayvrw/z9hgaGmpqahpJQaFQKBSKOqS%2BUZlINTc3FxUVlZaWlpaWVlRU1NbW1tXVNTY2IgU0NDSg4ujo6JBIJHixtLW1iUQiAKCzsxNOyxAKhfDqQ0WD/wMAABaLNTMzs7KysrS0tLW1pdFoTk5ONBrNwMBAFac7WIhEIhKJhIzqxuPxGAwGztcFAGhqalIoFAcHB3t7%2BwcPHhCJxAsXLtBoNJnRlSODgIAAHo%2BXnp6uakeGmubm5vz8/MLCwuLi4qqqqurq6srKSuQngcVioeiQSCREkvT09OC4OUSt2Gw2l8tlMpmtra3IvCI8Hm9hYWFlZWVjY0Oj0caNG%2Bfi4mJra6v0B0zfDJ1IVVVVZWdnZ2dn5%2BTkFBQUwDSP%2Bvr6NBrN3t7ewsKCSqVCTSGTyVCb5KiFzWa3tbU1NDTU1tbW1tZWVVXV1taWl5eXlpbCNLUUCsXFxWXKlClubm5TpkwxMzNT8nkOOVOnTn3vnYnD4WAYaN68ebGxsfJdW3Xm1q1bixcv1tbW9vT09Pb2dnV19fHxGWEPJAQWi5WZmZmRkZGZmZmbmwsf7SYmJs7Ozkg7Gt5KJiYm7w0F9ITD4TCZzNra2urqakT1SkpKKisrJRKJrq6us7Ozu7u7p6enl5cXlUodhFP8F4MrUq9fv6bT6cnJyQwGo6mpCY/HOzk5ubm5ffTRR2PHjh07duyQLZYrFourqqpKSkqKi4vz8vKeP3/%2B%2BvVriURiZWU1derUgIAAf39/S0vLoXFGuezevfvo0aN9z6rFYDBubm5UKjU9Pf3ly5cjQJqlaWlpmTRp0qRJk6ZNm5aRkZGRkVFXV4fH452dnb28vDw8PDw8PIZ7NL27u/vZs2f379%2Bn0%2BnFxcVisXj06NGenp6TJk1ydnZ2cXEhk8mD7UNHR0dxcXFBQUFeXl5GRkZeXp5QKLS0tJwxY0ZQUNCsWbOMjY0Ho17li1R3d/ejR49u375Np9Orq6v19PSmT5/u6%2Bs7ZcqUSZMmqc8zvL29/fnz51lZWU%2BfPk1PT%2B/q6ho7dmxAQEBISIiPj89wWSKpubk5Kirqhx9%2BeNf/kUAgaGlpfffdd2FhYR0dHbDx%2BPjx4xETsBMKhYGBgW/evMnJyUFukvr6%2BhcvXqSnp6elpb148aKrq0tfX3/KlCnDrpHFYrFu3boVHx//5MkTLpfr7Ow8e/ZsHx8fDw%2BPIVClvuFyuTk5OWlpacnJyenp6WKx2M3NLTg4%2BNNPP7WxsVFmTcpKTNXV1RUfH79ixQo9PT0MBuPu7h4REZGWliYQCJRVxeDB4/EePnz49ddfjxs3DgBAJpM///zz5ORkkUikatdk6e7uzszMjI6OXr58uZ2dHQDgXQECHA6HwWBWrlzZ1NSEHF5YWKirq7tu3bphuiaoDGKx%2BIsvvtDS0nr58uW7yggEgpycnKioqNDQUJhRC4fDOTk5hYaGnj59urCwUA0vRXd3982bNxcuXKipqUkkEoODg0%2BdOlVVVaVqv94Ji8WKi4tbv369iYkJBoPx8vI6duxYc3OzUowrQaRev34dHh5uamqKxWK9vb0jIyP//vtvxc2qivLy8qioKG9vbwwGY2FhER4ervIfR11dXWJiYnh4uLe3NxyWraen5%2B3tHR4enpiY2NTU1POhisVix44dm56e3tNaUlKShobGxo0b1fDmHBBisTgsLIxAINy6dav/R/W8mPr6%2Bv7%2B/hEREYmJiXAhHDm4detWrwngB8rbt28jIyMtLS3h3RQVFaWsW31oEAqFqampGzduJJFIRCJxyZIlGRkZCtqUX6TEYnFSUtLMmTMxGIy1tfXBgwfr6uoU9EatKC0t3blzp4mJCR6PX7hwoeLXuv90dHSkpqZGRUUtWbIEChAM5yEPf5km3qJFi5D%2BKYFAIBKJERER3d3d77KfmJiooaERGhra2dk5%2BGczKHR3d69fv55AIMTFxcltRLqRBZulcjey1qxZAwAICgqC0WU5ePXqVWhoqIaGhqmp6d69e2tra%2BWzoyZwudzTp087OzsDAHx8fO7fvy%2B3KXlESiQS3bhxY%2BLEiRgMZs6cOXfv3lXDbpGy6Orqunz5soeHBwDAz8/vzz//HIxahEJhYWFhTEzM1q1bXV1d4Xtic3PzefPmRURE0Ol0Lpfbx%2BFHjhwhEAjwqJCQkP78vh88eGBgYODh4VFfX6%2B88xgiGhsbp06dSiKR7ty5o0SzvbZY%2B9nIgh1JPB5PJBJ//PFHPp/f/3orKirWrl0Ln0Pnz58fvk%2BOXnn8%2BPG8efMAAFOnTn369KkcFgYsUk%2BePHFxccFisYsXL/7rr7/kqHKY8vjx4xkzZgAAZsyYkZ%2Bfr7jB%2Bvr6xMTEiIiIefPmGRoaAgB0dHS8vb23bt0aExNTUVHRf1OpqakAACsrqwE9r0pLSx0dHclkcnx8/IC9Vx1JSUkUCsXe3r6wsHDwahlQI6ulpUU6MojD4Wg0Wq99bRl4PN6ePXs0NDRGjx4N10wdvDNSLRkZGX5%2BfgCA4ODggcZPBiBS1dXVS5cuBQDMnTu3uLh4gE6OEFJTU6dMmYLH47du3drW1jagY/l8PvK7d3Jygj9oOzu70NDQqKio1NTUPjpofcPlciMiIng83kAPbG9vX7t2LQBgxYoV0vF19aS1tRXxVu7gkXz03ciKjY1911uLPiJKdDrd3t5eX1//2LFjA2p5DV%2BSk5MdHR11dXWPHj3a/yWC%2BitS169fNzAwsLe3v379urwejhDEYnFMTAyZTB41atS9e/f6LlxXV3f9%2BvWtW7d6e3vDsfLSYdrW1tah8blv7t69a2Fhoa%2BvHxkZqZ59ja6uriNHjhgaGpLJ5AGFyQfJGQaD8b///W/JkiVwbJ22tnavkxkJBIKent7p06dlYlsCgSA8PByDwcybN6%2B6ulpVJ6IS%2BHx%2BZGQkkUj08fHpZ6jh/SLFYrFWrFiBwWB27NjR1dWlsJMjhLa2tqVLl2Kx2PDwcOnHIIvFSk1NjYyMnDdvHpw6B2MNGzdujImJUc8X3hKJhMPhRERE6OjoWFlZ/fLLLxwOR9Ue/X%2B4XO7x48dtbGy0tLS%2B%2BeYbFoulao9kqampGT9%2B/LsGgmAwGPhKHul81NXVeXt76%2BjofMhLBObl5Y0ZM8bc3DwlJeW9hd8jUjU1NU5OTmQyWZHg/Ajm7NmzOjo6M2bMOHLkSGhoqIODA/xp2tvbL1%2B%2BPDo6OjMzU%2B5O3NBTV1e3efNmbW1tY2PjvXv3DigupnSqqqr%2B7//%2Bz8TERFNTc9OmTWrb4hCJRO/NzgzXFgwPD8/Pz7e0tHR0dBzUgNqwoL29PSQkhEAgvLdz1pdIlZaWWllZOTs7D/e3oYNKbm6uubk5kUj09fXdv3//nTt31D%2B40zfNzc0HDhwgk8kYDMbX1/fChQtDGQBqb2%2BPiYmZOXMmFos1NTXdv39/Y2PjkNUuB3l5eX0rFAAAvnhFmtUDjWZKJBI%2Bn48M8Wlubn7z5g3yFZ1OT01NHZA1NpsdHh7en9ESJ06c6LVTtnPnzry8vAFV2hOxWLxt2zY8Hn/lypU%2Bir1TpMrLy0eNGuXl5TXEEcrhyJs3b0aPHu3k5ARTyowM%2BHx%2BYmLi4sWLiUQiHo/39fU9fPhwfn7%2BYLyBEovFhYWFR44cmTFjBoFA0NDQCAkJSUhIGBaN0NOnT0uLETIWBPb1TExMXF1dly1b9uWXX%2Brr648dO5bBYMjR5RcKhWZmZr6%2Bvr6%2BvtbW1ra2tshcDrFY7O/vf/78%2Bf5b43K5BgYG/WmcUiiUXscNUCiU0tJSuF1QUPDzzz/3v3YZ/vOf/%2BBwuKSkpHcV6H3uHpvN9vb2JhAIqamp6jPbTp2pq6tzd3d3cXFJSkoaLvP%2B%2Bkl7e/ujR4%2BSkpLu37/f0tKir68PZ8B/9NFHTk5O9vb2ckwDFAgE5eXlxcXF%2Bfn5cHnk9vZ2Y2PjwMDAefPmzZ49G47JGBasXbs2NjbWwsLCzs7O1taWSqVaW1tbW1tbWVlZWFjAiyMQCGbOnNnc3JydnS13nhwbG5vKykoAwCeffDJ//vwVK1YgX9Hp9Dlz5nA4HPhyRigU9p0HSiwW29vbV1RU9L/Sbdu2paWlIf%2BX9PR0b29vuF1QUMBisR49ejRt2jT5Tm3dunUJCQk5OTlwtIcMvYvUwoULMzMzs7Ozh2liAJWQk5Pj6%2Bu7devWH374QdW%2BDAoikSg/P5/BYEBZgT0OAoFgZ2dnYWFhbm4%2BatSoUaNGkUgkAoEAsxJ2dXV1dnYKBIKOjo6mpqbm5uaGhoa6uro3b94IBAIMBmNra%2Bvp6enh4eHp6TlhwoThqO9cLve9D/Ldu3cfP348KysLGXoiB1AvBAJBUFDQ9evXdXR0oCQBALq7u3ft2hUdHQ39mTFjxqZNm9avX/8uUyKRyMHB4c2bN/2sFADA5/Nfvnw5evRo%2BDoI2V9ZWZmSkrJ69Wq5zwsA0NnZCSeiZWdn9/wN9CJS9%2B7dmzt37pMnT%2BDYRZT%2Bc/r06bCwsLy8vLFjx6ral0GHx%2BO9%2BoeGhoaGhobm5uampiYOh8Pn82FWQpg3VUNDQ0dHB0qYmZmZubm54z98CO30ioqKsWPHHj169IsvvlDEDtSF5OTk7u5uJpMZHR0NUzAzGAw3NzeZphMOh7tz5450RL%2BlpUVbWxvu4fP5VCpVOsdkSkpKZmZmeHh4z0pLSkp27dp16NAhPp/v5%2Bd37ty5yZMnIyJ18ODB27dvx8bGjh49WpGze/XqlYuLy6lTp9atWyf7nUz3j8/nOzg4LF26VO4e5oeMSCSaNGnS7NmzVe0IihqxfPlyR0dHxdOBWFtbSySSqKgombCgiYlJf8YG3bx5s6GhAW63t7cDAJCgEp/Pd3Z23rdvHxIEfPnypaWl5cyZMzU1Nb28vOzt7U%2BdOiWRSCIjI1etWoU4w2azPT09lTXc78svv7SwsOg5JllWpBISErBYbHl5uVJq/QCh0%2BkAgA92RD6KDC0tLXg8/o8//lDcFNSFU6dOycTdzc3NpT8%2BefKkV83avn07cv9XVVUZGBgcP34cfjx8%2BPC3337bR6UsFqu1tVUsFtfU1OTk5CD78/PzYfT9/v37a9asUfClSkNDAx6Pj42NldkvG127cuWKr68vnC2JIgd%2Bfn7W1tZXr1797rvvVO0LiupJSEggEAgLFixQlsHAwMA9e/ZERkYie9rb26dPnw63JRJJVlZWSEjI1atXpY9qaWnJy8uDa5cAABoaGnx9fXNzcwEA%2Bfn5r169%2Bu233/qotKmpadGiRUZGRkjAaPTo0f7%2B/tJlMBhMdXW1IunuzMzMpk%2BffvPmzU8%2B%2BeRfX0grllgs1tXVPXHihCJyiMBisXbt2rV79%2B4dO3bMmjVrx44dcHhIRkbGzp07bWxs6urqQkJCjIyMnJ2dkVw8nZ2dP/744/r16ydPnuzv719QUCCRSG7fvr1x40ZLS8u2trbVq1cbGxs7OztDRb9x4wbM4rxv3z5o4cSJE1gs9syZM31U1IdBxfnqq68mTJigFFMow53FixcHBwcrxRRsvEgkkkuXLiFNMzabLfNjW7hw4YMHD6T3dHZ2%2Bvn5/fLLL8ie2NjYbdu2rVu3rrq6%2BvPPP%2B%2Bjt4hUKpFISkpKei0jEAhOnTqllPEix48fJ5FIMk3Ff4lUQ0MDAODZs2eKV9bR0eHg4IC0IZuamhwcHOzs7JhM5oMHD2D0bufOnenp6YjKwFnjn332GdJVnjVrFplMZrPZtbW1MEZ46NChqqqqP/74AwDg7u4Oi/36668AAGRMfHV19fLly0UiUR8V9W1QQc6ePUsikd5brLu7m06nMxgMpVSKop5Mnjx5165dSjGF6AWfzx83bhzcLioqWrBggXQxT09PmQFQ8fHxs2bNkp68tXv37vPnz589e3bp0qV9z9aUFikqlerbGx4eHjgcTkYZ5ePx48ew3Se9818iBVfiVspkCLggLRKok0gkly5dAgDAfxicPoKEEuFqjsuWLcvKyurZCISjvBwdHaXbfWQymUgkwm0%2Bn29lZTV//nz4cf/%2B/UgOmXdV1LdBBXn06BEA4F2jit%2B%2BfXvu3LmQkBDY9v7111%2BVUimKemJubh4VFaUUU4hedHZ2EggEGACKjY1F%2BhAQe3v79%2BZUcHZ2bm5ubm1tXbRoUT8r5fF49vb2AoFAepz63bt3ZYopSGlpKQAgNzdXeue/YlJwkqREGUszwEWWSCQSsgcO9GIwGOCfWQLIS9OgoCAAQFlZ2fPnz52dnQsKCnoalJnAaWhoiLxAJRAI27Zt%2B/rrr8vLy6lU6qtXryZMmAC/eldFfRtUELiQmbR9iUTy8uXLpKSk27dv5%2BbmYrFYuDoeFouVvkQoIw8MRmlrnUgkkosXL5qZmSUmJo4bNw7%2BthMSEjZu3ChdTCgU9j28NiMjA1k4lkAgZGdnu7m59VH%2B%2BvXrmZmZixcvhh/9/Pzg8Ek%2Bn5%2BZmXnmzJkNGzYoeGoI8FrJ3Jv/Eim4hFZNTY3igXN4BSsrK%2BHSBgAAmAZXX1%2B/Z2G4dAeVSm1tbS0vL%2BfxeNLjO8RiMTLP4F1s2LDh22%2B/PXbsmKenJ3I1%2B6howOczEGpqavT09PT19Xk8HoPBuHPnzrVr1xobGwkEAlx%2BGS6BBwAQi8WoSI1sLCws6urqlGIKg8F4eHgsWrQIAHDjxg0AQENDw5s3b6THM8L5Ln0YEQgEu3btQsLku3btWr16dWZmpswcabFYnJGRER8fj8fjWSzWTz/9hITMhULh06dP4baNjY2CwzhlgNdKZgz5v0Rq1KhRurq6RUVFcg9vR5g2bdqTJ0/u3r2LiFRNTQ0AQOaNAAQ2bfz9/U1NTXk83o8//njgwAH4VUlJCZ1O37p1a9/V6enpbdiw4fz589XV1T0zkPWsSK5z6i8MBoNEIvn7%2Bz979gw%2B1uCieFChZIChMZQRAIfD4XK5XC63ra0NbnA4HE1NTdiFURyJREKj0dLS0pCFiDdv3vzf//5XukxtbW3fs0TCw8MXLVpEo9Hgx4kTJ/r4%2BKxbt%2B7KlSvSTQEmk7lp06aVK1cWFhbCJH%2BQnhlp3tuAGBClpaV6enoyk6Jk26LLly9vaGj4888/Fayss7PTzc0Nrm0Hl6Lcvn17Tk7O06dP8Xj82LFjS0tLX7x4MWnSJADAqlWriouLMzMzRSKRk5NTeXn5unXr/Pz8SkpKsrOz4%2BLiSCSSra0t7AxD%2B5aWlnV1dQKBAOnKVVZWjh49%2BsCBAzAcBnlXRXg8/r0G5SM9PX3mzJl9L9UpzYIFC6ytrbW0tAwMDIhEIlxTXlNTk0QiwXkPBgYGWlpampqaBgYGQ7y89QeFUCjs6Ojo7u7m8XhwuDyLxYJaw2az4SrkXC6XxWJ1dHRAPYLbcD8cHtmTiRMnFhcXNzU1Kb60PZlMlo5I/PDDD11dXcjjHJKQkJCSknL06NFeTzA8PNzKymrbtm3S%2B7u6uqZOnUqj0S5evCj94%2Bfz%2BTKZ/KhUalVVlY2NDTLDLjMzs76%2B3sjISFkNRj8/P1NTU5l2huwNuWzZspCQkIqKCgV7fFpaWhkZGQcPHly9erWLiwsOhzM2Nn7y5In0VYiPj4%2BOju7u7jY1NU1JScHj8Xg8/smTJ1u3bk1ISLh37978%2BfMvX75MIpFOnDgBx%2BAfOnQoLCzswoUL8Irs378/IiICKr2NjU1YWFivMw96VtQfg/LB4/H4fP7du3dTUlJOnDgB13aHUapeaWxsbG1t7ezsZLFYXV1dXC63o6NDKBT2WhjOL9HT08PhcCQSCY/H6%2BrqEggEHR0dDQ0NbW1tIpEIFQ3%2BhRtwbgoAAD6BMRgM7BHgcDh45xAIBNigQ0qqIXw%2Bn8vlAgCgggAAOBwObJyyWCz40hoqBZfL5fP5bDZbJBK1tbWJxWIWiyUQCDgcDpxLyOPxuru74XVub28Xi8XvkhgAABaL1dfXh88MHR0dAwMDXV1dfX19Cpa/FkkAAAl%2BSURBVIUCt%2BF%2BQ0ND6W0dHR34sbW1FUaRVq5cqcjpi8Vi5FchFov37t2Lw%2BFgM6qrq6u7u1tfX5/L5Z44ceLzzz/veXhZWdnhw4fXrl3r5eUl85Wmpub9%2B/f9/Pzc3d3Pnj07ceJEuL9nrtGuri4sFnvo0KHQ0FC45%2BrVq7DVw2KxFDk7SENDw7Nnzy5fviyzX7YlJRAIXFxcXFxcYKd3kIANHGUFFNWhIohIJJoyZQrMEQgA6Orqun79%2Bk8//VRYWIgEpGSorKy0traW2Qmf6lwuFz7P4U3V1tYG7zF4T8K/8FaE9xu8aeEtCv/CA5G7uv9AjQMAQPkDAEBNlC4D9VF6D9TQd9lEVEaanoosozjwUsjhPHQP6rKhoSFUZOgh1G54alDxDQwMcDicvr4%2B1Gso1lCYFFftlStXPn/%2BHP4G5DbC5XKpVCqTyWxoaNi7d%2B/SpUsDAwPhV83NzXfu3ImLi3v06FFISMi1a9eku2AdHR1nz57F4/GbNm3qNccxhMlkLl26FDYRoqKiei1DIpFcXV177pdIJM%2BePeNyuQpeqy%2B%2B%2BCIpKen169fIoFNIL68e7t%2B/P2fOnOTkZLi6w2AwUkXqxIkT27dvLygogOMbEF68eHH69Onff/9dKBTCN8fIV62trXD01mCD3PYikYjNZgMAYOMCAAD7OECqkQI1DkiJCNQOaYMweZb0HuSoXoFNEpmdUC%2Bk9yBqKNPuw%2BPx8CUD0txDlBSRSyRYo1ZUVlbSaLSff/558%2BbNchvh8/l0On3u3LlPnz51c3PrVQ7%2B%2BusvpB2EcOfOnWnTpvX6wkoGkUiUlpbm6%2Bv7rgKzZs2Cw2tk6OzsXLVqVWxsrCJJLEpKSj766KMzZ87AtTb%2BRa%2BjFRYtWmRmZjZ4K/fC92tDkE5vyCqSSCRZWVkwD/e7CjCZzKNHj8LJ4shDdVjkdUNRkD179ujo6MDpEyg94fF448ePnzx5cq9LyPQuUmw228XFZcKECR0dHcr1hsPhfPPNN/D%2BXLFixeCNtx6yiiA1NTUUCiUoKOi9C/WIxeI///xzyZIleDyeQCAMqlcoaoJAIPDx8XFwcFDDhSTUgdWrVxsZGb0rr8E70wdXVFSQyWQl5mEYwfz999/29vYDTR/89u3b6OjowfMKRa2or6%2BnUCheXl4jKce04ojF4p07d%2BJwOGTwek/6Wojh1atX1tbWTk5ONTU1g%2BDeCOHly5dmZmaTJ08e7usvoAw2paWlFArFzc0NXTcAIhaLw8LC8Hj81atX%2Byj2niWtamtrnZ2dR40a1YfOfcicOXNGW1vb39%2BfzWar2heUYUBZWRmVSnVwcMjPz1e1Lyqmra1t/vz5GhoacXFxfZd8/%2BKgbDZ71apVGAxm%2B/bt6rm8rUpgMpmLFy/GYrHffPON4kkXUT4c6uvrp02bpq2tfenSJVX7ojJyc3NHjx5NoVDS0tLeW7i/y6zfuHEDXWYdIhKJYmJiRo0aRSaTlZKeAuVDQyAQ7NixA4PBLFiw4EOLpXR2du7fv19DQ2P69Olv377tzyH9FSmJRFJTU/Ppp59iMJjAwMAPdv3VlJQUV1dXAoGwfft2NAKKogiPHz8eM2YMiUSKjo5%2Bb3KVkcHDhw%2BRU37ve3CEAYgUJCUlZcKECVgsduHChS9evBjo4cMXOp0Ox7kFBAQUFRWp2h2UkUBnZ%2BfevXuJRKKdnV1MTEz/79thB4PBgNkaPv7444E2HgcsUhKJRCwW37p1y9XVFYPBBAUF3blzZwRf3M7Ozj/%2B%2BMPd3R2OuFVK2lIUFGkqKyvXr18PJ96fO3duJEV%2BxWJxcnLy3LlzAQDTpk0b6HLwEHlECuHevXt%2Bfn4YDIZKpR44cGCE9a6Li4u/%2BuorY2NjAoGwaNGizMxMVXuEMpJ5/fr1qlWriESiiYnJnj17Bm%2B%2Bx9DQ0dFx8uRJmKlp2rRpikRvFRIpSFlZWXh4%2BKhRowAATk5OERERZWVliptVFW/evImKioJLSFtaWoaHh8tkjEZBGTwaGxsjIyOpVCoWi/X29o6Kihpe4%2B%2BEQiGdTg8NDYXztENDQ2VyAcuB0nKb8vn8hw8fxsXFJSYmslisKVOmzJ4929/f39PTU5HJ30MDl8t99uxZcnLy/fv3S0pKzM3NFy5cuGTJEh8fHzWcsIoy4uHz%2Bffu3bty5UpSUpJIJAoICJg7d25gYKDarjXX1tZGp9MfPHiQmJjIZDK9vb2XL1/%2BySefKGXyvNJECgFO1759%2BzadTq%2BsrNTV1fX19Z02bZq7u7urq6v6JKJkMplZWVnZ2dlPnz5lMBhwBY5Zs2aFhIR4e3uj2oSiDrDZ7Pj4%2BISEhOTkZA6HQ6PRAgMDp06d6uXlZW5urlrfOBxOVlZWeno6nU6HwRAPD4/g4OBly5b1zD6kCMoXKWnevHmTnJycnJzMYDDq6%2BtxOJyTk5Obm5uLi4uTkxONRhvsdOMIYrG4oqKipKSkpKQkLy8vOzsbphK2s7ObOnWqv7%2B/v7%2B/yv/rKCjvgs/np6WlPXjwgE6nFxQUiEQiW1tbb2/viRMnuri4jBs3jkKhDLYPbDa7qKiosLAwLy%2BPwWDk5%2BeLRCIbG5sZM2YEBgYGBATIpP1VFoMrUtLU1tZmZWVlZWXl5OQUFhY2NzcDAEgkEo1Gs7W1tbS0tLKyolKplpaWZmZmhoaG8q1QwGKxYGKwmpqa2tra6urqmpqaioqK0tJSmCnJ0tLS2dnZ7R9MTU2VfJ4oKINMR0dHVlYWg8HIyMjIzc19%2B/YtAMDIyMjJycnOzs76HywtLU1MTIyNjQeadZrNZre2ttbX11dWVlZVVVVXV1dWVpaWllZVVQEASCSSs7Ozu7u7t7e3l5fXEIjj0ImUDK2trcXFxSUlJa9evaqsrKytra2pqYEjUGEBPB5vZGQEs7LCxLhAKs8ZzDkJ/snTxmKx2traYK5YeDgOhzM3N4fCZ2NjQ6PRYNtN8VTTKChqRWtra0FBQWFhYXFxcVVVFVQW6SSoRkZGxsbGenp6yH2EpAlsa2sDAMBErzwej8lkMplMJIUsgUCgUqlQ8hwdHZ2dnceNG2djYzPEufZVJlK9wufza2trm5ub29ramEwm1B0kNTWQ0ibkcsMksPr6%2BoZSmJmZmZubK7ikAgrK8KWlpaWurq61tZXJZMK/MIk%2BvI%2BQhKtwdQ%2BY9VRbW9tICgqFQqFQ1CE4q14ihYKCgiKD6mUSBQUFpQ9QkUJBQVFrUJFCQUFRa/4fI0%2BgTM9KC3UAAAAASUVORK5CYII%3D"
     },
     "metadata": {
      "image/png": {
       "height": 89,
       "width": 396
      }
     },
     "output_type": "display_data"
    }
   ],
   "source": [
    "digraph{\n",
    "    rankdir=LR\n",
    "    openvpn\n",
    "    证书\n",
    "    防火墙\n",
    "    openvpn->证书->防火墙->openvpn\n",
    "}"
   ]
  },
  {
   "cell_type": "markdown",
   "metadata": {},
   "source": [
    "## 目录："
   ]
  },
  {
   "cell_type": "markdown",
   "metadata": {},
   "source": [
    "- [运行环境](#运行环境)\n",
    "- [安装](#安装)\n",
    "- [证书和密钥](#证书和密钥)\n",
    "- [防火墙配置](#防火墙配置)"
   ]
  },
  {
   "cell_type": "markdown",
   "metadata": {},
   "source": [
    "## 运行环境"
   ]
  },
  {
   "cell_type": "markdown",
   "metadata": {},
   "source": [
    "- 操作系统：ubuntu16.04"
   ]
  },
  {
   "cell_type": "markdown",
   "metadata": {},
   "source": [
    "## 安装"
   ]
  },
  {
   "cell_type": "markdown",
   "metadata": {},
   "source": [
    "```bash\n",
    "sudo apt-get install openvpn easy-rsa\n",
    "```"
   ]
  },
  {
   "cell_type": "markdown",
   "metadata": {},
   "source": [
    "## 证书和密钥"
   ]
  },
  {
   "cell_type": "markdown",
   "metadata": {},
   "source": [
    "1. **创建证书目录**："
   ]
  },
  {
   "cell_type": "markdown",
   "metadata": {},
   "source": [
    "```bash\n",
    "mkdir easy-rsa\n",
    "```"
   ]
  },
  {
   "cell_type": "markdown",
   "metadata": {},
   "source": [
    "2. **拷贝`easy-rsa`**："
   ]
  },
  {
   "cell_type": "markdown",
   "metadata": {},
   "source": [
    "```bash\n",
    "cp -r /usr/share/easy-rsa/* easy-rsa/\n",
    "```"
   ]
  },
  {
   "cell_type": "markdown",
   "metadata": {},
   "source": [
    "3. **进入证书目录**："
   ]
  },
  {
   "cell_type": "markdown",
   "metadata": {},
   "source": [
    "```bash\n",
    "cd easy-rsa\n",
    "```"
   ]
  },
  {
   "cell_type": "markdown",
   "metadata": {},
   "source": [
    "4. **编辑`vars`**:"
   ]
  },
  {
   "cell_type": "markdown",
   "metadata": {},
   "source": [
    "- 找到如下部分，后面的值可以任改 "
   ]
  },
  {
   "cell_type": "markdown",
   "metadata": {},
   "source": [
    "    改前：\n",
    "```bash\n",
    "        export KEY_COUNTRY=\"US\"\n",
    "        export KEY_PROVINCE=\"CA\"\n",
    "        export KEY_CITY=\"SanFrancisco\"\n",
    "        export KEY_ORG=\"Fort-Funston\"\n",
    "        export KEY_EMAIL=\"me@myhost.mydomain\"\n",
    "        export KEY_OU=\"MyOrganizationalUnit\"\n",
    "```"
   ]
  },
  {
   "cell_type": "markdown",
   "metadata": {},
   "source": [
    "    改后：\n",
    "```bash\n",
    "        export KEY_COUNTRY=\"CN\"\n",
    "        export KEY_PROVINCE=\"SC\"\n",
    "        export KEY_CITY=\"ChengDu\"\n",
    "        export KEY_ORG=\"UESTC\"\n",
    "        export KEY_EMAIL=\"zyuegege@foxmail.com\"\n",
    "        export KEY_OU=\"UNIVERSITY\"\n",
    "```"
   ]
  },
  {
   "cell_type": "markdown",
   "metadata": {},
   "source": [
    "- 找到如下`KEY_NAME`设在为你想要的名字，这里设置成`server`\n",
    "    \n",
    "    改前：\n",
    "```bash\n",
    "        # X509 Subject Field\n",
    "        export KEY_NAME=\"EasyRSA\"\n",
    "```\n",
    "    改后：\n",
    "```bash\n",
    "        # X509 Subject Field\n",
    "        export KEY_NAME=\"server\"\n",
    "```"
   ]
  },
  {
   "cell_type": "markdown",
   "metadata": {},
   "source": [
    "- 生效`vars`中的环境\n",
    "```bash\n",
    "source vars   \n",
    "```\n",
    "\n",
    "输出：\n",
    "```\n",
    "NOTE: If you run ./clean-all, I will be doing a rm -rf on /home/ubuntu/easy-rsa/keys\n",
    "```\n",
    "\n",
    "- 执行`./clean-all`\n",
    "\n",
    "```bash\n",
    "./clean-all\n",
    "```"
   ]
  },
  {
   "cell_type": "markdown",
   "metadata": {},
   "source": [
    "5. **生成证书和密钥**"
   ]
  },
  {
   "cell_type": "markdown",
   "metadata": {},
   "source": [
    "```bash\n",
    "./build-ca\n",
    "```\n",
    "\n",
    "执行完之后，证书在`keys`目录下：\n",
    "```\n",
    "keys\n",
    "├── ca.crt # CA证书\n",
    "├── ca.key # 密钥\n",
    "├── index.txt\n",
    "└── serial\n",
    "```"
   ]
  },
  {
   "cell_type": "markdown",
   "metadata": {},
   "source": [
    "6. **生成OpenVPN服务器证书和密钥**"
   ]
  },
  {
   "cell_type": "markdown",
   "metadata": {},
   "source": [
    "```bash\n",
    "./build-key-server server\n",
    "```\n",
    "\n",
    "执行完之后，证书在`keys`目录下：\n",
    "```\n",
    "keys\n",
    "├── 01.pem\n",
    "├── ca.crt # CA证书\n",
    "├── ca.key # CA私钥\n",
    "├── index.txt\n",
    "├── index.txt.attr\n",
    "├── index.txt.old\n",
    "├── serial\n",
    "├── serial.old\n",
    "├── server.crt   # OpenVPN服务器证书\n",
    "├── server.csr\n",
    "└── server.key   # OpenVPN服务器私钥\n",
    "\n",
    "```"
   ]
  },
  {
   "cell_type": "markdown",
   "metadata": {},
   "source": [
    "7. **生成Diffe-Hellman参数**"
   ]
  },
  {
   "cell_type": "markdown",
   "metadata": {},
   "source": [
    "```bash\n",
    "./build-dh\n",
    "```\n",
    "\n",
    "执行完之后，参数在`keys`目录下：\n",
    "\n",
    "```\n",
    "keys\n",
    "├── 01.pem\n",
    "├── ca.crt    # CA证书\n",
    "├── ca.key    # CA私钥\n",
    "├── dh2048.pem  # Diffe-Hellman参数\n",
    "├── index.txt\n",
    "├── index.txt.attr\n",
    "├── index.txt.old\n",
    "├── serial\n",
    "├── serial.old\n",
    "├── server.crt  # OpenVPN服务器证书\n",
    "├── server.csr\n",
    "└── server.key  # OpenVPN服务器私钥\n",
    "```\n"
   ]
  },
  {
   "cell_type": "markdown",
   "metadata": {},
   "source": [
    "8. **生成客户端证书**"
   ]
  },
  {
   "cell_type": "markdown",
   "metadata": {},
   "source": [
    "```bash\n",
    "source vars\n",
    "./build-key client\n",
    "```"
   ]
  },
  {
   "cell_type": "markdown",
   "metadata": {},
   "source": [
    "9. **证书拷贝**\n",
    "\n",
    "```bash\n",
    "# 拷贝服务器证书到/etc/openvpn\n",
    "sudo cp ca.crt ca.key server.crt server.key ta.key dh2048.pem /etc/openvpn\n",
    "\n",
    "# 拷贝客户端证书\n",
    "sudo cp ca.crt client.crt cliet.key ta.key path-to-client-config\n",
    "```"
   ]
  },
  {
   "cell_type": "markdown",
   "metadata": {},
   "source": [
    "## 防火墙配置"
   ]
  },
  {
   "cell_type": "markdown",
   "metadata": {},
   "source": [
    "1. 修改`/etc/sysctl.conf`文件中`net.ipv4.ip_forward`属性的值为`1`:\n",
    "```bash\n",
    "net.ipv4.ip_forward=1\n",
    "```\n",
    "运行如下命令生效：\n",
    "```bash\n",
    "sudo sysctl -p\n",
    "```"
   ]
  },
  {
   "cell_type": "markdown",
   "metadata": {},
   "source": [
    "2. 在`/etc/ufw/before.rules`文件中添加`nat`规则:\n",
    "\n",
    "```bash\n",
    "# START OPENVPN RULES\n",
    "# NAT table rules\n",
    "*nat\n",
    ":POSTROUTING ACCEPT [0:0]\n",
    "# Allow traffic from OpenVPN client to eth0(changeto the interface you discovered!)\n",
    "-A POSTROUTING -s 10.8.0.0/8 -o eth0 -jMASQUERADE\n",
    "COMMIT\n",
    "# END OPENVPN RULES\n",
    "```\n",
    "**注意**：要加在文件顶部，作为第一条`nat`规则。"
   ]
  },
  {
   "cell_type": "markdown",
   "metadata": {},
   "source": [
    "3. 在`/etc/default/ufw`中修改转发策略`DROP`为`ACCEPT`:\n",
    "```bash\n",
    "DEFAULT_FORWARD_POLICY=\"ACCEPT\"\n",
    "```"
   ]
  },
  {
   "cell_type": "markdown",
   "metadata": {},
   "source": [
    "4. 开启端口\n",
    "\n",
    "```bash\n",
    "# 开启端口\n",
    "sudo ufw allow 1194/udp\n",
    "sudo ufw allow OpenSSH\n",
    "\n",
    "# 生效防火墙变动\n",
    "sudo ufw disable\n",
    "sudo ufw enable\n",
    "```"
   ]
  },
  {
   "cell_type": "markdown",
   "metadata": {},
   "source": [
    "## OpenVPN配置"
   ]
  },
  {
   "cell_type": "markdown",
   "metadata": {},
   "source": [
    "拷贝"
   ]
  }
 ],
 "metadata": {
  "kernelspec": {
   "display_name": "dot",
   "language": "",
   "name": "dot_kernel_spec"
  },
  "language_info": {
   "file_extension": ".gv",
   "mimetype": "text/plain",
   "name": "dot"
  },
  "toc": {
   "base_numbering": 1,
   "nav_menu": {},
   "number_sections": true,
   "sideBar": true,
   "skip_h1_title": false,
   "title_cell": "Table of Contents",
   "title_sidebar": "Contents",
   "toc_cell": false,
   "toc_position": {},
   "toc_section_display": true,
   "toc_window_display": false
  }
 },
 "nbformat": 4,
 "nbformat_minor": 2
}
