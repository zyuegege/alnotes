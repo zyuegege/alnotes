{
 "cells": [
  {
   "cell_type": "markdown",
   "metadata": {
    "slideshow": {
     "slide_type": "slide"
    }
   },
   "source": [
    "<h1 style=\"text-align:center\">机器学习作业</h1>"
   ]
  },
  {
   "cell_type": "markdown",
   "metadata": {
    "slideshow": {
     "slide_type": "slide"
    }
   },
   "source": [
    "1. （10分） 已知$A$类训练样本为$\\{(1, 2), (3, 4)\\}$，$B$类训练样本为$\\{(1, 3), (4, 5)\\}$，采用欧式距离对测试样本$(1，1)$，进行$1NN$和$3NN$分类，阐述$KNN$分类的性能。"
   ]
  },
  {
   "cell_type": "markdown",
   "metadata": {
    "slideshow": {
     "slide_type": "subslide"
    }
   },
   "source": [
    "**解：**"
   ]
  },
  {
   "cell_type": "markdown",
   "metadata": {
    "slideshow": {
     "slide_type": "fragment"
    }
   },
   "source": [
    "欧式距离：$$d(a,b)=\\sqrt{\\sum_{i=1}^{m}(a_i-b_i)^2}$$测试样本$a=(1,1)$分别到$A, B$两类中所有样本的欧式距离为\n",
    "\n",
    "\\begin{align}\n",
    "d(a, A_1) &= \\sqrt{(1-1)^2 + (1-2)^2}=\\sqrt{1} = 1; \\\\\n",
    "d(a, A_2) &= \\sqrt{(1-3)^2 + (1-4)^2}=\\sqrt{12} = 3.46; \\\\\n",
    "d(a, B_1) &= \\sqrt{(1-1)^2 + (1-3)^2}=\\sqrt{4} = 2; \\\\\n",
    "d(a, B_2) &= \\sqrt{(1-4)^2 + (1-5)^2}=\\sqrt{25} = 4;\n",
    "\\end{align}\n",
    "\n",
    "由$kNN$分类原理，  \n",
    "当$k=1$时，$1NN$只考虑与$a$距离最近的样本，知为$A_1$是最近的样本，故测试样本$a=(1,1)$属于$A$类；  \n",
    "当$k=3$时，$3NN$要考虑与$a$距离最近的3个样本，知$A_1，B_1, A_2$是三个最近的样本，故可以推出测试样本在$k=3$的情况下是属于$A$类。"
   ]
  },
  {
   "cell_type": "markdown",
   "metadata": {},
   "source": [
    "**分析：**\n",
    "- $kNN$算法在学习阶段，只是将所有的样本保存起来，训练的时间开销为零，但是在测试的时候，在对每一个样本与测试样本进行比较计算，所以测试的时间开销是随着训练集的大小而成线性递增的。\n",
    "- 对于$kNN$算法而言，$k$是一个非常重要的参数，当$k$取不同的值的时，分类的结果由明显的不同。\n",
    "- 若采用不同的距离计算公式，分类的结果也将由显著的差别。\n",
    "- $kNN$算法的泛化错误率不超过贝叶斯最优分类器错误率的两倍。"
   ]
  },
  {
   "cell_type": "markdown",
   "metadata": {
    "slideshow": {
     "slide_type": "slide"
    }
   },
   "source": [
    "2. （10分） 给定单词“merov”和“markov”，画出编辑距离的栅格图，计算两者之间的编辑距离和海明距离（Hamming），并阐述两者之间的关系。"
   ]
  },
  {
   "attachments": {
    "image.png": {
     "image/png": "[encoded data removed]"
    }
   },
   "cell_type": "markdown",
   "metadata": {
    "slideshow": {
     "slide_type": "slide"
    }
   },
   "source": [
    "**解：**\n",
    "![image.png](attachment:image.png)"
   ]
  },
  {
   "cell_type": "code",
   "execution_count": 5,
   "metadata": {
    "hideCode": false,
    "hideOutput": false,
    "hidePrompt": false
   },
   "outputs": [
    {
     "data": {
      "image/png": "iVBORw0KGgoAAAANSUhEUgAAAO8AAAEBCAYAAACQSfL/AAAABmJLR0QA/wD/AP%2BgvaeTAAAeFUlEQVR4nO3da1BU5xkH8D8qVryxgHhLRTQ2ro22YCdWilWaGEmx8dKipASV4NJkoyJeAgFEDF4qtYiExcQbqSghgB1p1DitSpKmuBhN1ElGs2sGURhstYAiIALy9gPZLQuLYeGc856z%2B/xm%2BOBJOM%2BzL/uwF949fyfGGAMhRGkK%2BvDugBDSMzS8hCgUDS8hCkXDS4hC9et4QK/XY%2BfOnTx6IYR0oaCgoNOxTo%2B85eXlOHLkiCQN2eLIkSOoqKiQvG5FRQWtRzs816OkpAQlJSVcastyvVkHeXl5zMph7gCwvLw8yevSeljiuR7BwcEsODiYS20Zrnc%2BveYlRKFoeAlRKBpeQhSKhpcQhaLhJUShaHgJUSgaXkIUioaXEIWi4SVEoWh4CVEoGl6BNTQ0ICcnB6GhofD390dJSQmmTp0Kb29vFBcXw2g0YuHChfD09MSkSZPwxRdfSNJXY2Mj/vSnP0Gj0eCZZ57B888/j6%2B//lr0uq2trfj000%2BxZs0ajBs3DpWVlQgICMDYsWNx9%2B5d0evX1tYiNjYWcXFxWLduHQIDA7Fu3TpRax85cgQeHh5wcnJCYmKi%2Bfg777yDvn37Yt%2B%2BfcIUsmEvJVeQ395Sq1pbW9m3337LADBXV1d24sQJduXKFQaAeXt7sx07drB79%2B6xixcvMgAsICCgR33Zuh6RkZHsm2%2B%2BMf97zpw5bMSIEay2ttamuraux8OHD9nZs2fZwIEDGQD2xz/%2BkZ0%2BfZppNBpWV1dnU21b9zbfv3%2BfPfXUU2zTpk3mY7dv32ZPPfUUGz9%2BPLt79263z2XremdkZDAA7OTJk%2BZjN2/eZKGhod0%2BB2OP39tMw/s9eroeAJharTb/%2B4knnuh0nuHDhzOVStWjvmxZj3PnzjEAVr%2BOHz9uU92ersfEiRMZAFZdXW3z95rYOrwJCQkMALt165bF8ezsbAaAxcTEdPtctt7/mpqamJeXF5s3b575WGJiIrt48WK3z8EYfTBBFoYMGdLpmLu7uyRPHc%2BfP4/JkyeDMdbpa%2B7cuaLXBwAnJycAgJubmyT1AKC4uBhA57WfOXMmAODs2bOi1XZ2dsbq1atx/PhxlJaWorm5GQaDAT4%2BPoLVoOF1AFVVVSgtLUVDQ0On/9ba2sqhI2n06dN29y4rK7M4PmLECACAq6urqPU1Gg0GDRoEnU6HwsJCBAcHC3p%2BGl4HoFar0dDQgJSUFIvjV69ehU6n49SV%2BEyPsCdOnLA4Xl5eDgCYPXu2qPWHDh0KjUaDrKws5OXlYeHChYKen4ZXBI2NjQAA1u6S2M3NzQCAurq6Tv%2Bf2I9%2B8%2BfPx/jx45GcnIzly5fj/fffR2JiIqKjo/HKK6%2BIWtvEdFvr6%2BslqQcAMTExmDx5MjIyMvDvf//bfDwzMxP%2B/v5YuXKl6D1ERUWhrq4Ovr6%2B6Nev01WneoWGV2C3b99GQkICgLana2fOnME//vEP3LhxAwCQkJCA6upq6HQ687HU1FRUVVWJ1tMPfvADFBUVYd68eSgsLMS6detw%2B/Zt5OTkWH0tLqSGhgZs3rzZ/NR17dq1uHTpkqg1TVxcXKDX6xEaGoply5Zh/fr1iI2NhYeHB4qKigQfJmu8vb2xatUqaLVawc8tfvcOZvjw4UhNTUVqaqrFcdMjr8nKlSsl%2Bc1vMnbsWPztb3%2BTrJ7JwIEDkZiYaPH3TikNHjy408sFqaWlpYlyXnrkJUShaHgJUSgaXkIUioaXEIWi4SVEoWh4CVEoGl5CFIqGlxCFouElRKGcWPsNuADy8/MREhLCqx9CiBUdxhQACrrcHpmXlyduNzYKCQlBdHQ0/Pz8JK2r1%2Buxa9cuWo/v8FwP0zbDNWvWSF6b93pbZcMn97mCwq6kITZHXA%2BK%2BLRAV9IgRKloeAlRKBpeQhSKhpcQhaLhJUShaHgJkdC3334r2LnsenizsrKwePFibNiwAZGRkcjNzeXSR2VlJd577z2EhITgF7/4BZceAODAgQPw9fXFkCFD4OPjg/fee0%2By2leuXMGCBQswbNgweHp64ve//z1u3bolWX2TjIwM8zWkxabT6eDk5GTxlZ6eLtj57fYaVps3b0ZWVhYuXrwIlUqFu3fvwtfXF3fu3EFUVJSkvYwePRqzZ89GREQE1Gq1pLVN4uLiUFFRgcjISBiNRuzduxcRERGor68X/VpaV69exYYNGxAeHo5NmzZh586dOHToEO7cuYPTp0%2BLWru9Cxcu4M0335SkVktLC3Jzc7F9%2B3bzsX79%2BmHp0qWC1bDL4S0vL8fmzZuRnJwMlUoFAFCpVIiMjERcXBxefvlleHh4SNrTmDFjJK3XXkVFBcrLy3H48GHzsaCgIAQGBiI9PV304T116hRycnLg4uICoO0Z0bFjx3Du3DlR67Z39%2B5dFBYWYsyYMTAYDKLXy83NRVhYmChXjTSxy6fNhw8fRnNzM5577jmL488%2B%2BywaGhpw4MABTp3xcePGjU5Xs5wzZw48PT1x%2B/Zt0etHRUWZB9ekpaUFy5cvF722yZYtWxATEyPJU2bGGFJSUhAbG4s5c%2BYgKSmpU2qDEOxyeP/1r38BAH74wx9aHDc9%2Bl2%2BfFnynnjy9/c3R3y019TUhF/%2B8peS97Nx40bs2rWr6z27AsvIyMDixYsxdOhQSerV1tYiMDAQ06dPh16vR3JyMtRqNTZv3ixoHbt82lxZWQmgc6iVu7s7AOD69euS9yQ3Z8%2BeRVNTk%2BB3qMcpLCxEWloa/vnPf2LcuHEAIPqjb0lJCVpaWjBt2jRR67Tn6upqfqZTW1sLnU6HpKQkbNy4EaNHjxbsNtvlI6/pN2zHp0imfzc1NUnek5w8evQI8fHxyMrKgq%2Bvr2R1AwIC8O6770Kn0%2BE///kPNBoNDh48KFq96upq7Nu3D9HR0aLV%2BD5Dhw5FfHw8MjMzAQC7d%2B8W7Nx2Obymd3Q7xmfW1NQAaHv315G99dZbeO655/DSSy9JWlelUmHSpElYsWIF9uzZAwDIzs4WrZ5Wq0VYWBiMRiMMBgMMBgMePnwIADAYDCgtLRWtdkcajQYuLi4wGo2CndMunzY//fTTANqePrd/rWf6u%2BKMGTO49CUHx48fx6BBgxAbG8u1j/nz5wMA%2BvfvL1qNDz/8EPn5%2BVb/m1qtxoQJE3Dt2jXR6rfXp08fuLu7w9PTU7hzCnYmGVmyZAlUKhU%2B/vhji%2BNFRUXo378/QkNDOXXG16lTp1BRUdFpcPV6veS9mH6RBgUFiVbjwYMHncLETc/KGGOSDS7Q9kBSWVmJRYsWCXZOu3zkdXNzQ1xcHN5991384Q9/wODBg3H//n3s3bsXGzZs6PQutBQePHgAoO31Jg9nzpzB9u3b8dvf/tb8%2BosxhtLSUgwaNEjUK0SkpaXB1dUVv/vd7%2BDq6oqHDx8iNjYWISEhkoatSSU5ORlVVVXQarVQq9VobGyEVqvFggULBN0kYpfDC7Rlsw4bNgyvv/46vLy8YDQa8cYbbyAyMlLyXj755BPz1syysjLs2LEDc%2BbMwU9/%2BlNJ6uv1esybNw8NDQ0oKiqy%2BG9OTk6C7re1pra2Frt378b69evx0ksvoX///li5cmWnv8PbCy8vLxw9ehQHDhzA/PnzMWDAAGg0Grz44ouC1rHb4QWAiIgIRERE8G4DAQEBCAgIML9JIzU/Pz9JQ607SkpKQlJSErf67V29elX0GuHh4QgPDxe9jl2%2B5iXEEdDwEqJQNLyEKBQNLyEKRcNLiELR8BKiUDS8hCgUDS8hCtXlJo2uNnTzxGMPrqkmrYdlTR7rUVFRwa02wHe9raGIT0IUgFmJ%2BOzyaXPHT2Pw/gLaYkelrmuKsuR9%2B2k9GIKDgxEcHOyQ620NveYlRKFoeAlRKBpeQhSKhpcQhaLhJUShaHgJUSgaXkIUyq6HVy7RmhQ1SvGiYkSL2vU1rOQQrUlRoxQvKla0qF0/8gJ8ozVNUaOvvvqq1ajRqqoqyXuSej1M8aKHDh3C66%2B/jl27dqGwsBAABA2a7oopXnTBggXw8fFBVlYWVCqVZPGi7aNFhWb3w8sTRY1SvKiY0aK9Ht6Ghgbk5OQgNDQU/v7%2BKCkpwdSpU%2BHt7Y3i4mIYjUYsXLgQnp6emDRpEr744gsh%2BlYEihp17HhRsaNFe/2a18XFBdOnT0dYWBhcXV1RXV2NnJwc/PjHP0ZYWBhWrFiBgwcPorS0FL6%2Bvli/fn2nGBJ7RVGj1jlCvKgU0aK9Hl4nJyc8%2BeSTAIBRo0aZs2eeeOIJlJWVYf369QAAHx8fDB8%2BHJcuXeptScWgqNHOeMaLTpw4EUVFRYiJiYFGo0G/fv2wbNkywWuZokX3798v%2BLnbE%2B0175AhQzodc3d37xS7ac8oarQzR4gXlSpa1K7/VMQbRY1acpR4UamiRendZhFR1Oj/OVK8qFTRooI88jY2NgKwvFRHc3MzAKCurg6DBw%2B2%2BP9aW1vRp480vzd4RmtS1GgbihcVR6%2BH9/bt20hJSQHQFl955swZPHr0CDdu3AAAJCQkICkpCe%2B//775WGpqKiIiIuDh4dHb8o/FO1oToKhRihcVEesgLy%2BPWTnMHQCWl5cneV1aD0s81yM4OJgFBwdzqS3D9c6n17yEKBQNLyEKRcNLiELR8BKiUDS8hCgUDS8hCkXDS4hC0fASolBd7rBatGiRlH10S1paGgoKCiStaYqVpPVow3M9SkpKuNUG%2BK63NfTIS4hS2bAdiyvIb3saV464HrQ90gJtjyREqWh4CVEoGl5CFIqGlxCFouElRKFoeAlRKLseXp7JdO3JJa2QUgLtKyXQboc3Li4On3zyCSIjI7F8%2BXIYjUZERERAp9NJ3ospnS8/P998zWYeePXB82fRPiXw9OnT%2BPWvf40PPvgAS5YsEb22iVgpgXZ53WZTMt3hw4fNx4KCghAYGIj09HQuVw3kmVbYHq%2BUQF4/C1NKoClsLCsrC8eOHeOSEmgwGAQ9t10%2B8vJOpiP/x/tnYc8pgYI/8l67dg3x8fF48sknUVlZibKyMmRmZmLKlClCl%2BqSv7%2B/1eO8kukcmdx%2BFqaUQCmGV/YpgR3NnTsXra2tKCgoQEtLCzw9PREaGoqvvvpK6FI24ZFMR6yjlEBhCD68Wq0Wo0aNAgD07dsXHh4egj/XtxWvZDrSGaUECkfw4V2zZg3q6%2Buxe/duVFdX4%2BHDh%2BboE154JdORznimBJqSAl1dXbFkyRJkZ2eLMrxarRavvfYajEaj%2BVj7lEBnZ2eMHz%2B%2B13UEf8Pq/PnzmDJlCsaPH48NGzaYc4p4MSXTJSYmcu2DyOdnIUVK4LPPPgu1Wm3%2BMgWpq9VqBAYGClJH8OFdunQpmpub8cILLwBoCxXjRU7JdI5OTj8LSgnswq1bt1BbW4tTp07hzp075mDpzz//HKNHj5YsGY9nMp01PNMKefdBKYHiEHx4t23bhvj4eGzYsAFvv/02EhISsGnTJmzbtg1ZWVlCl7OKdzJdR3JIK%2BTVB%2B%2BfBaUEygDkdxkSrhxxPegyOBboMjiEKBUNLyEKRcNLiELR8BKiUDS8hCgUDS8hCkXDS4hC0fASolA0vIQolBNjjLU/kJ%2Bfj5CQEF79EEKs6DCmAFDQ5d7mvLw8cbuxUUhICKKjoyX/QIFer8euXbtoPb7Dcz3S0tIAtH1mXGq819sqG/ZScgX57S3lyhHXg/Y2W6C9zYQoFQ0vIQpFw0uIQtHwEqJQNLyEKBQNLyEKZdfDK4doR0A%2BUaM8%2B3DEeFGx7392O7xyiHYE5BM1yrsPR4sXleT%2BZ8MfhbmCjX8kT09PZw0NDeZ/Nzc3M5VKxQYPHmxT3d6sR3l5OXv55Zctjv39739nANiECRN6dE4TW9ZDyD56e/8AwNRqdY%2B%2B19ZNGkLebhne//LtMp8XaIt27EjKaEeAf7yl3PqQGs/bLcX9T/Cnza2trfj000%2BxZs0ajBs3DpWVlQgICMDYsWPNF2DnwRTt2OU%2BURH4%2B/tjxIgRnY5LHW8plz6kJqfbLcb9T/BH3paWFvTv3x979%2B5FQ0MDsrOzkZiYiA8%2B%2BADOzs5Cl/teUkc7fh%2B5RI3KpQ%2BpSX27xbz/CT68/fv3h5%2BfH8aMGQODwYBXX30Vbm5u3K5QL2W04/eRS9SoXPqQGo/bLeb9T7R3m52cnAAAbm5uYpXoFlOs44oVK7Bnzx4AQHZ2Npde5BI1Kpc%2BpMbjdot5/7PbN6ysETva8XFM8ZYdU/IctQ%2BpyeF2C33/s9u/81ojdrRjV%2BQSbymXPqQml9st9P1PtEfexsZGAEB9fT0GDRokVpkuySXaUS5Ro3Low5HiRaW4/wk%2BvA0NDUhNTUVZWRkAYO3atdBqtfDx8RG61GPJIdqRd7ylnPpwtHhRSe5/Nuzo4AryuwwJV464HnQZHAt0GRxClIqGlxCFouElRKFoeAlRKBpeQhSKhpcQhaLhJUShaHgJUagud1jl5%2BdL2Ue38NiDa6pJ62FZk8d6VFRUcKsN8F1vayjikxAFYFYiPrt82swYk9UX0BY7KnVdU5Ql79tP68EQHByM4OBgh1xva%2Bg1LyEKRcNLiELR8BKiUDS8hCgUDS8hCkXDS4hCCT68zc3NKC4uFvq0hJAOBBvempoaxMfHw83NDTNmzBDqtILJyMgwX0taanKJGuXZB894UYr4/B5ubm7Ytm0blytFfp8LFy7gzTff5FJbLlGjPPvgGS9KEZ82UKvVolygDD28AFhNTQ1LSEhgEydO7FFfvV0PoaIeO7J1PXhFngoZs0kRnxbs/wJ0W7ZsQUxMDLenzFFRUXBxcbE4JnXUKM8%2BeMZs8o74FHu9RR/e1NRUDBgwAOvXr5f8jayMjAwsXrwYQ4cOlbTu4/CIGuXZB8%2BYTYr47IWamhpcvnwZ58%2Bfx5QpU8Qs1UlJSQlaWlowbdo0Set2RS5Ro3Log2e8KEV8dsP169exdetW7Ny5E8OGDROrjFXV1dXYt28f9u/fL2ndx5FL1CjvPnjGi1LEZzfNnTsX9fX1kg8uAGi1WoSFhcFoNMJgMMBgMODhw4cAAIPBgNLSUsl7kkvUKO8%2BeMaLUsRnN/35z3/Gb37zG/j4%2BEgeq/jhhx92ebUFtVqNCRMm4Nq1a5L21B7PqFGeffCM2aSITxsEBQUhPj4e8fHxOHnypFhlrHrw4EGnDzWr1WoAbR8i5zm4AL%2BoUZ598IzZpIjPbjI9PWWM4a233oJer0doaCg%2B/vhjyZMC5UAuUaM8%2B%2BAZL0oRn91QU1ODzMxMc7Tn9u3bsWzZMoSHh6OoqAizZs1CXFwctFotXF1dhSore3KIGuXZB8%2BYTYr4lAnIL2KRK0dcD4r4tGD/O6wIsVc0vIQoFA0vIQpFw0uIQtHwEqJQNLyEKBQNLyEKRcNLiEJ1ucNq0aJFUvbRLWlpaSgoKJC0pilWktajDc/1KCkp4VYb4Lve1tAjLyFKZcN2LK4gv%2B1pXDnietD2SAu0PZIQpaLhJUShaHgJUSgaXkIUioaXEIVyuOEV8%2BoJhEjJrodXp9PBycnJ4is9PZ1rTzzTCnn24YgJhWLfZlETE3hqaWlBbm4utm/fbj7Wr18/LF26lFtPPNMKefbRPjFv06ZN2LlzJw4dOoQ7d%2B7g9OnTotaOi4tDRUUFIiMjYTQasXfvXkRERKC%2Bvl7UC%2B9JcZvtdnhzc3MRFhYGrVbLuxUAwN27d1FYWIgxY8bAYDA4VB%2BnTp1CTk6OOXgrKysLx44dw7lz50StW1FRgfLychw%2BfNh8LCgoCIGBgUhPTxd1eKW4zXb5tJkxhpSUFMTGxmLOnDlISkoyX9WSF95phTz7cMSEQilus%2BCPvLW1tdi6dSv69OmDpqYmfP3115g8eTISExOhUqmELtdlD4GBgfjqq6%2Bg1%2Btx6tQppKSkICEhAYmJiZL00J5c0grl0ocpMU/s4fX397d6nGdKoGyHt66uDs888wxCQ0ORlJQEALhz5w5mzJiBwsJCfPnll5Jcs9nV1dX8G7e2thY6nQ5JSUnYuHEjRo8eLWkqnlzSCuXQhyMmFIp6m23YCP29EhISGAB269Yti%2BPZ2dkMAIuJienReRnr/cbwPXv2MABs6tSpNn1fb9ajqqqKRUREsNbWVvMxtVotyMZ%2BW9ZDyD56sx41NTXsypUrTKfTsYEDBzIA7C9/%2BUu3v7%2B3H0xoaWlhs2bNYrm5uTZ/b0/vf729zY/7YIKgj7ym8OwhQ4ZYHJ85cyaAtt96vGg0GkRHR8NoNEpWU6vV4rXXXrOo2T6t0NnZGePHj3eYPlQqlTk1z9XVFUuWLEF2drZk8aK8UgLFus2CDm%2BfPm3vf5WVleHpp582Hzelk/OMOenTpw/c3d3h6ekpWU25pBXKpY/2HCmh0ETWKYGmR9gTJ05YHC8vLwcAzJ49W8hyNqmsrERlZaWkV2GQS1qhXPpoz1ESCtuTdUpgTEwMjhw5goyMDCxduhQjR44EAGRmZsLf31%2ByVLzk5GRUVVVBq9VCrVajsbERWq0WCxYskMUmCUfjiAmFikoJBAAXFxfo9Xps3rwZy5Ytw5QpU9C3b194eHigqKgI/fpJsyfEy8sLR48exYEDBzB//nwMGDAAGo0GL774oiT1iSVHTCiU4jYLPk2DBw9GSkqK0Ke1SXh4OMLDw7n20JWrV6/ybgGAtH0kJSWZ/3QoJT8/P9TX10teF5DmNtvlDitCHAENLyEKRcNLiELR8BKiUDS8hCgUDS8hCkXDS4hC0fASolA0vIQolNN3n1U0y8/PR0hICK9%2BCCFWdBhTACjocntkXl6euN3YKCQkBNHR0aJtJO%2BKXq/Hrl27aD2%2Bw3M90tLSAABr1qyRvDbv9bbKhk/ucwX5RSxy5YjrQRGfFijikxClouElRKFoeAlRKBpeQhSKhpcQhXKY4b1%2B/Trefvtt7NixQxYxn3LoAZBPH8R2dj%2B89%2B/fx6pVq/D888/jJz/5Cd544w1MmDBB0h7kEjUqlz4cJV5U7GhRu00JBNqiVl544QXU1dWhpKQEw4YNk7wHuUSNyqUPR4kXlSJa1K6HNzw8HJcvX0ZxcTGXwQXkEzUqhz4cJV5UqmhRux3e48eP46OPPkJQUBB%2B/vOfc%2BmBfRc1evPmTRw9ehR%2Bfn545ZVX4O3t7ZB9bNmyBRs3bsRf//pXyWpGRUV1OiZ2vKhU0aKCvuY9cuQIPDw84OTkZBGl%2Bc4776Bv377Yt2%2BfkOUe6%2BDBgwDaruE8a9YsDBkyBD/72c86pTmIyRQ1On36dOj1eiQnJ0OtVkuWUCenPuQWL9rlfmEB%2BPv7myN%2B2hM8WtSGvZTdkpGRwQCwkydPmo/dvHmThYaG9vicjNm%2Bt9Tb25sBYKmpqezWrVuspKSEjRkzhjk5ObHPP/%2B82%2BcRai/vvXv32NatW1m/fv0YALZ///5enc/W9RCqj56sh16vZzt37jT/u6cJhb3Z23z06FE2c%2BZMBoCNGzfO5tvd0/U2KS4uZi4uLuzLL7%2B06fset7dZ8OFtampiXl5ebN68eeZjiYmJ7OLFiz0%2BJ2O2L96AAQPYqFGjLI4dPnyYAWBhYWHdPo/QG/F7GjXaUW/vTFJFngoZL9qb4e1t1GZv1rs30aKSfjDB2dkZq1evxvHjx1FaWorm5mYYDAb4%2BPgIXeqxRo4cCWdnZ4tjv/rVrwBAsjdLrNFoNHBxcZE0apRnH1qtFmFhYTAajTAYDDAYDBbxoqWlpaLWNzHFbK5YsQJ79uwBAGRnZ0tSW6xoUVHesNJoNNi0aRN0Oh38/PwQHBwsRpnH%2BtGPfoTPPvvM4pjpHWd3d3fJ%2BzHhETXKsw9HjxcVM1pUlE0aQ4cOhUajQVZWFvLy8rBw4UIxyjxWaGgoGhsbcenSJfOx//73vwCAadOmSd6PCY%2BoUZ59OHK8qNjRoqLtsIqKikJdXR18fX0lSwdsb8mSJZg8eTJ27NhhPnb06FGMHDkSa9eulaSH5ORkrF69Gt988w0AcIsalUsfPKSlpSErKwv37t0DAMniRU3Roo8ePUJmZiYyMzOh0%2Bmwdu1afPTRR4LUEG2qvL29sWrVKm6bAvr27YvPPvsM69atw7Jly%2BDl5YWysjJcuHABKpVKkh7kEjUqlz544BEvKlW0qKgPiaZrDvGiUqlw4MABbvXlEjUqlz5M7D1eVKpoUbv/YAIh9oqGlxCFouElRKFoeAlRKBpeQhSKhpcQhaLhJUShaHgJUaguN2l0tZmcJ6H2hPakJq2HZU0e61FRUcGtNsB3va2hiE9CFIBZifjsNLyEEEUooNe8hCgUDS8hCkXDS4hC0fASolD/AwhL1b/DgwKXAAAAAElFTkSuQmCC"
     },
     "metadata": {
      "image/png": {
       "height": 257,
       "width": 239
      }
     },
     "output_type": "display_data"
    }
   ],
   "source": [
    "digraph {\n",
    "    struct [shape=record, label=\"\n",
    "            { | |m|a|r|k|o|v} |\n",
    "            { |0|1|2|3|4|5|6} |\n",
    "            {m|1|0|1|2|3|4|5} |\n",
    "            {e|2|1|1|2|3|4|5} |\n",
    "            {r|3|2|2|1|2|3|4} |\n",
    "            {o|4|3|3|2|2|2|3} |\n",
    "            {v|5|4|4|3|3|3|2}\n",
    "            \"]\n",
    "}"
   ]
  },
  {
   "cell_type": "markdown",
   "metadata": {
    "slideshow": {
     "slide_type": "slide"
    }
   },
   "source": [
    "3. （15分）已知$A$类样本为：$a_1=[1,0]; a_2=[2,2];a_3=[3,2]$ ，$B$类样本为：$b_1=[1,3];b_2=[3,4];b_3=[5,1]$，计算最小二乘分类面的方程（取值为-1和+1），并阐述最小二乘分类与支持向量机分类的异同。"
   ]
  },
  {
   "cell_type": "markdown",
   "metadata": {
    "slideshow": {
     "slide_type": "subslide"
    }
   },
   "source": [
    "**解：**"
   ]
  },
  {
   "cell_type": "markdown",
   "metadata": {},
   "source": [
    "**最小二乘法：**  "
   ]
  },
  {
   "cell_type": "markdown",
   "metadata": {
    "slideshow": {
     "slide_type": "slide"
    }
   },
   "source": [
    "\n",
    "4. （15分）在目标识别中，有$\\omega_1$和$\\omega_2$两种目标类型，它们的先验概率分别为$0.8$和$0.2$，在一次试验中，获得样本$x$的概率分别为$p(x|\\omega_1)=0.2, p(x|\\omega_2)=0.4$。试计算概率$p(\\omega_1|x)$和$p(\\omega_2|x)$；阐述最大后验概率分类的特点，并对该样本进行分类。\n",
    "\n"
   ]
  },
  {
   "cell_type": "markdown",
   "metadata": {
    "slideshow": {
     "slide_type": "subslide"
    }
   },
   "source": [
    "**解：**\n"
   ]
  },
  {
   "cell_type": "markdown",
   "metadata": {},
   "source": [
    "> 先验概率：$p(\\omega_1)=0.8, p(\\omega_2)=0.2$;  \n",
    "在样本$x$的条件下的条件概率：$p(x|\\omega_1)=0.2, p(x|\\omega_2)=0.4$;  "
   ]
  },
  {
   "cell_type": "markdown",
   "metadata": {},
   "source": [
    "\n",
    "$$\n",
    "p(x) = p(x|\\omega_1)p(\\omega_1) + p(x|\\omega_2)p(\\omega_2)=0.2\\times 0.8 + 0.4 \\times 0.2 = 0.24\\\\\n",
    "p(\\omega_1|x) = \\frac{p(x|\\omega_1)p(\\omega_1)}{p(x)}=\\frac{0.2\\times 0.8}{0.24} = \\frac{2}{3} = 0.6667 \\\\\n",
    "p(\\omega_2|x) = \\frac{p(x|\\omega_2)p(\\omega_2)}{p(x)}=\\frac{0.4\\times 0.2}{0.24} = \\frac{1}{3} = 0.3333\n",
    "$$\n",
    "\n",
    "> $\\because p(\\omega_2|x) < p(\\omega_1|x), \\therefore \\text{ 该样本 } x \\text{属于}\\omega_1$类。"
   ]
  },
  {
   "cell_type": "markdown",
   "metadata": {},
   "source": [
    "**优点：**\n",
    "- 接受大数据量训练和查询时所具备的的高速度；\n",
    "- 当训练量逐渐递增时则更加如此--在不借助任何旧有训练数据的前提下，每一组新的训练数据都有可能会引起概率值变化；\n",
    "- 对分类器实际学习状况的解释还是相对简单的；\n",
    "\n",
    "**缺点：**\n",
    "- 它无法处理基于特征组合所产生的变化结果"
   ]
  },
  {
   "cell_type": "markdown",
   "metadata": {
    "slideshow": {
     "slide_type": "slide"
    }
   },
   "source": [
    "\n",
    "5. （15分）阐述标准前馈神经网络分类器的结构和分类能力，并通过**矩阵方式**，推导反向传播算法。\n"
   ]
  },
  {
   "cell_type": "markdown",
   "metadata": {
    "slideshow": {
     "slide_type": "subslide"
    }
   },
   "source": [
    "\n",
    "**解：**\n"
   ]
  },
  {
   "cell_type": "markdown",
   "metadata": {},
   "source": [
    "单层前馈神经网络是最简单的一种人工神经网络，其只包含一个输出层，输出层上节点的值（输出值）通过输入值乘以权重值直接得到。取出其中一个元进行讨论，其输入到输出的变换关系为\n",
    "\\begin{align}\n",
    "s_j &= \\sum_{i=1}^{n}w_{ji}x_i - \\theta_j  \\\\\n",
    "y_j &= f(s_j) = \\left\\{\n",
    "\\begin{array}{}\n",
    "1 , s_j \\geq 0 \\\\\n",
    "0 , s_j < 0\n",
    "\\end{array} \\right.\n",
    "\\end{align}\n",
    "\n",
    "上式中，$x=[x_1, x_2, \\cdots, x_n]^\\top$是输入特征向量，$w_{ji}$是$x_i$到$y_i$的连接权，输出量$y_j(j=1,2,\\cdots,m)$是按照不同特征的分类结果。"
   ]
  },
  {
   "cell_type": "markdown",
   "metadata": {
    "slideshow": {
     "slide_type": "slide"
    }
   },
   "source": [
    "6. （15分）已知马尔可夫过程  \n",
    "$p(0|1)=0.3; p(a|1)=0.4, p(1|0)=0.2; p(a|0)=0.6, p(1)=0.35; p(0)= 0.65$,  \n",
    "计算观测序列“aba”的出现概率。"
   ]
  },
  {
   "cell_type": "markdown",
   "metadata": {
    "slideshow": {
     "slide_type": "subslide"
    }
   },
   "source": [
    "**解：**"
   ]
  },
  {
   "cell_type": "markdown",
   "metadata": {},
   "source": [
    "$$\n",
    "p(\"aba\") = p(\"aba\"|\"ab\")p(\"ab\")=p(\"aba\"|\"ab\")p(\"ab\"|\"a\")p(\"a\")\n",
    "$$"
   ]
  },
  {
   "cell_type": "markdown",
   "metadata": {
    "slideshow": {
     "slide_type": "slide"
    }
   },
   "source": [
    "7. （15分）阐述mercer定理及其在模式识别中的意义。"
   ]
  },
  {
   "cell_type": "markdown",
   "metadata": {
    "slideshow": {
     "slide_type": "subslide"
    }
   },
   "source": [
    "**解：**"
   ]
  },
  {
   "cell_type": "markdown",
   "metadata": {
    "slideshow": {
     "slide_type": "slide"
    }
   },
   "source": [
    "8. （15分）已知四个样本具有三个特征，分别为：\n",
    "\\begin{align}\n",
    "v_1 &= [0.15, 0.19, 0.79, 0.06]^\\top \\\\\n",
    "v_2 &= [0.39, 0.30, 0.73, 0.10]^\\top \\\\\n",
    "v_3 &= [1.08, 0.99, 3.05, 0.33]^\\top\n",
    "\\end{align}\n",
    "计算其协方差矩阵，并对其进行主分量，并对结果进行分析。"
   ]
  },
  {
   "cell_type": "markdown",
   "metadata": {
    "slideshow": {
     "slide_type": "subslide"
    }
   },
   "source": [
    "**解：**"
   ]
  },
  {
   "cell_type": "markdown",
   "metadata": {},
   "source": [
    "令$V = \\left[\\begin{array}{}\n",
    "v_1^{\\top}\\\\\n",
    "v_2^{\\top}\\\\\n",
    "v_3^{\\top}\n",
    "\\end{array}\\right] = \n",
    "\\left[\\begin{array}{}\n",
    "0.15&0.19&0.79&0.06\\\\\n",
    "0.39&0.30&0.73&0.10\\\\\n",
    "1.08&0.99&3.05&0.33\n",
    "\\end{array}\\right]$, 则$E(V)=\\left[\\begin{array}{}\n",
    "0.2975\\\\\n",
    "0.38\\\\\n",
    "1.3625\n",
    "\\end{array}\\right], V-E(V)=\\left[\\begin{array}{}\n",
    "-0.1475&-0.1075&0.4925&-0.2\\\\\n",
    " 0.01& -0.08& 0.35&-0.28 \\\\\n",
    "-0.2825&-0.3725&1.6875&-1.0325\n",
    "\\end{array}\\right]$,\n",
    "\n",
    "所以协方差矩阵\n",
    "\\begin{align}\n",
    "C(v_1, v_2, v_3)&=\\frac{1}{n}(V-E(V)^{\\top}(V-E(V)))\\\\\n",
    "&=\\frac{1}{3}\\left[\\begin{array}{}\n",
    "-0.1475&-0.1075&0.4925&-0.2\\\\\n",
    " 0.01& -0.08& 0.35&-0.28 \\\\\n",
    "-0.2825&-0.3725&1.6875&-1.0325\n",
    "\\end{array}\\right]^{\\top}\n",
    "\\left[\\begin{array}{}\n",
    "-0.1475&-0.1075&0.4925&-0.2\\\\\n",
    " 0.01& -0.08& 0.35&-0.28 \\\\\n",
    "-0.2825&-0.3725&1.6875&-1.0325\n",
    "\\end{array}\\right]\\\\\n",
    "&=\\left[\\begin{array}{}\n",
    "0.11075833&0.082&0.38600833\\\\\n",
    "0.082&0.06913333&0.30223333\\\\\n",
    "0.38600833&0.30223333&1.377425  \n",
    "\\end{array}\\right]\n",
    "\\end{align}"
   ]
  },
  {
   "cell_type": "code",
   "execution_count": 63,
   "metadata": {
    "hideCode": false,
    "hideOutput": false,
    "hidePrompt": false
   },
   "outputs": [
    {
     "name": "stdout",
     "output_type": "stream",
     "text": [
      "V MEAN:\n",
      " [[0.2975]\n",
      " [0.38  ]\n",
      " [1.3625]]\n",
      "V:\n",
      " [[0.15 0.19 0.79 0.06]\n",
      " [0.39 0.3  0.73 0.1 ]\n",
      " [1.08 0.99 3.05 0.33]]\n",
      "V-M:\n",
      " [[-0.1475 -0.1075  0.4925 -0.2375]\n",
      " [ 0.01   -0.08    0.35   -0.28  ]\n",
      " [-0.2825 -0.3725  1.6875 -1.0325]]\n",
      "V-SUM:\n",
      " [[0.332275 0.246    1.158025]\n",
      " [0.246    0.2074   0.9067  ]\n",
      " [1.158025 0.9067   4.132275]]\n",
      "cov:\n",
      " [[0.11075833 0.082      0.38600833]\n",
      " [0.082      0.06913333 0.30223333]\n",
      " [0.38600833 0.30223333 1.377425  ]]\n"
     ]
    },
    {
     "data": {
      "text/plain": [
       "array([[0.11075833, 0.082     , 0.38600833],\n",
       "       [0.082     , 0.06913333, 0.30223333],\n",
       "       [0.38600833, 0.30223333, 1.377425  ]])"
      ]
     },
     "execution_count": 63,
     "metadata": {},
     "output_type": "execute_result"
    }
   ],
   "source": [
    "import numpy as np\n",
    "\n",
    "v1 = np.array([0.15,0.19,0.79,0.06]).reshape(1,-1)\n",
    "v2 = np.array([0.39,0.30,0.73,0.10]).reshape(1,-1)\n",
    "v3 = np.array([1.08,0.99,3.05,0.33]).reshape(1,-1)\n",
    "\n",
    "V = np.vstack([v1, v2, v3])\n",
    "\n",
    "print(\"V MEAN:\\n\", V.mean(axis=1).reshape(-1, 1))\n",
    "\n",
    "print(\"V:\\n\", V)\n",
    "\n",
    "VM = V - V.mean(axis=1).reshape(-1, 1)\n",
    "print(\"V-M:\\n\", VM)\n",
    "\n",
    "Sum = VM.dot(VM.T)\n",
    "print(\"V-SUM:\\n\", Sum)\n",
    "\n",
    "print(\"cov:\\n\", Sum/VM.shape[0])\n",
    "\n",
    "np.cov(V)"
   ]
  },
  {
   "cell_type": "markdown",
   "metadata": {
    "slideshow": {
     "slide_type": "slide"
    }
   },
   "source": [
    "9. （15分）请写出模式识别系统的主要系统组成，阐述各部分的功能及主要方法。"
   ]
  },
  {
   "cell_type": "markdown",
   "metadata": {
    "slideshow": {
     "slide_type": "slide"
    }
   },
   "source": [
    "**解：**"
   ]
  }
 ],
 "metadata": {
  "kernelspec": {
   "display_name": "dot",
   "language": "",
   "name": "dot_kernel_spec"
  },
  "language_info": {
   "file_extension": ".gv",
   "mimetype": "text/plain",
   "name": "dot"
  }
 },
 "nbformat": 4,
 "nbformat_minor": 2
}
