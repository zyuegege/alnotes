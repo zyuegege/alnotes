{
 "cells": [
  {
   "cell_type": "markdown",
   "metadata": {},
   "source": [
    "# 抽烟行为检测"
   ]
  },
  {
   "cell_type": "markdown",
   "metadata": {},
   "source": [
    "---"
   ]
  },
  {
   "cell_type": "markdown",
   "metadata": {},
   "source": [
    "## 目录"
   ]
  },
  {
   "cell_type": "markdown",
   "metadata": {},
   "source": [
    "- [简介](#简介)\n",
    "- [数据](#数据)"
   ]
  },
  {
   "cell_type": "markdown",
   "metadata": {},
   "source": [
    "## 简介"
   ]
  },
  {
   "cell_type": "markdown",
   "metadata": {},
   "source": [
    "## 数据"
   ]
  },
  {
   "cell_type": "markdown",
   "metadata": {},
   "source": [
    "### 抽烟视频"
   ]
  },
  {
   "cell_type": "code",
   "execution_count": 21,
   "metadata": {},
   "outputs": [],
   "source": [
    "from ipywidgets import interact\n",
    "from matplotlib import pyplot as plt\n",
    "import ffmpeg\n",
    "import ipywidgets as widgets\n",
    "import numpy as np\n",
    "import cv2\n",
    "\n",
    "from IPython.display import display, Image, clear_output"
   ]
  },
  {
   "cell_type": "code",
   "execution_count": 32,
   "metadata": {},
   "outputs": [],
   "source": [
    "path = \"/media/alvin/资料/我的文档/数据资料/数据集/smoking/presenceDetection_DingAnHua.mp4\"\n",
    "\n",
    "# path = '/media/alvin/资料/我的文档/数据资料/数据集/smoking/自拍抽烟数据/4f3fa7321577b56952533ffa528312ab.mp4'"
   ]
  },
  {
   "cell_type": "code",
   "execution_count": 33,
   "metadata": {},
   "outputs": [
    {
     "name": "stdout",
     "output_type": "stream",
     "text": [
      "2048 1536\n",
      "index 0\n",
      "codec_name hevc\n",
      "codec_long_name H.265 / HEVC (High Efficiency Video Coding)\n",
      "profile Main\n",
      "codec_type video\n",
      "codec_time_base 1/50\n",
      "codec_tag_string [0][0][0][0]\n",
      "codec_tag 0x0000\n",
      "width 2048\n",
      "height 1536\n",
      "coded_width 2048\n",
      "coded_height 1536\n",
      "has_b_frames 0\n",
      "sample_aspect_ratio 0:1\n",
      "display_aspect_ratio 0:1\n",
      "pix_fmt yuv420p\n",
      "level 153\n",
      "color_range tv\n",
      "refs 1\n",
      "id 0x1e0\n",
      "r_frame_rate 25/1\n",
      "avg_frame_rate 50/1\n",
      "time_base 1/90000\n",
      "start_pts 6831035048\n",
      "start_time 75900.389422\n",
      "duration_ts 137954970\n",
      "duration 1532.833000\n",
      "disposition {'default': 0, 'dub': 0, 'original': 0, 'comment': 0, 'lyrics': 0, 'karaoke': 0, 'forced': 0, 'hearing_impaired': 0, 'visual_impaired': 0, 'clean_effects': 0, 'attached_pic': 0, 'timed_thumbnails': 0}\n"
     ]
    }
   ],
   "source": [
    "probe = ffmpeg.probe(path)\n",
    "video_info = next(s for s in probe['streams'] if s['codec_type'] == 'video')\n",
    "width = int(video_info['width'])\n",
    "height = int(video_info['height'])\n",
    "\n",
    "print(width, height)\n",
    "for k in video_info:\n",
    "    print(k, video_info[k])"
   ]
  },
  {
   "cell_type": "code",
   "execution_count": null,
   "metadata": {},
   "outputs": [],
   "source": [
    "%matplotlib inline\n",
    "# width, height = (300, 400)\n",
    "from copy import deepcopy\n",
    "import base64\n",
    "import time\n",
    "\n",
    "process1 = (\n",
    "    ffmpeg\n",
    "    .input(path)\n",
    "    .output('pipe:', format='rawvideo', pix_fmt='rgb24')\n",
    "    .run_async(pipe_stdout=True)\n",
    ")\n",
    "\n",
    "\n",
    "while True:\n",
    "    in_bytes = process1.stdout.read(width * height * 3)\n",
    "    if not in_bytes:\n",
    "        break\n",
    "    in_frame = (\n",
    "        np\n",
    "        .frombuffer(in_bytes, np.uint8)\n",
    "        .reshape([height, width, 3])\n",
    "    )\n",
    "    print(in_frame.shape)\n",
    "    \n",
    "process1.wait()"
   ]
  },
  {
   "cell_type": "code",
   "execution_count": 36,
   "metadata": {},
   "outputs": [],
   "source": [
    "def video_format(in_file, out_file, fmt=\"mp4\", pix_fmt=\"yuv420p\", vcodec='h264'):\n",
    "    return (ffmpeg.input(in_file)\n",
    "            .output(out_file, format=fmt, pix_fmt=pix_fmt, vcodec=vcodec)\n",
    "            .run())"
   ]
  },
  {
   "cell_type": "code",
   "execution_count": 41,
   "metadata": {},
   "outputs": [
    {
     "data": {
      "text/plain": [
       "(None, None)"
      ]
     },
     "execution_count": 41,
     "metadata": {},
     "output_type": "execute_result"
    }
   ],
   "source": [
    "path = \"/media/alvin/资料/我的文档/数据资料/数据集/smoking/pad_smoking_detect.avi\"\n",
    "out_path = \"/media/alvin/资料/我的文档/数据资料/数据集/smoking/pad_smoking_detect_1.mp4\"\n",
    "\n",
    "\n",
    "video_format(path, out_path, vcodec=\"h264\")\n",
    "\n",
    "\n"
   ]
  },
  {
   "cell_type": "markdown",
   "metadata": {},
   "source": [
    "### 自拍数据裁剪"
   ]
  },
  {
   "cell_type": "code",
   "execution_count": 40,
   "metadata": {},
   "outputs": [
    {
     "name": "stdout",
     "output_type": "stream",
     "text": [
      "/opt/git/__faceboxes-master\n"
     ]
    }
   ],
   "source": [
    "cd /opt/git/__faceboxes-master"
   ]
  },
  {
   "cell_type": "code",
   "execution_count": 3,
   "metadata": {},
   "outputs": [],
   "source": [
    "from __future__ import division\n",
    "import torch\n",
    "import cv2\n",
    "\n",
    "from networks import FaceBox\n",
    "from encoderl import DataEncoder\n",
    "import torch.nn.functional as F\n",
    "\n",
    "from yuetools.utils import model_inference, crop_box_compute\n",
    "\n",
    "\n",
    "# def model_inference(model, use_gpu=True):\n",
    "#     if use_gpu is True:\n",
    "#         model = model.cuda()\n",
    "#     model.eval()\n",
    "#     def wrapper(func):\n",
    "#         def inner_wrapper(input):\n",
    "#             if use_gpu is True:\n",
    "#                 input = input.cuda()\n",
    "#             return func(model(input))\n",
    "#         return inner_wrapper\n",
    "#     return wrapper\n",
    "\n",
    "\n",
    "def encoder():\n",
    "    en = DataEncoder()\n",
    "    def wrapper(func):\n",
    "        def inner_wrapper(im):\n",
    "            loc, conf = func(im)\n",
    "            loc, conf = loc.cpu(), conf.cpu()\n",
    "            \n",
    "            try:\n",
    "                boxes, labels, probs = en.decode(\n",
    "                    loc.data.squeeze(0),\n",
    "                    F.softmax(conf.squeeze(0), dim=1))\n",
    "            except:\n",
    "                print(loc.data.squeeze(0).shape, conf.squeeze(0).shape)\n",
    "                boxes, labels, probs = en.decode(\n",
    "                    loc.data.squeeze(0),\n",
    "                    F.softmax(conf.squeeze(0), dim=1))\n",
    "            return boxes, probs\n",
    "        return inner_wrapper\n",
    "    return wrapper\n",
    "\n",
    "\n",
    "def load_model():\n",
    "    net = FaceBox()\n",
    "    net.load_state_dict(\n",
    "        torch.load('ckpt/faceboxes.pt', \n",
    "                   map_location=lambda storage, loc:storage))\n",
    "    return net\n",
    "    \n",
    "    \n",
    "model=load_model()\n",
    "\n",
    "@model_inference(model=model, use_gpu=True)\n",
    "def process_image(im):\n",
    "    return im\n",
    "\n",
    "@encoder()\n",
    "def faces_extract(im):\n",
    "    im = cv2.resize(im, (1024,1024))\n",
    "    im = torch.from_numpy(im.transpose((2,0,1))).float().div(255).unsqueeze(0).cuda()\n",
    "    return process_image(im)\n",
    "\n",
    "# def crop_box_compute(shape, box):\n",
    "#     (h,w) = shape\n",
    "#     x1 = int(box[0]*w)\n",
    "#     x2 = int(box[2]*w)\n",
    "#     y1 = int(box[1]*h)\n",
    "#     y2 = int(box[3]*h)\n",
    "#     return x1, x2, y1, y2\n",
    "\n",
    "\n",
    "def video_faces(video, sample_fps=10):\n",
    "    cap = cv2.VideoCapture(video)\n",
    "    fps = int(cap.get(cv2.CAP_PROP_FPS))\n",
    "    \n",
    "    assert(sample_fps>0)\n",
    "    print(sample_fps)\n",
    "    \n",
    "    if not cap.isOpened():\n",
    "        print(\"video cann't open\")\n",
    "\n",
    "    _, frame = cap.read()\n",
    "    shape = frame.shape[0:2]\n",
    "\n",
    "    i = 0\n",
    "    while (True):\n",
    "        ret,im = cap.read()\n",
    "        i += 1\n",
    "        \n",
    "        if i % sample_fps != 0:\n",
    "            continue\n",
    "            \n",
    "        if ret:\n",
    "            boxes, probs = faces_extract(im)\n",
    "\n",
    "            # for box in boxes:\n",
    "            for i, (box) in enumerate(boxes):\n",
    "                if bool(probs[i]>0.5):\n",
    "                    (x1, x2, y1, y2) = crop_box_compute(shape, box)\n",
    "                    yield im, (x1, x2, y1, y2)\n",
    "                    \n",
    "            cv2.waitKey(1)\n",
    "        else:\n",
    "            break\n",
    "    cap.release()  # 关闭相机"
   ]
  },
  {
   "cell_type": "code",
   "execution_count": 18,
   "metadata": {
    "scrolled": true
   },
   "outputs": [],
   "source": [
    "%matplotlib inline\n",
    "\n",
    "import os\n",
    "import os.path\n",
    "import matplotlib.pyplot as plt\n",
    "import tqdm \n",
    "import cv2\n",
    "import shutil\n",
    "\n",
    "\n",
    "def video_faces_detect(video_path, sample_fps=1, filt=False):\n",
    "    result_save_root = os.path.splitext(video_path)[0]\n",
    "\n",
    "    if os.path.exists(result_save_root) is not True:\n",
    "        os.makedirs(result_save_root)\n",
    "    else:\n",
    "        shutil.rmtree(result_save_root)\n",
    "        os.makedirs(result_save_root)\n",
    "\n",
    "    for i, (im, (x1, x2, y1, y2)) in tqdm.tqdm(enumerate(video_faces(video_path, sample_fps=sample_fps))):\n",
    "        w = x2-x1\n",
    "        h = y2-y1\n",
    "        if filt is True:\n",
    "            if h <= 35 and w <=35:\n",
    "                continue\n",
    "        im_save_path = os.path.join(result_save_root, \"{:d}.jpg\".format(i))\n",
    "        im = im[y1:y2+1,x1:x2+1,:]\n",
    "        cv2.imwrite(im_save_path, im)"
   ]
  },
  {
   "cell_type": "code",
   "execution_count": 20,
   "metadata": {},
   "outputs": [
    {
     "name": "stderr",
     "output_type": "stream",
     "text": [
      "1it [00:00,  9.68it/s]"
     ]
    },
    {
     "name": "stdout",
     "output_type": "stream",
     "text": [
      "1\n"
     ]
    },
    {
     "name": "stderr",
     "output_type": "stream",
     "text": [
      "6424it [02:01, 52.74it/s]\n"
     ]
    }
   ],
   "source": [
    "video_root = '/media/alvin/资料/我的文档/数据资料/数据集/smoking/smoking_split.mp4'\n",
    "video_faces_detect(video_root,sample_fps=3)"
   ]
  },
  {
   "cell_type": "code",
   "execution_count": null,
   "metadata": {},
   "outputs": [],
   "source": [
    "import os.path\n",
    "\n",
    "\n",
    "video_root = '/media/alvin/资料/我的文档/数据资料/数据集/smoking/自拍抽烟数据/train'\n",
    "\n",
    "_,_, files = next(os.walk(video_root))\n",
    "\n",
    "\n",
    "video_paths = [os.path.join(video_root, file) for file in files if os.path.splitext(file)[-1] in [\".mp4\"]]\n",
    "\n",
    "for video_path in video_paths:\n",
    "    print(\"processing:\", os.path.split(video_path)[-1], end=\" \")\n",
    "    \n",
    "    video_faces_detect(video_path)"
   ]
  },
  {
   "cell_type": "code",
   "execution_count": 9,
   "metadata": {},
   "outputs": [
    {
     "name": "stdout",
     "output_type": "stream",
     "text": [
      "/media/alvin/资料/我的文档/数据资料/数据集/smoking/自拍抽烟数据/2/4f3fa7321577b56952533ffa528312ab/0.jpg\n"
     ]
    },
    {
     "data": {
      "text/plain": [
       "<matplotlib.image.AxesImage at 0x7fcb1f3cbe80>"
      ]
     },
     "execution_count": 9,
     "metadata": {},
     "output_type": "execute_result"
    },
    {
     "data": {
      "image/png": "[encoded data removed]",
      "text/plain": [
       "<Figure size 432x288 with 1 Axes>"
      ]
     },
     "metadata": {
      "needs_background": "light"
     },
     "output_type": "display_data"
    }
   ],
   "source": [
    "import matplotlib.pyplot as plt\n",
    "import cv2\n",
    "\n",
    "idx = 0\n",
    "\n",
    "video_path = '/media/alvin/资料/我的文档/数据资料/数据集/smoking/自拍抽烟数据/train/4f3fa7321577b56952533ffa528312ab.mp4'\n",
    "\n",
    "result_save_root = os.path.splitext(video_path)[0]\n",
    "im_read_path = os.path.join(result_save_root, \"{:d}.jpg\".format(idx))\n",
    "\n",
    "print(im_read_path)\n",
    "\n",
    "im = cv2.imread(im_read_path, cv2.IMREAD_UNCHANGED)\n",
    "im = cv2.cvtColor(im,cv2.COLOR_BGR2RGB)\n",
    "\n",
    "\n",
    "plt.imshow(im)"
   ]
  },
  {
   "cell_type": "code",
   "execution_count": 16,
   "metadata": {},
   "outputs": [],
   "source": [
    "%matplotlib inline\n",
    "\n",
    "import os\n",
    "import os.path\n",
    "import matplotlib.pyplot as plt\n",
    "import tqdm \n",
    "import cv2\n",
    "import shutil\n",
    "\n",
    "def video_file_faces_detect(root, file, label, sample_fps=1):\n",
    "    video_file = os.path.join(video_root, file+\".mp4\")\n",
    "    \n",
    "    save_path = os.path.join(video_root, str(label))\n",
    "    if os.path.exists(save_path) is not True:\n",
    "        os.makedirs(save_path)\n",
    "\n",
    "    for i, (im, (x1, x2, y1, y2)) in tqdm.tqdm(enumerate(video_faces(video_file, sample_fps=sample_fps))):\n",
    "        w = x2-x1\n",
    "        h = y2-y1\n",
    "        if h <= 45 and w <=45:\n",
    "            continue\n",
    "        im_save_path = os.path.join(save_path, \"{file}_{index:d}.jpg\".format(index=i, file=file))\n",
    "        im = im[y1:y2+1,x1:x2+1,:]\n",
    "        cv2.imwrite(im_save_path, im)"
   ]
  },
  {
   "cell_type": "code",
   "execution_count": 17,
   "metadata": {},
   "outputs": [
    {
     "name": "stderr",
     "output_type": "stream",
     "text": [
      "7it [00:00, 61.46it/s]"
     ]
    },
    {
     "name": "stdout",
     "output_type": "stream",
     "text": [
      "processing: 5a1702d3a0685a37ea6b1e088fcdfb0f\n",
      "4\n"
     ]
    },
    {
     "name": "stderr",
     "output_type": "stream",
     "text": [
      "356it [00:04, 79.75it/s]\n",
      "7it [00:00, 69.31it/s]"
     ]
    },
    {
     "name": "stdout",
     "output_type": "stream",
     "text": [
      "processing: e4493e2849adefdfcefed328aa995ddc\n",
      "4\n"
     ]
    },
    {
     "name": "stderr",
     "output_type": "stream",
     "text": [
      "330it [00:04, 81.34it/s]\n",
      "7it [00:00, 68.02it/s]"
     ]
    },
    {
     "name": "stdout",
     "output_type": "stream",
     "text": [
      "processing: 1a55f70cd06d624cdddd4c792626e801\n",
      "5\n"
     ]
    },
    {
     "name": "stderr",
     "output_type": "stream",
     "text": [
      "231it [00:02, 77.76it/s]\n",
      "7it [00:00, 67.88it/s]"
     ]
    },
    {
     "name": "stdout",
     "output_type": "stream",
     "text": [
      "processing: a0e7f90312dece2a3a60630af6ef3f94\n",
      "5\n"
     ]
    },
    {
     "name": "stderr",
     "output_type": "stream",
     "text": [
      "214it [00:02, 74.47it/s]\n",
      "7it [00:00, 67.07it/s]"
     ]
    },
    {
     "name": "stdout",
     "output_type": "stream",
     "text": [
      "processing: aa045d54da0968f51a72d967ede68e0b\n",
      "5\n"
     ]
    },
    {
     "name": "stderr",
     "output_type": "stream",
     "text": [
      "224it [00:03, 67.68it/s]\n",
      "7it [00:00, 68.05it/s]"
     ]
    },
    {
     "name": "stdout",
     "output_type": "stream",
     "text": [
      "processing: ff7233c59d36f5e410ae9d137c4c9afe\n",
      "5\n"
     ]
    },
    {
     "name": "stderr",
     "output_type": "stream",
     "text": [
      "226it [00:03, 69.36it/s]\n"
     ]
    }
   ],
   "source": [
    "import os.path\n",
    "import json\n",
    "from yuetools.utils import load_json\n",
    "\n",
    "video_root = '/media/alvin/资料/我的文档/数据资料/数据集/smoking/自拍抽烟数据/val'\n",
    "\n",
    "label_path = os.path.join(video_root, \"labels.json\")\n",
    "\n",
    "# with open(label_path) as f:\n",
    "#     label_data = f.read()\n",
    "    \n",
    "    \n",
    "# data_dict = json.loads(label_data)\n",
    "\n",
    "data_dict = load_json(label_path)\n",
    "\n",
    "data_dict[\"0\"]\n",
    "\n",
    "for file in data_dict[\"0\"]:\n",
    "    print(\"processing:\", file)\n",
    "    video_file_faces_detect(video_root, file, 0 , sample_fps=4)\n",
    "\n",
    "    \n",
    "for file in data_dict[\"1\"]:\n",
    "    print(\"processing:\", file)\n",
    "    video_file_faces_detect(video_root, file, 1 , sample_fps=5)\n",
    "    "
   ]
  },
  {
   "cell_type": "code",
   "execution_count": 14,
   "metadata": {},
   "outputs": [
    {
     "name": "stdout",
     "output_type": "stream",
     "text": [
      "train\n",
      "0\n",
      "1\n",
      "val\n",
      "0\n",
      "1\n"
     ]
    }
   ],
   "source": [
    "import os\n",
    "import os.path\n",
    "\n",
    "data_root =  '/media/alvin/资料/我的文档/数据资料/数据集/smoking/自拍抽烟数据/'\n",
    "\n",
    "for phase in [\"train\", \"val\"]:\n",
    "    print(phase)\n",
    "    phase_root = os.path.join(data_root, phase)\n",
    "    for i in range(2):\n",
    "        print(i)\n",
    "        image_root = os.path.join(phase_root, str(i))\n",
    "        for file in os.listdir(image_root):\n",
    "            file = os.path.join(image_root, file)\n",
    "            if os.stat(file).st_size == 0:\n",
    "                os.remove(file)\n",
    "                print(file)\n",
    "#             print(os.stat(file).st_size)\n"
   ]
  },
  {
   "cell_type": "code",
   "execution_count": null,
   "metadata": {},
   "outputs": [],
   "source": []
  },
  {
   "cell_type": "code",
   "execution_count": null,
   "metadata": {},
   "outputs": [],
   "source": []
  }
 ],
 "metadata": {
  "kernelspec": {
   "display_name": "Python 3",
   "language": "python",
   "name": "python3"
  },
  "language_info": {
   "codemirror_mode": {
    "name": "ipython",
    "version": 3
   },
   "file_extension": ".py",
   "mimetype": "text/x-python",
   "name": "python",
   "nbconvert_exporter": "python",
   "pygments_lexer": "ipython3",
   "version": "3.6.8"
  }
 },
 "nbformat": 4,
 "nbformat_minor": 2
}
